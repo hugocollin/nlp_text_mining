{
 "cells": [
  {
   "cell_type": "markdown",
   "metadata": {},
   "source": [
    "# Importation et inspection des données avis_restaurants.csv"
   ]
  },
  {
   "cell_type": "code",
   "execution_count": 2,
   "metadata": {},
   "outputs": [
    {
     "ename": "ModuleNotFoundError",
     "evalue": "No module named 'db'",
     "output_type": "error",
     "traceback": [
      "\u001b[1;31m---------------------------------------------------------------------------\u001b[0m",
      "\u001b[1;31mModuleNotFoundError\u001b[0m                       Traceback (most recent call last)",
      "Cell \u001b[1;32mIn[2], line 1\u001b[0m\n\u001b[1;32m----> 1\u001b[0m \u001b[38;5;28;01mfrom\u001b[39;00m \u001b[38;5;21;01mdb\u001b[39;00m\u001b[38;5;21;01m.\u001b[39;00m\u001b[38;5;21;01mmodels\u001b[39;00m \u001b[38;5;28;01mimport\u001b[39;00m get_user_and_review_from_restaurant_id \n\u001b[0;32m      2\u001b[0m \u001b[38;5;28;01mfrom\u001b[39;00m \u001b[38;5;21;01mdb\u001b[39;00m\u001b[38;5;21;01m.\u001b[39;00m\u001b[38;5;21;01mmodels\u001b[39;00m \u001b[38;5;28;01mimport\u001b[39;00m get_all_restaurants\n\u001b[0;32m      4\u001b[0m \u001b[38;5;66;03m# Connexion à la base de données\u001b[39;00m\n",
      "\u001b[1;31mModuleNotFoundError\u001b[0m: No module named 'db'"
     ]
    }
   ],
   "source": [
    "from db.models import get_user_and_review_from_restaurant_id \n",
    "from db.models import get_all_restaurants\n",
    "\n",
    "# Connexion à la base de données\n",
    "engine = create_engine('sqlite:///restaurant_reviews.db')\n",
    "Session = sessionmaker(bind=engine)\n",
    "session = Session()\n",
    "\n",
    "restaurants = get_all_restaurants(session)\n",
    "\n",
    "for restaurant in restaurants:\n",
    "    avis_restaurants = get_user_and_review_from_restaurant_id(session, restaurant.id_restaurant)"
   ]
  },
  {
   "cell_type": "code",
   "execution_count": null,
   "metadata": {},
   "outputs": [],
   "source": [
    "print(avis_restaurants.info())"
   ]
  },
  {
   "cell_type": "code",
   "execution_count": 69,
   "metadata": {},
   "outputs": [
    {
     "name": "stdout",
     "output_type": "stream",
     "text": [
      "               user      user_profile       date_review  \\\n",
      "0            Fred S      fredsX5996LQ  15 décembre 2024   \n",
      "1  Guide38409630404  Guide38409630404  27 novembre 2024   \n",
      "2         Chartin M          chartinm  20 novembre 2024   \n",
      "3      Axelfoley009      Axelfoley009  18 novembre 2024   \n",
      "4          Karine P     karinepU103AS  13 novembre 2024   \n",
      "\n",
      "                                  title  rating type_visit  num_contributions  \\\n",
      "0                 Très belle expérience     5.0     family                  8   \n",
      "1  Déjeuner au Frazarin, que du bonheur     5.0    friends                  1   \n",
      "2         La perfection tout simplement     5.0    couples                  4   \n",
      "3              Plat frais et de qualité     5.0    couples                 38   \n",
      "4                             très bien     5.0   business                  1   \n",
      "\n",
      "                                              review  \\\n",
      "0  Ambiance soignée, patrons amicaux et donnant t...   \n",
      "1  Vous voulez bien manger, alors allez dans ce r...   \n",
      "2  Tout simplement parfait de l’entrée au dessert...   \n",
      "3  Belle soirée passée au Frazarin. Certainement ...   \n",
      "4  Très bon restaurant ! j'ai adoré le service et...   \n",
      "\n",
      "                        restaurant  \n",
      "0  Frazarin Bistrot Franco Italien  \n",
      "1  Frazarin Bistrot Franco Italien  \n",
      "2  Frazarin Bistrot Franco Italien  \n",
      "3  Frazarin Bistrot Franco Italien  \n",
      "4  Frazarin Bistrot Franco Italien  \n"
     ]
    }
   ],
   "source": [
    "import pandas as pd\n",
    "# Charger les données\n",
    "#avis_restaurants = pd.read_csv('D:/M2 SISE/Text Mining ou NLP/Projet/nlp_text_mining/Data/avis_restaurants.csv', sep=';') \n",
    "\n",
    "# Aperçu des données\n",
    "#print(avis_restaurants.head())"
   ]
  },
  {
   "cell_type": "code",
   "execution_count": 70,
   "metadata": {},
   "outputs": [
    {
     "name": "stdout",
     "output_type": "stream",
     "text": [
      "<class 'pandas.core.frame.DataFrame'>\n",
      "RangeIndex: 4125 entries, 0 to 4124\n",
      "Data columns (total 9 columns):\n",
      " #   Column             Non-Null Count  Dtype  \n",
      "---  ------             --------------  -----  \n",
      " 0   user               4125 non-null   object \n",
      " 1   user_profile       4125 non-null   object \n",
      " 2   date_review        4125 non-null   object \n",
      " 3   title              4125 non-null   object \n",
      " 4   rating             4125 non-null   float64\n",
      " 5   type_visit         4125 non-null   object \n",
      " 6   num_contributions  4125 non-null   int64  \n",
      " 7   review             4125 non-null   object \n",
      " 8   restaurant         4125 non-null   object \n",
      "dtypes: float64(1), int64(1), object(7)\n",
      "memory usage: 290.2+ KB\n",
      "None\n"
     ]
    }
   ],
   "source": [
    "print(avis_restaurants.info())"
   ]
  },
  {
   "cell_type": "markdown",
   "metadata": {},
   "source": [
    "# Nettoyage des avis"
   ]
  },
  {
   "cell_type": "markdown",
   "metadata": {},
   "source": [
    "Inclure des étapes pour retirer les caractères inutiles, convertir en minuscules, supprimer les stopwords, etc."
   ]
  },
  {
   "cell_type": "code",
   "execution_count": 71,
   "metadata": {},
   "outputs": [],
   "source": [
    "import re\n",
    "import nltk\n",
    "from nltk.corpus import stopwords\n",
    "from nltk.tokenize import word_tokenize\n",
    "from nltk.stem import WordNetLemmatizer\n",
    "lemmatizer = WordNetLemmatizer()"
   ]
  },
  {
   "cell_type": "code",
   "execution_count": 72,
   "metadata": {},
   "outputs": [],
   "source": [
    "def nettoyer_avis(avis):\n",
    "    # Retirer les caractères spéciaux et convertir en minuscules\n",
    "    avis = avis.lower()\n",
    "    avis = re.sub(r'[^\\w\\s]', '', avis)\n",
    "    \n",
    "    # retirer les chiffres\n",
    "    avis = re.sub(r'[0-9]', '', avis)\n",
    "    \n",
    "    # Tokenisation\n",
    "    tokens = word_tokenize(avis)\n",
    "    \n",
    "    # lematisation\n",
    "    tokens = [lemmatizer.lemmatize(word) for word in tokens]\n",
    "    \n",
    "    # Retirer les stopwords\n",
    "    tokens = [word for word in tokens if word not in stopwords.words('french')]\n",
    "    \n",
    "    # retirer les termes de moins de 3 caractères\n",
    "    tokens = [word for word in tokens if len(word) > 2]\n",
    "    \n",
    "    return ' '.join(tokens)"
   ]
  },
  {
   "cell_type": "code",
   "execution_count": 73,
   "metadata": {},
   "outputs": [
    {
     "name": "stdout",
     "output_type": "stream",
     "text": [
      "                                              review  \\\n",
      "0  Ambiance soignée, patrons amicaux et donnant t...   \n",
      "1  Vous voulez bien manger, alors allez dans ce r...   \n",
      "2  Tout simplement parfait de l’entrée au dessert...   \n",
      "3  Belle soirée passée au Frazarin. Certainement ...   \n",
      "4  Très bon restaurant ! j'ai adoré le service et...   \n",
      "\n",
      "                                      review_cleaned  \n",
      "0  ambiance soignée patron amicaux donnant toutes...  \n",
      "1  voulez bien manger alors allez restaurant tout...  \n",
      "2  tout simplement parfait lentrée dessert passan...  \n",
      "3  belle soirée passée frazarin certainement enco...  \n",
      "4  très bon restaurant jai adoré service loffre r...  \n"
     ]
    }
   ],
   "source": [
    "# Appliquer le nettoyage à la colonne 'review'\n",
    "avis_restaurants['review_cleaned'] = avis_restaurants['review'].apply(nettoyer_avis)\n",
    "print(avis_restaurants[['review', 'review_cleaned']].head())"
   ]
  },
  {
   "cell_type": "markdown",
   "metadata": {},
   "source": [
    "# Création de représentations textuelles"
   ]
  },
  {
   "cell_type": "markdown",
   "metadata": {},
   "source": [
    "Transforme les avis en vecteurs numériques pour les modèles."
   ]
  },
  {
   "cell_type": "markdown",
   "metadata": {},
   "source": [
    "## Bag of Words"
   ]
  },
  {
   "cell_type": "code",
   "execution_count": 74,
   "metadata": {},
   "outputs": [
    {
     "name": "stdout",
     "output_type": "stream",
     "text": [
      "[[0 0 0 ... 0 0 0]\n",
      " [0 0 0 ... 0 0 0]\n",
      " [0 0 0 ... 0 0 0]\n",
      " ...\n",
      " [0 0 0 ... 0 0 0]\n",
      " [0 0 0 ... 0 0 0]\n",
      " [0 0 0 ... 0 0 0]]\n"
     ]
    }
   ],
   "source": [
    "from sklearn.feature_extraction.text import CountVectorizer\n",
    "\n",
    "# Vectorisation BoW\n",
    "vectorizer = CountVectorizer(max_features=500)  # Limiter à 500 mots les plus fréquents\n",
    "X_bow = vectorizer.fit_transform(avis_restaurants['review_cleaned'])\n",
    "print(X_bow.toarray())\n"
   ]
  },
  {
   "cell_type": "markdown",
   "metadata": {},
   "source": [
    "## TF-IDF"
   ]
  },
  {
   "cell_type": "code",
   "execution_count": 75,
   "metadata": {},
   "outputs": [
    {
     "name": "stdout",
     "output_type": "stream",
     "text": [
      "[[0. 0. 0. ... 0. 0. 0.]\n",
      " [0. 0. 0. ... 0. 0. 0.]\n",
      " [0. 0. 0. ... 0. 0. 0.]\n",
      " ...\n",
      " [0. 0. 0. ... 0. 0. 0.]\n",
      " [0. 0. 0. ... 0. 0. 0.]\n",
      " [0. 0. 0. ... 0. 0. 0.]]\n"
     ]
    }
   ],
   "source": [
    "from sklearn.feature_extraction.text import TfidfVectorizer\n",
    "\n",
    "# Vectorisation TF-IDF\n",
    "tfidf_vectorizer = TfidfVectorizer(max_features=500)\n",
    "X_tfidf = tfidf_vectorizer.fit_transform(avis_restaurants['review_cleaned'])\n",
    "print(X_tfidf.toarray())"
   ]
  },
  {
   "cell_type": "markdown",
   "metadata": {},
   "source": [
    "# Préparation pour l'analyse temporelle"
   ]
  },
  {
   "cell_type": "code",
   "execution_count": 76,
   "metadata": {},
   "outputs": [
    {
     "data": {
      "text/plain": [
       "0       15 décembre 2024\n",
       "1       27 novembre 2024\n",
       "2       20 novembre 2024\n",
       "3       18 novembre 2024\n",
       "4       13 novembre 2024\n",
       "              ...       \n",
       "4120     4 novembre 2016\n",
       "4121     25 octobre 2016\n",
       "4122     16 octobre 2016\n",
       "4123     13 octobre 2016\n",
       "4124     10 octobre 2016\n",
       "Name: date_review, Length: 4125, dtype: object"
      ]
     },
     "execution_count": 76,
     "metadata": {},
     "output_type": "execute_result"
    }
   ],
   "source": [
    "avis_restaurants['date_review']"
   ]
  },
  {
   "cell_type": "code",
   "execution_count": 77,
   "metadata": {},
   "outputs": [],
   "source": [
    "avis_restaurants['date_review'] = avis_restaurants['date_review'].str.strip()\n",
    "avis_restaurants['date_review'] = avis_restaurants['date_review'].str.replace(r'\\s+', ' ', regex=True)"
   ]
  },
  {
   "cell_type": "code",
   "execution_count": 78,
   "metadata": {},
   "outputs": [
    {
     "name": "stdout",
     "output_type": "stream",
     "text": [
      "0     15 décembre 2024\n",
      "1     27 novembre 2024\n",
      "2     20 novembre 2024\n",
      "3     18 novembre 2024\n",
      "4     13 novembre 2024\n",
      "5     13 novembre 2024\n",
      "6      22 octobre 2024\n",
      "7      17 octobre 2024\n",
      "8      11 octobre 2024\n",
      "9    26 septembre 2024\n",
      "Name: date_review, dtype: object\n"
     ]
    }
   ],
   "source": [
    "print(avis_restaurants['date_review'].head(10))\n"
   ]
  },
  {
   "cell_type": "code",
   "execution_count": 79,
   "metadata": {},
   "outputs": [],
   "source": [
    "mois_fr_en = {\n",
    "    'janvier': 'January', 'février': 'February', 'mars': 'March', 'avril': 'April',\n",
    "    'mai': 'May', 'juin': 'June', 'juillet': 'July', 'août': 'August',\n",
    "    'septembre': 'September', 'octobre': 'October', 'novembre': 'November', 'décembre': 'December'\n",
    "}\n",
    "\n",
    "for fr, en in mois_fr_en.items():\n",
    "    avis_restaurants['date_review'] = avis_restaurants['date_review'].str.replace(fr, en, regex=False)\n"
   ]
  },
  {
   "cell_type": "code",
   "execution_count": 80,
   "metadata": {},
   "outputs": [
    {
     "data": {
      "text/plain": [
       "0       15 December 2024\n",
       "1       27 November 2024\n",
       "2       20 November 2024\n",
       "3       18 November 2024\n",
       "4       13 November 2024\n",
       "              ...       \n",
       "4120     4 November 2016\n",
       "4121     25 October 2016\n",
       "4122     16 October 2016\n",
       "4123     13 October 2016\n",
       "4124     10 October 2016\n",
       "Name: date_review, Length: 4125, dtype: object"
      ]
     },
     "execution_count": 80,
     "metadata": {},
     "output_type": "execute_result"
    }
   ],
   "source": [
    "avis_restaurants['date_review']"
   ]
  },
  {
   "cell_type": "code",
   "execution_count": 81,
   "metadata": {},
   "outputs": [],
   "source": [
    "avis_restaurants['date_review'] = pd.to_datetime(\n",
    "    avis_restaurants['date_review'], format='%d %B %Y', errors='coerce'\n",
    ")\n"
   ]
  },
  {
   "cell_type": "code",
   "execution_count": 82,
   "metadata": {},
   "outputs": [
    {
     "name": "stdout",
     "output_type": "stream",
     "text": [
      "0\n"
     ]
    }
   ],
   "source": [
    "print(avis_restaurants['date_review'].isna().sum())\n"
   ]
  },
  {
   "cell_type": "code",
   "execution_count": 83,
   "metadata": {},
   "outputs": [
    {
     "name": "stdout",
     "output_type": "stream",
     "text": [
      "Series([], Name: date_review, dtype: datetime64[ns])\n"
     ]
    }
   ],
   "source": [
    "problemes = avis_restaurants[avis_restaurants['date_review'].isna()]\n",
    "print(problemes['date_review'])\n"
   ]
  },
  {
   "cell_type": "code",
   "execution_count": 84,
   "metadata": {},
   "outputs": [
    {
     "data": {
      "text/plain": [
       "0      2024-12-15\n",
       "1      2024-11-27\n",
       "2      2024-11-20\n",
       "3      2024-11-18\n",
       "4      2024-11-13\n",
       "          ...    \n",
       "4120   2016-11-04\n",
       "4121   2016-10-25\n",
       "4122   2016-10-16\n",
       "4123   2016-10-13\n",
       "4124   2016-10-10\n",
       "Name: date_review, Length: 4125, dtype: datetime64[ns]"
      ]
     },
     "execution_count": 84,
     "metadata": {},
     "output_type": "execute_result"
    }
   ],
   "source": [
    "avis_restaurants['date_review']"
   ]
  },
  {
   "cell_type": "code",
   "execution_count": 85,
   "metadata": {},
   "outputs": [
    {
     "name": "stdout",
     "output_type": "stream",
     "text": [
      "  date_review  year  month\n",
      "0  2024-12-15  2024     12\n",
      "1  2024-11-27  2024     11\n",
      "2  2024-11-20  2024     11\n",
      "3  2024-11-18  2024     11\n",
      "4  2024-11-13  2024     11\n"
     ]
    }
   ],
   "source": [
    "# Extraire l'année et le mois pour une analyse temporelle\n",
    "avis_restaurants['year'] = avis_restaurants['date_review'].dt.year\n",
    "avis_restaurants['month'] = avis_restaurants['date_review'].dt.month\n",
    "print(avis_restaurants[['date_review', 'year', 'month']].head())"
   ]
  },
  {
   "cell_type": "markdown",
   "metadata": {},
   "source": [
    "# Sauvegarder le dataset nettoyé"
   ]
  },
  {
   "cell_type": "code",
   "execution_count": 86,
   "metadata": {},
   "outputs": [],
   "source": [
    "avis_restaurants.to_csv('D:/M2 SISE/Text Mining ou NLP/Projet/nlp_text_mining/Data/avis_restaurants_cleaned.csv', index=False)"
   ]
  },
  {
   "cell_type": "code",
   "execution_count": 87,
   "metadata": {},
   "outputs": [],
   "source": [
    "avis_restaurants_cleaned = pd.read_csv('D:/M2 SISE/Text Mining ou NLP/Projet/nlp_text_mining/Data/avis_restaurants_cleaned.csv') "
   ]
  },
  {
   "cell_type": "code",
   "execution_count": 88,
   "metadata": {},
   "outputs": [
    {
     "data": {
      "text/html": [
       "<div>\n",
       "<style scoped>\n",
       "    .dataframe tbody tr th:only-of-type {\n",
       "        vertical-align: middle;\n",
       "    }\n",
       "\n",
       "    .dataframe tbody tr th {\n",
       "        vertical-align: top;\n",
       "    }\n",
       "\n",
       "    .dataframe thead th {\n",
       "        text-align: right;\n",
       "    }\n",
       "</style>\n",
       "<table border=\"1\" class=\"dataframe\">\n",
       "  <thead>\n",
       "    <tr style=\"text-align: right;\">\n",
       "      <th></th>\n",
       "      <th>user</th>\n",
       "      <th>user_profile</th>\n",
       "      <th>date_review</th>\n",
       "      <th>title</th>\n",
       "      <th>rating</th>\n",
       "      <th>type_visit</th>\n",
       "      <th>num_contributions</th>\n",
       "      <th>review</th>\n",
       "      <th>restaurant</th>\n",
       "      <th>review_cleaned</th>\n",
       "      <th>year</th>\n",
       "      <th>month</th>\n",
       "    </tr>\n",
       "  </thead>\n",
       "  <tbody>\n",
       "    <tr>\n",
       "      <th>0</th>\n",
       "      <td>Fred S</td>\n",
       "      <td>fredsX5996LQ</td>\n",
       "      <td>2024-12-15</td>\n",
       "      <td>Très belle expérience</td>\n",
       "      <td>5.0</td>\n",
       "      <td>family</td>\n",
       "      <td>8</td>\n",
       "      <td>Ambiance soignée, patrons amicaux et donnant t...</td>\n",
       "      <td>Frazarin Bistrot Franco Italien</td>\n",
       "      <td>ambiance soignée patron amicaux donnant toutes...</td>\n",
       "      <td>2024</td>\n",
       "      <td>12</td>\n",
       "    </tr>\n",
       "    <tr>\n",
       "      <th>1</th>\n",
       "      <td>Guide38409630404</td>\n",
       "      <td>Guide38409630404</td>\n",
       "      <td>2024-11-27</td>\n",
       "      <td>Déjeuner au Frazarin, que du bonheur</td>\n",
       "      <td>5.0</td>\n",
       "      <td>friends</td>\n",
       "      <td>1</td>\n",
       "      <td>Vous voulez bien manger, alors allez dans ce r...</td>\n",
       "      <td>Frazarin Bistrot Franco Italien</td>\n",
       "      <td>voulez bien manger alors allez restaurant tout...</td>\n",
       "      <td>2024</td>\n",
       "      <td>11</td>\n",
       "    </tr>\n",
       "    <tr>\n",
       "      <th>2</th>\n",
       "      <td>Chartin M</td>\n",
       "      <td>chartinm</td>\n",
       "      <td>2024-11-20</td>\n",
       "      <td>La perfection tout simplement</td>\n",
       "      <td>5.0</td>\n",
       "      <td>couples</td>\n",
       "      <td>4</td>\n",
       "      <td>Tout simplement parfait de l’entrée au dessert...</td>\n",
       "      <td>Frazarin Bistrot Franco Italien</td>\n",
       "      <td>tout simplement parfait lentrée dessert passan...</td>\n",
       "      <td>2024</td>\n",
       "      <td>11</td>\n",
       "    </tr>\n",
       "    <tr>\n",
       "      <th>3</th>\n",
       "      <td>Axelfoley009</td>\n",
       "      <td>Axelfoley009</td>\n",
       "      <td>2024-11-18</td>\n",
       "      <td>Plat frais et de qualité</td>\n",
       "      <td>5.0</td>\n",
       "      <td>couples</td>\n",
       "      <td>38</td>\n",
       "      <td>Belle soirée passée au Frazarin. Certainement ...</td>\n",
       "      <td>Frazarin Bistrot Franco Italien</td>\n",
       "      <td>belle soirée passée frazarin certainement enco...</td>\n",
       "      <td>2024</td>\n",
       "      <td>11</td>\n",
       "    </tr>\n",
       "    <tr>\n",
       "      <th>4</th>\n",
       "      <td>Karine P</td>\n",
       "      <td>karinepU103AS</td>\n",
       "      <td>2024-11-13</td>\n",
       "      <td>très bien</td>\n",
       "      <td>5.0</td>\n",
       "      <td>business</td>\n",
       "      <td>1</td>\n",
       "      <td>Très bon restaurant ! j'ai adoré le service et...</td>\n",
       "      <td>Frazarin Bistrot Franco Italien</td>\n",
       "      <td>très bon restaurant jai adoré service loffre r...</td>\n",
       "      <td>2024</td>\n",
       "      <td>11</td>\n",
       "    </tr>\n",
       "    <tr>\n",
       "      <th>...</th>\n",
       "      <td>...</td>\n",
       "      <td>...</td>\n",
       "      <td>...</td>\n",
       "      <td>...</td>\n",
       "      <td>...</td>\n",
       "      <td>...</td>\n",
       "      <td>...</td>\n",
       "      <td>...</td>\n",
       "      <td>...</td>\n",
       "      <td>...</td>\n",
       "      <td>...</td>\n",
       "      <td>...</td>\n",
       "    </tr>\n",
       "    <tr>\n",
       "      <th>4120</th>\n",
       "      <td>Muriel P</td>\n",
       "      <td>752murielp</td>\n",
       "      <td>2016-11-04</td>\n",
       "      <td>Des troyens visitent Lyon</td>\n",
       "      <td>4.0</td>\n",
       "      <td>family</td>\n",
       "      <td>6</td>\n",
       "      <td>Bon petit resto. Service efficace et agréable....</td>\n",
       "      <td>Le Vieux Lyon</td>\n",
       "      <td>bon petit resto service efficace agréable cuis...</td>\n",
       "      <td>2016</td>\n",
       "      <td>11</td>\n",
       "    </tr>\n",
       "    <tr>\n",
       "      <th>4121</th>\n",
       "      <td>Natacha B</td>\n",
       "      <td>natachab927</td>\n",
       "      <td>2016-10-25</td>\n",
       "      <td>Génial!</td>\n",
       "      <td>5.0</td>\n",
       "      <td>family</td>\n",
       "      <td>3</td>\n",
       "      <td>Un super service! Avec de très bons plats😊 rec...</td>\n",
       "      <td>Le Vieux Lyon</td>\n",
       "      <td>super service très bons plat recommandé sans h...</td>\n",
       "      <td>2016</td>\n",
       "      <td>10</td>\n",
       "    </tr>\n",
       "    <tr>\n",
       "      <th>4122</th>\n",
       "      <td>Loïc D</td>\n",
       "      <td>lo_cd778</td>\n",
       "      <td>2016-10-16</td>\n",
       "      <td>tres bien</td>\n",
       "      <td>4.0</td>\n",
       "      <td>couples</td>\n",
       "      <td>35</td>\n",
       "      <td>Acceuil sympa , notre serveur dans le jus mais...</td>\n",
       "      <td>Le Vieux Lyon</td>\n",
       "      <td>acceuil sympa serveur jus très efficace cétait...</td>\n",
       "      <td>2016</td>\n",
       "      <td>10</td>\n",
       "    </tr>\n",
       "    <tr>\n",
       "      <th>4123</th>\n",
       "      <td>357518</td>\n",
       "      <td>357518</td>\n",
       "      <td>2016-10-13</td>\n",
       "      <td>Touristes, mais aussi habitués !</td>\n",
       "      <td>4.0</td>\n",
       "      <td>none</td>\n",
       "      <td>30</td>\n",
       "      <td>De loin, le meilleur petit restau de la rue......</td>\n",
       "      <td>Le Vieux Lyon</td>\n",
       "      <td>loin meilleur petit restau rue cuisine familia...</td>\n",
       "      <td>2016</td>\n",
       "      <td>10</td>\n",
       "    </tr>\n",
       "    <tr>\n",
       "      <th>4124</th>\n",
       "      <td>Gilles74160</td>\n",
       "      <td>Gilles74160</td>\n",
       "      <td>2016-10-10</td>\n",
       "      <td>Un bouchon qui ne pousse pas le bouchon</td>\n",
       "      <td>4.0</td>\n",
       "      <td>couples</td>\n",
       "      <td>180</td>\n",
       "      <td>Après avoir lu les commentaires négatifs (très...</td>\n",
       "      <td>Le Vieux Lyon</td>\n",
       "      <td>après avoir commentaires négatifs très peu pos...</td>\n",
       "      <td>2016</td>\n",
       "      <td>10</td>\n",
       "    </tr>\n",
       "  </tbody>\n",
       "</table>\n",
       "<p>4125 rows × 12 columns</p>\n",
       "</div>"
      ],
      "text/plain": [
       "                  user      user_profile date_review  \\\n",
       "0               Fred S      fredsX5996LQ  2024-12-15   \n",
       "1     Guide38409630404  Guide38409630404  2024-11-27   \n",
       "2            Chartin M          chartinm  2024-11-20   \n",
       "3         Axelfoley009      Axelfoley009  2024-11-18   \n",
       "4             Karine P     karinepU103AS  2024-11-13   \n",
       "...                ...               ...         ...   \n",
       "4120          Muriel P        752murielp  2016-11-04   \n",
       "4121         Natacha B       natachab927  2016-10-25   \n",
       "4122            Loïc D          lo_cd778  2016-10-16   \n",
       "4123            357518            357518  2016-10-13   \n",
       "4124       Gilles74160       Gilles74160  2016-10-10   \n",
       "\n",
       "                                        title  rating type_visit  \\\n",
       "0                       Très belle expérience     5.0     family   \n",
       "1        Déjeuner au Frazarin, que du bonheur     5.0    friends   \n",
       "2               La perfection tout simplement     5.0    couples   \n",
       "3                    Plat frais et de qualité     5.0    couples   \n",
       "4                                   très bien     5.0   business   \n",
       "...                                       ...     ...        ...   \n",
       "4120                Des troyens visitent Lyon     4.0     family   \n",
       "4121                                  Génial!     5.0     family   \n",
       "4122                                tres bien     4.0    couples   \n",
       "4123         Touristes, mais aussi habitués !     4.0       none   \n",
       "4124  Un bouchon qui ne pousse pas le bouchon     4.0    couples   \n",
       "\n",
       "      num_contributions                                             review  \\\n",
       "0                     8  Ambiance soignée, patrons amicaux et donnant t...   \n",
       "1                     1  Vous voulez bien manger, alors allez dans ce r...   \n",
       "2                     4  Tout simplement parfait de l’entrée au dessert...   \n",
       "3                    38  Belle soirée passée au Frazarin. Certainement ...   \n",
       "4                     1  Très bon restaurant ! j'ai adoré le service et...   \n",
       "...                 ...                                                ...   \n",
       "4120                  6  Bon petit resto. Service efficace et agréable....   \n",
       "4121                  3  Un super service! Avec de très bons plats😊 rec...   \n",
       "4122                 35  Acceuil sympa , notre serveur dans le jus mais...   \n",
       "4123                 30  De loin, le meilleur petit restau de la rue......   \n",
       "4124                180  Après avoir lu les commentaires négatifs (très...   \n",
       "\n",
       "                           restaurant  \\\n",
       "0     Frazarin Bistrot Franco Italien   \n",
       "1     Frazarin Bistrot Franco Italien   \n",
       "2     Frazarin Bistrot Franco Italien   \n",
       "3     Frazarin Bistrot Franco Italien   \n",
       "4     Frazarin Bistrot Franco Italien   \n",
       "...                               ...   \n",
       "4120                    Le Vieux Lyon   \n",
       "4121                    Le Vieux Lyon   \n",
       "4122                    Le Vieux Lyon   \n",
       "4123                    Le Vieux Lyon   \n",
       "4124                    Le Vieux Lyon   \n",
       "\n",
       "                                         review_cleaned  year  month  \n",
       "0     ambiance soignée patron amicaux donnant toutes...  2024     12  \n",
       "1     voulez bien manger alors allez restaurant tout...  2024     11  \n",
       "2     tout simplement parfait lentrée dessert passan...  2024     11  \n",
       "3     belle soirée passée frazarin certainement enco...  2024     11  \n",
       "4     très bon restaurant jai adoré service loffre r...  2024     11  \n",
       "...                                                 ...   ...    ...  \n",
       "4120  bon petit resto service efficace agréable cuis...  2016     11  \n",
       "4121  super service très bons plat recommandé sans h...  2016     10  \n",
       "4122  acceuil sympa serveur jus très efficace cétait...  2016     10  \n",
       "4123  loin meilleur petit restau rue cuisine familia...  2016     10  \n",
       "4124  après avoir commentaires négatifs très peu pos...  2016     10  \n",
       "\n",
       "[4125 rows x 12 columns]"
      ]
     },
     "execution_count": 88,
     "metadata": {},
     "output_type": "execute_result"
    }
   ],
   "source": [
    "avis_restaurants_cleaned"
   ]
  },
  {
   "cell_type": "markdown",
   "metadata": {},
   "source": [
    "# Importation et inspection des données La_Mere_Brazier.csv"
   ]
  },
  {
   "cell_type": "code",
   "execution_count": 89,
   "metadata": {},
   "outputs": [
    {
     "data": {
      "text/html": [
       "<div>\n",
       "<style scoped>\n",
       "    .dataframe tbody tr th:only-of-type {\n",
       "        vertical-align: middle;\n",
       "    }\n",
       "\n",
       "    .dataframe tbody tr th {\n",
       "        vertical-align: top;\n",
       "    }\n",
       "\n",
       "    .dataframe thead th {\n",
       "        text-align: right;\n",
       "    }\n",
       "</style>\n",
       "<table border=\"1\" class=\"dataframe\">\n",
       "  <thead>\n",
       "    <tr style=\"text-align: right;\">\n",
       "      <th></th>\n",
       "      <th>user</th>\n",
       "      <th>user_profile</th>\n",
       "      <th>date_review</th>\n",
       "      <th>title</th>\n",
       "      <th>rating</th>\n",
       "      <th>type_visit</th>\n",
       "      <th>num_contributions</th>\n",
       "      <th>review</th>\n",
       "    </tr>\n",
       "  </thead>\n",
       "  <tbody>\n",
       "    <tr>\n",
       "      <th>0</th>\n",
       "      <td>Serpollet</td>\n",
       "      <td>Serpollet</td>\n",
       "      <td>2 décembre 2024</td>\n",
       "      <td>Grande tradition lyonnaise</td>\n",
       "      <td>5.0</td>\n",
       "      <td>couples</td>\n",
       "      <td>152</td>\n",
       "      <td>Nous avons passé un excellent moment dans ce r...</td>\n",
       "    </tr>\n",
       "    <tr>\n",
       "      <th>1</th>\n",
       "      <td>tif s</td>\n",
       "      <td>925tifs</td>\n",
       "      <td>18 novembre 2024</td>\n",
       "      <td>Bon resto</td>\n",
       "      <td>5.0</td>\n",
       "      <td>family</td>\n",
       "      <td>17</td>\n",
       "      <td>Excellent restaurant \\nSuper qualité prix \\nNo...</td>\n",
       "    </tr>\n",
       "    <tr>\n",
       "      <th>2</th>\n",
       "      <td>ninoacmo</td>\n",
       "      <td>ninoacmo</td>\n",
       "      <td>15 novembre 2024</td>\n",
       "      <td>Merveilleux repas, service parfait</td>\n",
       "      <td>5.0</td>\n",
       "      <td>couples</td>\n",
       "      <td>30</td>\n",
       "      <td>Notre fils nous a offert un menu Eugénie Brazi...</td>\n",
       "    </tr>\n",
       "    <tr>\n",
       "      <th>3</th>\n",
       "      <td>Djill38</td>\n",
       "      <td>Djill38</td>\n",
       "      <td>21 octobre 2024</td>\n",
       "      <td>Une explosion de saveurs...</td>\n",
       "      <td>5.0</td>\n",
       "      <td>couples</td>\n",
       "      <td>125</td>\n",
       "      <td>De la prise en charge dès la porte poussée et ...</td>\n",
       "    </tr>\n",
       "    <tr>\n",
       "      <th>4</th>\n",
       "      <td>LILI</td>\n",
       "      <td>Odyssey17905604830</td>\n",
       "      <td>24 août 2024</td>\n",
       "      <td>ADRESSE À FAIRE UNE FOIS</td>\n",
       "      <td>3.0</td>\n",
       "      <td>couples</td>\n",
       "      <td>237</td>\n",
       "      <td>La décoration est resté (beaucoup trop) figé d...</td>\n",
       "    </tr>\n",
       "    <tr>\n",
       "      <th>...</th>\n",
       "      <td>...</td>\n",
       "      <td>...</td>\n",
       "      <td>...</td>\n",
       "      <td>...</td>\n",
       "      <td>...</td>\n",
       "      <td>...</td>\n",
       "      <td>...</td>\n",
       "      <td>...</td>\n",
       "    </tr>\n",
       "    <tr>\n",
       "      <th>910</th>\n",
       "      <td>janicejmf</td>\n",
       "      <td>janicejmf</td>\n",
       "      <td>6 décembre 2012</td>\n",
       "      <td>Expérience merveilleuse de la salle à manger</td>\n",
       "      <td>5.0</td>\n",
       "      <td>friends</td>\n",
       "      <td>13</td>\n",
       "      <td>Quatre d'entre nous avons voyagé par TGV Agde ...</td>\n",
       "    </tr>\n",
       "    <tr>\n",
       "      <th>911</th>\n",
       "      <td>theorchidlady</td>\n",
       "      <td>theorchidlady</td>\n",
       "      <td>18 octobre 2012</td>\n",
       "      <td>Deux excellent mais cher restaurant Star</td>\n",
       "      <td>5.0</td>\n",
       "      <td>family</td>\n",
       "      <td>112</td>\n",
       "      <td>Mon mari et moi avons visité ce restaurant deu...</td>\n",
       "    </tr>\n",
       "    <tr>\n",
       "      <th>912</th>\n",
       "      <td>Trav3lgur</td>\n",
       "      <td>Trav3lgur</td>\n",
       "      <td>2 septembre 2012</td>\n",
       "      <td>Si je pouvais donner 6 étoiles !! Pour ne pas ...</td>\n",
       "      <td>5.0</td>\n",
       "      <td>No information</td>\n",
       "      <td>178</td>\n",
       "      <td>J'ai déjeuné ici comme un voyageur en solo, c'...</td>\n",
       "    </tr>\n",
       "    <tr>\n",
       "      <th>913</th>\n",
       "      <td>daretobe99999</td>\n",
       "      <td>daretobe99999</td>\n",
       "      <td>26 juillet 2012</td>\n",
       "      <td>J'ai été impressionné ...</td>\n",
       "      <td>5.0</td>\n",
       "      <td>business</td>\n",
       "      <td>12</td>\n",
       "      <td>J'ai été impressionné par la belle présentatio...</td>\n",
       "    </tr>\n",
       "    <tr>\n",
       "      <th>914</th>\n",
       "      <td>Johannes M</td>\n",
       "      <td>5johannesm</td>\n",
       "      <td>11 juillet 2012</td>\n",
       "      <td>ne pouvait pas être mieux</td>\n",
       "      <td>5.0</td>\n",
       "      <td>couples</td>\n",
       "      <td>160</td>\n",
       "      <td>La nourriture est très bonne et le service. No...</td>\n",
       "    </tr>\n",
       "  </tbody>\n",
       "</table>\n",
       "<p>915 rows × 8 columns</p>\n",
       "</div>"
      ],
      "text/plain": [
       "              user        user_profile       date_review  \\\n",
       "0        Serpollet           Serpollet   2 décembre 2024   \n",
       "1            tif s             925tifs  18 novembre 2024   \n",
       "2         ninoacmo            ninoacmo  15 novembre 2024   \n",
       "3          Djill38             Djill38   21 octobre 2024   \n",
       "4             LILI  Odyssey17905604830      24 août 2024   \n",
       "..             ...                 ...               ...   \n",
       "910      janicejmf           janicejmf   6 décembre 2012   \n",
       "911  theorchidlady       theorchidlady   18 octobre 2012   \n",
       "912      Trav3lgur           Trav3lgur  2 septembre 2012   \n",
       "913  daretobe99999       daretobe99999   26 juillet 2012   \n",
       "914     Johannes M          5johannesm   11 juillet 2012   \n",
       "\n",
       "                                                 title  rating  \\\n",
       "0                           Grande tradition lyonnaise     5.0   \n",
       "1                                            Bon resto     5.0   \n",
       "2                   Merveilleux repas, service parfait     5.0   \n",
       "3                          Une explosion de saveurs...     5.0   \n",
       "4                             ADRESSE À FAIRE UNE FOIS     3.0   \n",
       "..                                                 ...     ...   \n",
       "910       Expérience merveilleuse de la salle à manger     5.0   \n",
       "911           Deux excellent mais cher restaurant Star     5.0   \n",
       "912  Si je pouvais donner 6 étoiles !! Pour ne pas ...     5.0   \n",
       "913                          J'ai été impressionné ...     5.0   \n",
       "914                          ne pouvait pas être mieux     5.0   \n",
       "\n",
       "         type_visit  num_contributions  \\\n",
       "0           couples                152   \n",
       "1            family                 17   \n",
       "2           couples                 30   \n",
       "3           couples                125   \n",
       "4           couples                237   \n",
       "..              ...                ...   \n",
       "910         friends                 13   \n",
       "911          family                112   \n",
       "912  No information                178   \n",
       "913        business                 12   \n",
       "914         couples                160   \n",
       "\n",
       "                                                review  \n",
       "0    Nous avons passé un excellent moment dans ce r...  \n",
       "1    Excellent restaurant \\nSuper qualité prix \\nNo...  \n",
       "2    Notre fils nous a offert un menu Eugénie Brazi...  \n",
       "3    De la prise en charge dès la porte poussée et ...  \n",
       "4    La décoration est resté (beaucoup trop) figé d...  \n",
       "..                                                 ...  \n",
       "910  Quatre d'entre nous avons voyagé par TGV Agde ...  \n",
       "911  Mon mari et moi avons visité ce restaurant deu...  \n",
       "912  J'ai déjeuné ici comme un voyageur en solo, c'...  \n",
       "913  J'ai été impressionné par la belle présentatio...  \n",
       "914  La nourriture est très bonne et le service. No...  \n",
       "\n",
       "[915 rows x 8 columns]"
      ]
     },
     "execution_count": 89,
     "metadata": {},
     "output_type": "execute_result"
    }
   ],
   "source": [
    "mere_brazier = pd.read_csv('D:/M2 SISE/Text Mining ou NLP/Projet/nlp_text_mining/Data/La_Mere_Brazier.csv', sep=';')\n",
    "\n",
    "mere_brazier"
   ]
  },
  {
   "cell_type": "code",
   "execution_count": 90,
   "metadata": {},
   "outputs": [
    {
     "name": "stdout",
     "output_type": "stream",
     "text": [
      "<class 'pandas.core.frame.DataFrame'>\n",
      "RangeIndex: 915 entries, 0 to 914\n",
      "Data columns (total 8 columns):\n",
      " #   Column             Non-Null Count  Dtype  \n",
      "---  ------             --------------  -----  \n",
      " 0   user               915 non-null    object \n",
      " 1   user_profile       915 non-null    object \n",
      " 2   date_review        915 non-null    object \n",
      " 3   title              915 non-null    object \n",
      " 4   rating             915 non-null    float64\n",
      " 5   type_visit         915 non-null    object \n",
      " 6   num_contributions  915 non-null    int64  \n",
      " 7   review             915 non-null    object \n",
      "dtypes: float64(1), int64(1), object(6)\n",
      "memory usage: 57.3+ KB\n",
      "None\n"
     ]
    }
   ],
   "source": [
    "print(mere_brazier.info())"
   ]
  },
  {
   "cell_type": "markdown",
   "metadata": {},
   "source": [
    "# Nettoyage des avis"
   ]
  },
  {
   "cell_type": "code",
   "execution_count": 91,
   "metadata": {},
   "outputs": [
    {
     "name": "stdout",
     "output_type": "stream",
     "text": [
      "                                              review  \\\n",
      "0  Nous avons passé un excellent moment dans ce r...   \n",
      "1  Excellent restaurant \\nSuper qualité prix \\nNo...   \n",
      "2  Notre fils nous a offert un menu Eugénie Brazi...   \n",
      "3  De la prise en charge dès la porte poussée et ...   \n",
      "4  La décoration est resté (beaucoup trop) figé d...   \n",
      "\n",
      "                                      review_cleaned  \n",
      "0  avon passé excellent moment restaurant réputat...  \n",
      "1  excellent restaurant super qualité prix nourri...  \n",
      "2  fils offert menu eugénie brazier deux arrivée ...  \n",
      "3  prise charge dès porte poussée jusquà sortie c...  \n",
      "4  décoration resté beaucoup trop figé temp pourt...  \n"
     ]
    }
   ],
   "source": [
    "# Appliquer le nettoyage à la colonne 'review'\n",
    "mere_brazier['review_cleaned'] = mere_brazier['review'].apply(nettoyer_avis)\n",
    "print(mere_brazier[['review', 'review_cleaned']].head())"
   ]
  },
  {
   "cell_type": "markdown",
   "metadata": {},
   "source": [
    "# Préparation des représentations textuelles"
   ]
  },
  {
   "cell_type": "markdown",
   "metadata": {},
   "source": [
    "## Bag of Words"
   ]
  },
  {
   "cell_type": "code",
   "execution_count": 92,
   "metadata": {},
   "outputs": [
    {
     "name": "stdout",
     "output_type": "stream",
     "text": [
      "[[0 0 0 ... 0 0 0]\n",
      " [0 0 1 ... 0 0 0]\n",
      " [0 0 0 ... 0 0 1]\n",
      " ...\n",
      " [0 0 0 ... 0 0 0]\n",
      " [0 0 0 ... 1 0 0]\n",
      " [0 0 0 ... 0 0 0]]\n"
     ]
    }
   ],
   "source": [
    "from sklearn.feature_extraction.text import CountVectorizer\n",
    "\n",
    "# Vectorisation BoW\n",
    "vectorizer = CountVectorizer(max_features=500)\n",
    "X_bow = vectorizer.fit_transform(mere_brazier['review_cleaned'])\n",
    "print(X_bow.toarray())\n"
   ]
  },
  {
   "cell_type": "markdown",
   "metadata": {},
   "source": [
    "## TF-IDF"
   ]
  },
  {
   "cell_type": "code",
   "execution_count": 93,
   "metadata": {},
   "outputs": [
    {
     "name": "stdout",
     "output_type": "stream",
     "text": [
      "[[0.         0.         0.         ... 0.         0.         0.        ]\n",
      " [0.         0.         0.21072479 ... 0.         0.         0.        ]\n",
      " [0.         0.         0.         ... 0.         0.         0.06917037]\n",
      " ...\n",
      " [0.         0.         0.         ... 0.         0.         0.        ]\n",
      " [0.         0.         0.         ... 0.14169917 0.         0.        ]\n",
      " [0.         0.         0.         ... 0.         0.         0.        ]]\n"
     ]
    }
   ],
   "source": [
    "from sklearn.feature_extraction.text import TfidfVectorizer\n",
    "\n",
    "# Vectorisation TF-IDF\n",
    "tfidf_vectorizer = TfidfVectorizer(max_features=500)\n",
    "X_tfidf = tfidf_vectorizer.fit_transform(mere_brazier['review_cleaned'])\n",
    "print(X_tfidf.toarray())\n"
   ]
  },
  {
   "cell_type": "markdown",
   "metadata": {},
   "source": [
    "# Préparation pour l'analyse temporelle"
   ]
  },
  {
   "cell_type": "code",
   "execution_count": 94,
   "metadata": {},
   "outputs": [
    {
     "data": {
      "text/plain": [
       "0       2 décembre 2024\n",
       "1      18 novembre 2024\n",
       "2      15 novembre 2024\n",
       "3       21 octobre 2024\n",
       "4          24 août 2024\n",
       "             ...       \n",
       "910     6 décembre 2012\n",
       "911     18 octobre 2012\n",
       "912    2 septembre 2012\n",
       "913     26 juillet 2012\n",
       "914     11 juillet 2012\n",
       "Name: date_review, Length: 915, dtype: object"
      ]
     },
     "execution_count": 94,
     "metadata": {},
     "output_type": "execute_result"
    }
   ],
   "source": [
    "mere_brazier['date_review']"
   ]
  },
  {
   "cell_type": "code",
   "execution_count": 95,
   "metadata": {},
   "outputs": [],
   "source": [
    "mere_brazier['date_review'] = mere_brazier['date_review'].str.strip()\n",
    "mere_brazier['date_review'] = mere_brazier['date_review'].str.replace(r'\\s+', ' ', regex=True)"
   ]
  },
  {
   "cell_type": "code",
   "execution_count": 96,
   "metadata": {},
   "outputs": [
    {
     "name": "stdout",
     "output_type": "stream",
     "text": [
      "0     2 décembre 2024\n",
      "1    18 novembre 2024\n",
      "2    15 novembre 2024\n",
      "3     21 octobre 2024\n",
      "4        24 août 2024\n",
      "5        26 juin 2024\n",
      "6        10 juin 2024\n",
      "7          8 mai 2024\n",
      "8       29 avril 2024\n",
      "9        17 mars 2024\n",
      "Name: date_review, dtype: object\n"
     ]
    }
   ],
   "source": [
    "print(mere_brazier['date_review'].head(10))"
   ]
  },
  {
   "cell_type": "code",
   "execution_count": 97,
   "metadata": {},
   "outputs": [],
   "source": [
    "for fr, en in mois_fr_en.items():\n",
    "    mere_brazier['date_review'] = mere_brazier['date_review'].str.replace(fr, en, regex=False)\n"
   ]
  },
  {
   "cell_type": "code",
   "execution_count": 98,
   "metadata": {},
   "outputs": [
    {
     "data": {
      "text/plain": [
       "0       2 December 2024\n",
       "1      18 November 2024\n",
       "2      15 November 2024\n",
       "3       21 October 2024\n",
       "4        24 August 2024\n",
       "             ...       \n",
       "910     6 December 2012\n",
       "911     18 October 2012\n",
       "912    2 September 2012\n",
       "913        26 July 2012\n",
       "914        11 July 2012\n",
       "Name: date_review, Length: 915, dtype: object"
      ]
     },
     "execution_count": 98,
     "metadata": {},
     "output_type": "execute_result"
    }
   ],
   "source": [
    "mere_brazier['date_review']"
   ]
  },
  {
   "cell_type": "code",
   "execution_count": 99,
   "metadata": {},
   "outputs": [],
   "source": [
    "mere_brazier['date_review'] = pd.to_datetime(\n",
    "    mere_brazier['date_review'], format='%d %B %Y', errors='coerce'\n",
    ")"
   ]
  },
  {
   "cell_type": "code",
   "execution_count": 100,
   "metadata": {},
   "outputs": [
    {
     "name": "stdout",
     "output_type": "stream",
     "text": [
      "0\n"
     ]
    }
   ],
   "source": [
    "print(mere_brazier['date_review'].isna().sum())"
   ]
  },
  {
   "cell_type": "code",
   "execution_count": 101,
   "metadata": {},
   "outputs": [
    {
     "name": "stdout",
     "output_type": "stream",
     "text": [
      "Series([], Name: date_review, dtype: datetime64[ns])\n"
     ]
    }
   ],
   "source": [
    "problemes = mere_brazier[mere_brazier['date_review'].isna()]\n",
    "print(problemes['date_review'])\n"
   ]
  },
  {
   "cell_type": "code",
   "execution_count": 102,
   "metadata": {},
   "outputs": [
    {
     "data": {
      "text/plain": [
       "0     2024-12-02\n",
       "1     2024-11-18\n",
       "2     2024-11-15\n",
       "3     2024-10-21\n",
       "4     2024-08-24\n",
       "         ...    \n",
       "910   2012-12-06\n",
       "911   2012-10-18\n",
       "912   2012-09-02\n",
       "913   2012-07-26\n",
       "914   2012-07-11\n",
       "Name: date_review, Length: 915, dtype: datetime64[ns]"
      ]
     },
     "execution_count": 102,
     "metadata": {},
     "output_type": "execute_result"
    }
   ],
   "source": [
    "mere_brazier['date_review']"
   ]
  },
  {
   "cell_type": "code",
   "execution_count": 103,
   "metadata": {},
   "outputs": [
    {
     "name": "stdout",
     "output_type": "stream",
     "text": [
      "  date_review  year  month\n",
      "0  2024-12-02  2024     12\n",
      "1  2024-11-18  2024     11\n",
      "2  2024-11-15  2024     11\n",
      "3  2024-10-21  2024     10\n",
      "4  2024-08-24  2024      8\n",
      "5  2024-06-26  2024      6\n",
      "6  2024-06-10  2024      6\n",
      "7  2024-05-08  2024      5\n",
      "8  2024-04-29  2024      4\n",
      "9  2024-03-17  2024      3\n"
     ]
    }
   ],
   "source": [
    "# Extraire l'année et le mois pour une analyse temporelle\n",
    "mere_brazier['year'] = mere_brazier['date_review'].dt.year\n",
    "mere_brazier['month'] = mere_brazier['date_review'].dt.month\n",
    "print(mere_brazier[['date_review', 'year', 'month']].head(10))"
   ]
  },
  {
   "cell_type": "markdown",
   "metadata": {},
   "source": [
    "# Sauvegarde des données nettoyées"
   ]
  },
  {
   "cell_type": "code",
   "execution_count": 104,
   "metadata": {},
   "outputs": [],
   "source": [
    "mere_brazier.to_csv('D:/M2 SISE/Text Mining ou NLP/Projet/nlp_text_mining/Data/La_Mere_Brazier_cleaned.csv', index=False)"
   ]
  },
  {
   "cell_type": "code",
   "execution_count": 105,
   "metadata": {},
   "outputs": [],
   "source": [
    "mere_brazier_cleaned = pd.read_csv('D:/M2 SISE/Text Mining ou NLP/Projet/nlp_text_mining/Data/La_Mere_Brazier_cleaned.csv')"
   ]
  },
  {
   "cell_type": "code",
   "execution_count": 106,
   "metadata": {},
   "outputs": [
    {
     "data": {
      "text/html": [
       "<div>\n",
       "<style scoped>\n",
       "    .dataframe tbody tr th:only-of-type {\n",
       "        vertical-align: middle;\n",
       "    }\n",
       "\n",
       "    .dataframe tbody tr th {\n",
       "        vertical-align: top;\n",
       "    }\n",
       "\n",
       "    .dataframe thead th {\n",
       "        text-align: right;\n",
       "    }\n",
       "</style>\n",
       "<table border=\"1\" class=\"dataframe\">\n",
       "  <thead>\n",
       "    <tr style=\"text-align: right;\">\n",
       "      <th></th>\n",
       "      <th>user</th>\n",
       "      <th>user_profile</th>\n",
       "      <th>date_review</th>\n",
       "      <th>title</th>\n",
       "      <th>rating</th>\n",
       "      <th>type_visit</th>\n",
       "      <th>num_contributions</th>\n",
       "      <th>review</th>\n",
       "      <th>review_cleaned</th>\n",
       "      <th>year</th>\n",
       "      <th>month</th>\n",
       "    </tr>\n",
       "  </thead>\n",
       "  <tbody>\n",
       "    <tr>\n",
       "      <th>0</th>\n",
       "      <td>Serpollet</td>\n",
       "      <td>Serpollet</td>\n",
       "      <td>2024-12-02</td>\n",
       "      <td>Grande tradition lyonnaise</td>\n",
       "      <td>5.0</td>\n",
       "      <td>couples</td>\n",
       "      <td>152</td>\n",
       "      <td>Nous avons passé un excellent moment dans ce r...</td>\n",
       "      <td>avon passé excellent moment restaurant réputat...</td>\n",
       "      <td>2024</td>\n",
       "      <td>12</td>\n",
       "    </tr>\n",
       "    <tr>\n",
       "      <th>1</th>\n",
       "      <td>tif s</td>\n",
       "      <td>925tifs</td>\n",
       "      <td>2024-11-18</td>\n",
       "      <td>Bon resto</td>\n",
       "      <td>5.0</td>\n",
       "      <td>family</td>\n",
       "      <td>17</td>\n",
       "      <td>Excellent restaurant \\nSuper qualité prix \\nNo...</td>\n",
       "      <td>excellent restaurant super qualité prix nourri...</td>\n",
       "      <td>2024</td>\n",
       "      <td>11</td>\n",
       "    </tr>\n",
       "    <tr>\n",
       "      <th>2</th>\n",
       "      <td>ninoacmo</td>\n",
       "      <td>ninoacmo</td>\n",
       "      <td>2024-11-15</td>\n",
       "      <td>Merveilleux repas, service parfait</td>\n",
       "      <td>5.0</td>\n",
       "      <td>couples</td>\n",
       "      <td>30</td>\n",
       "      <td>Notre fils nous a offert un menu Eugénie Brazi...</td>\n",
       "      <td>fils offert menu eugénie brazier deux arrivée ...</td>\n",
       "      <td>2024</td>\n",
       "      <td>11</td>\n",
       "    </tr>\n",
       "    <tr>\n",
       "      <th>3</th>\n",
       "      <td>Djill38</td>\n",
       "      <td>Djill38</td>\n",
       "      <td>2024-10-21</td>\n",
       "      <td>Une explosion de saveurs...</td>\n",
       "      <td>5.0</td>\n",
       "      <td>couples</td>\n",
       "      <td>125</td>\n",
       "      <td>De la prise en charge dès la porte poussée et ...</td>\n",
       "      <td>prise charge dès porte poussée jusquà sortie c...</td>\n",
       "      <td>2024</td>\n",
       "      <td>10</td>\n",
       "    </tr>\n",
       "    <tr>\n",
       "      <th>4</th>\n",
       "      <td>LILI</td>\n",
       "      <td>Odyssey17905604830</td>\n",
       "      <td>2024-08-24</td>\n",
       "      <td>ADRESSE À FAIRE UNE FOIS</td>\n",
       "      <td>3.0</td>\n",
       "      <td>couples</td>\n",
       "      <td>237</td>\n",
       "      <td>La décoration est resté (beaucoup trop) figé d...</td>\n",
       "      <td>décoration resté beaucoup trop figé temp pourt...</td>\n",
       "      <td>2024</td>\n",
       "      <td>8</td>\n",
       "    </tr>\n",
       "    <tr>\n",
       "      <th>...</th>\n",
       "      <td>...</td>\n",
       "      <td>...</td>\n",
       "      <td>...</td>\n",
       "      <td>...</td>\n",
       "      <td>...</td>\n",
       "      <td>...</td>\n",
       "      <td>...</td>\n",
       "      <td>...</td>\n",
       "      <td>...</td>\n",
       "      <td>...</td>\n",
       "      <td>...</td>\n",
       "    </tr>\n",
       "    <tr>\n",
       "      <th>910</th>\n",
       "      <td>janicejmf</td>\n",
       "      <td>janicejmf</td>\n",
       "      <td>2012-12-06</td>\n",
       "      <td>Expérience merveilleuse de la salle à manger</td>\n",
       "      <td>5.0</td>\n",
       "      <td>friends</td>\n",
       "      <td>13</td>\n",
       "      <td>Quatre d'entre nous avons voyagé par TGV Agde ...</td>\n",
       "      <td>quatre dentre avon voyagé tgv agde lyon avon d...</td>\n",
       "      <td>2012</td>\n",
       "      <td>12</td>\n",
       "    </tr>\n",
       "    <tr>\n",
       "      <th>911</th>\n",
       "      <td>theorchidlady</td>\n",
       "      <td>theorchidlady</td>\n",
       "      <td>2012-10-18</td>\n",
       "      <td>Deux excellent mais cher restaurant Star</td>\n",
       "      <td>5.0</td>\n",
       "      <td>family</td>\n",
       "      <td>112</td>\n",
       "      <td>Mon mari et moi avons visité ce restaurant deu...</td>\n",
       "      <td>mari avon visité restaurant deux étoiles miche...</td>\n",
       "      <td>2012</td>\n",
       "      <td>10</td>\n",
       "    </tr>\n",
       "    <tr>\n",
       "      <th>912</th>\n",
       "      <td>Trav3lgur</td>\n",
       "      <td>Trav3lgur</td>\n",
       "      <td>2012-09-02</td>\n",
       "      <td>Si je pouvais donner 6 étoiles !! Pour ne pas ...</td>\n",
       "      <td>5.0</td>\n",
       "      <td>No information</td>\n",
       "      <td>178</td>\n",
       "      <td>J'ai déjeuné ici comme un voyageur en solo, c'...</td>\n",
       "      <td>jai déjeuné ici comme voyageur solo cétait lun...</td>\n",
       "      <td>2012</td>\n",
       "      <td>9</td>\n",
       "    </tr>\n",
       "    <tr>\n",
       "      <th>913</th>\n",
       "      <td>daretobe99999</td>\n",
       "      <td>daretobe99999</td>\n",
       "      <td>2012-07-26</td>\n",
       "      <td>J'ai été impressionné ...</td>\n",
       "      <td>5.0</td>\n",
       "      <td>business</td>\n",
       "      <td>12</td>\n",
       "      <td>J'ai été impressionné par la belle présentatio...</td>\n",
       "      <td>jai impressionné belle présentation nourriture...</td>\n",
       "      <td>2012</td>\n",
       "      <td>7</td>\n",
       "    </tr>\n",
       "    <tr>\n",
       "      <th>914</th>\n",
       "      <td>Johannes M</td>\n",
       "      <td>5johannesm</td>\n",
       "      <td>2012-07-11</td>\n",
       "      <td>ne pouvait pas être mieux</td>\n",
       "      <td>5.0</td>\n",
       "      <td>couples</td>\n",
       "      <td>160</td>\n",
       "      <td>La nourriture est très bonne et le service. No...</td>\n",
       "      <td>nourriture très bonne service avon pris lune l...</td>\n",
       "      <td>2012</td>\n",
       "      <td>7</td>\n",
       "    </tr>\n",
       "  </tbody>\n",
       "</table>\n",
       "<p>915 rows × 11 columns</p>\n",
       "</div>"
      ],
      "text/plain": [
       "              user        user_profile date_review  \\\n",
       "0        Serpollet           Serpollet  2024-12-02   \n",
       "1            tif s             925tifs  2024-11-18   \n",
       "2         ninoacmo            ninoacmo  2024-11-15   \n",
       "3          Djill38             Djill38  2024-10-21   \n",
       "4             LILI  Odyssey17905604830  2024-08-24   \n",
       "..             ...                 ...         ...   \n",
       "910      janicejmf           janicejmf  2012-12-06   \n",
       "911  theorchidlady       theorchidlady  2012-10-18   \n",
       "912      Trav3lgur           Trav3lgur  2012-09-02   \n",
       "913  daretobe99999       daretobe99999  2012-07-26   \n",
       "914     Johannes M          5johannesm  2012-07-11   \n",
       "\n",
       "                                                 title  rating  \\\n",
       "0                           Grande tradition lyonnaise     5.0   \n",
       "1                                            Bon resto     5.0   \n",
       "2                   Merveilleux repas, service parfait     5.0   \n",
       "3                          Une explosion de saveurs...     5.0   \n",
       "4                             ADRESSE À FAIRE UNE FOIS     3.0   \n",
       "..                                                 ...     ...   \n",
       "910       Expérience merveilleuse de la salle à manger     5.0   \n",
       "911           Deux excellent mais cher restaurant Star     5.0   \n",
       "912  Si je pouvais donner 6 étoiles !! Pour ne pas ...     5.0   \n",
       "913                          J'ai été impressionné ...     5.0   \n",
       "914                          ne pouvait pas être mieux     5.0   \n",
       "\n",
       "         type_visit  num_contributions  \\\n",
       "0           couples                152   \n",
       "1            family                 17   \n",
       "2           couples                 30   \n",
       "3           couples                125   \n",
       "4           couples                237   \n",
       "..              ...                ...   \n",
       "910         friends                 13   \n",
       "911          family                112   \n",
       "912  No information                178   \n",
       "913        business                 12   \n",
       "914         couples                160   \n",
       "\n",
       "                                                review  \\\n",
       "0    Nous avons passé un excellent moment dans ce r...   \n",
       "1    Excellent restaurant \\nSuper qualité prix \\nNo...   \n",
       "2    Notre fils nous a offert un menu Eugénie Brazi...   \n",
       "3    De la prise en charge dès la porte poussée et ...   \n",
       "4    La décoration est resté (beaucoup trop) figé d...   \n",
       "..                                                 ...   \n",
       "910  Quatre d'entre nous avons voyagé par TGV Agde ...   \n",
       "911  Mon mari et moi avons visité ce restaurant deu...   \n",
       "912  J'ai déjeuné ici comme un voyageur en solo, c'...   \n",
       "913  J'ai été impressionné par la belle présentatio...   \n",
       "914  La nourriture est très bonne et le service. No...   \n",
       "\n",
       "                                        review_cleaned  year  month  \n",
       "0    avon passé excellent moment restaurant réputat...  2024     12  \n",
       "1    excellent restaurant super qualité prix nourri...  2024     11  \n",
       "2    fils offert menu eugénie brazier deux arrivée ...  2024     11  \n",
       "3    prise charge dès porte poussée jusquà sortie c...  2024     10  \n",
       "4    décoration resté beaucoup trop figé temp pourt...  2024      8  \n",
       "..                                                 ...   ...    ...  \n",
       "910  quatre dentre avon voyagé tgv agde lyon avon d...  2012     12  \n",
       "911  mari avon visité restaurant deux étoiles miche...  2012     10  \n",
       "912  jai déjeuné ici comme voyageur solo cétait lun...  2012      9  \n",
       "913  jai impressionné belle présentation nourriture...  2012      7  \n",
       "914  nourriture très bonne service avon pris lune l...  2012      7  \n",
       "\n",
       "[915 rows x 11 columns]"
      ]
     },
     "execution_count": 106,
     "metadata": {},
     "output_type": "execute_result"
    }
   ],
   "source": [
    "mere_brazier_cleaned"
   ]
  }
 ],
 "metadata": {
  "kernelspec": {
   "display_name": "Nlp_projet",
   "language": "python",
   "name": "python3"
  },
  "language_info": {
   "codemirror_mode": {
    "name": "ipython",
    "version": 3
   },
   "file_extension": ".py",
   "mimetype": "text/x-python",
   "name": "python",
   "nbconvert_exporter": "python",
   "pygments_lexer": "ipython3",
   "version": "3.12.8"
  }
 },
 "nbformat": 4,
 "nbformat_minor": 2
}
