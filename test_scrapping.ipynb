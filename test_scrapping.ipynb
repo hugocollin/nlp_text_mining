{
 "cells": [
  {
   "cell_type": "markdown",
   "metadata": {},
   "source": [
    "## Test Scrapping"
   ]
  },
  {
   "cell_type": "markdown",
   "metadata": {},
   "source": [
    "### Importation"
   ]
  },
  {
   "cell_type": "code",
   "execution_count": 1,
   "metadata": {},
   "outputs": [],
   "source": [
    "import numpy as np\n",
    "import pandas as pd"
   ]
  },
  {
   "cell_type": "code",
   "execution_count": 2,
   "metadata": {},
   "outputs": [],
   "source": [
    "import searchengine.trip_finder as tf"
   ]
  },
  {
   "cell_type": "code",
   "execution_count": 3,
   "metadata": {},
   "outputs": [],
   "source": [
    "df = pd.read_csv('data/restaurants.csv')"
   ]
  },
  {
   "cell_type": "code",
   "execution_count": 4,
   "metadata": {},
   "outputs": [
    {
     "data": {
      "text/html": [
       "<div>\n",
       "<style scoped>\n",
       "    .dataframe tbody tr th:only-of-type {\n",
       "        vertical-align: middle;\n",
       "    }\n",
       "\n",
       "    .dataframe tbody tr th {\n",
       "        vertical-align: top;\n",
       "    }\n",
       "\n",
       "    .dataframe thead th {\n",
       "        text-align: right;\n",
       "    }\n",
       "</style>\n",
       "<table border=\"1\" class=\"dataframe\">\n",
       "  <thead>\n",
       "    <tr style=\"text-align: right;\">\n",
       "      <th></th>\n",
       "      <th>name</th>\n",
       "      <th>url</th>\n",
       "      <th>id_restaurant</th>\n",
       "    </tr>\n",
       "  </thead>\n",
       "  <tbody>\n",
       "    <tr>\n",
       "      <th>0</th>\n",
       "      <td>Bikube Lyon - Restaurant</td>\n",
       "      <td>https://www.tripadvisor.fr/Restaurant_Review-g...</td>\n",
       "      <td>0</td>\n",
       "    </tr>\n",
       "    <tr>\n",
       "      <th>1</th>\n",
       "      <td>Frazarin Bistrot Franco Italien</td>\n",
       "      <td>https://www.tripadvisor.fr/Restaurant_Review-g...</td>\n",
       "      <td>1</td>\n",
       "    </tr>\n",
       "    <tr>\n",
       "      <th>2</th>\n",
       "      <td>Les Terrasses de Lyon</td>\n",
       "      <td>https://www.tripadvisor.fr/Restaurant_Review-g...</td>\n",
       "      <td>2</td>\n",
       "    </tr>\n",
       "    <tr>\n",
       "      <th>3</th>\n",
       "      <td>Le Comptoir Des Cousins</td>\n",
       "      <td>https://www.tripadvisor.fr/Restaurant_Review-g...</td>\n",
       "      <td>3</td>\n",
       "    </tr>\n",
       "    <tr>\n",
       "      <th>4</th>\n",
       "      <td>Le Grand Réfectoire</td>\n",
       "      <td>https://www.tripadvisor.fr/Restaurant_Review-g...</td>\n",
       "      <td>4</td>\n",
       "    </tr>\n",
       "    <tr>\n",
       "      <th>...</th>\n",
       "      <td>...</td>\n",
       "      <td>...</td>\n",
       "      <td>...</td>\n",
       "    </tr>\n",
       "    <tr>\n",
       "      <th>3137</th>\n",
       "      <td>Kinga</td>\n",
       "      <td>https://www.tripadvisor.fr/Restaurant_Review-g...</td>\n",
       "      <td>3137</td>\n",
       "    </tr>\n",
       "    <tr>\n",
       "      <th>3138</th>\n",
       "      <td>Le Salon - Bar à Vins</td>\n",
       "      <td>https://www.tripadvisor.fr/Restaurant_Review-g...</td>\n",
       "      <td>3138</td>\n",
       "    </tr>\n",
       "    <tr>\n",
       "      <th>3139</th>\n",
       "      <td>Steppe Bar</td>\n",
       "      <td>https://www.tripadvisor.fr/Restaurant_Review-g...</td>\n",
       "      <td>3139</td>\n",
       "    </tr>\n",
       "    <tr>\n",
       "      <th>3140</th>\n",
       "      <td>UNI</td>\n",
       "      <td>https://www.tripadvisor.fr/Restaurant_Review-g...</td>\n",
       "      <td>3140</td>\n",
       "    </tr>\n",
       "    <tr>\n",
       "      <th>3141</th>\n",
       "      <td>Les Glougloutons</td>\n",
       "      <td>https://www.tripadvisor.fr/Restaurant_Review-g...</td>\n",
       "      <td>3141</td>\n",
       "    </tr>\n",
       "  </tbody>\n",
       "</table>\n",
       "<p>3142 rows × 3 columns</p>\n",
       "</div>"
      ],
      "text/plain": [
       "                                 name  \\\n",
       "0            Bikube Lyon - Restaurant   \n",
       "1     Frazarin Bistrot Franco Italien   \n",
       "2               Les Terrasses de Lyon   \n",
       "3             Le Comptoir Des Cousins   \n",
       "4                 Le Grand Réfectoire   \n",
       "...                               ...   \n",
       "3137                            Kinga   \n",
       "3138            Le Salon - Bar à Vins   \n",
       "3139                       Steppe Bar   \n",
       "3140                              UNI   \n",
       "3141                 Les Glougloutons   \n",
       "\n",
       "                                                    url  id_restaurant  \n",
       "0     https://www.tripadvisor.fr/Restaurant_Review-g...              0  \n",
       "1     https://www.tripadvisor.fr/Restaurant_Review-g...              1  \n",
       "2     https://www.tripadvisor.fr/Restaurant_Review-g...              2  \n",
       "3     https://www.tripadvisor.fr/Restaurant_Review-g...              3  \n",
       "4     https://www.tripadvisor.fr/Restaurant_Review-g...              4  \n",
       "...                                                 ...            ...  \n",
       "3137  https://www.tripadvisor.fr/Restaurant_Review-g...           3137  \n",
       "3138  https://www.tripadvisor.fr/Restaurant_Review-g...           3138  \n",
       "3139  https://www.tripadvisor.fr/Restaurant_Review-g...           3139  \n",
       "3140  https://www.tripadvisor.fr/Restaurant_Review-g...           3140  \n",
       "3141  https://www.tripadvisor.fr/Restaurant_Review-g...           3141  \n",
       "\n",
       "[3142 rows x 3 columns]"
      ]
     },
     "execution_count": 4,
     "metadata": {},
     "output_type": "execute_result"
    }
   ],
   "source": [
    "df"
   ]
  },
  {
   "cell_type": "code",
   "execution_count": 16,
   "metadata": {},
   "outputs": [
    {
     "name": "stdout",
     "output_type": "stream",
     "text": [
      "0 https://www.tripadvisor.fr/Restaurant_Review-g187265-d28100759-Reviews-Bikube_Lyon_Restaurant-Lyon_Rhone_Auvergne_Rhone_Alpes.html\n",
      "1 https://www.tripadvisor.fr/Restaurant_Review-g187265-d23110895-Reviews-Frazarin-Lyon_Rhone_Auvergne_Rhone_Alpes.html\n",
      "2 https://www.tripadvisor.fr/Restaurant_Review-g187265-d3727154-Reviews-Les_Terrasses_de_Lyon-Lyon_Rhone_Auvergne_Rhone_Alpes.html\n",
      "3 https://www.tripadvisor.fr/Restaurant_Review-g187265-d12874430-Reviews-Le_Comptoir_Des_Cousins-Lyon_Rhone_Auvergne_Rhone_Alpes.html\n",
      "4 https://www.tripadvisor.fr/Restaurant_Review-g187265-d15373478-Reviews-Le_Grand_Refectoire-Lyon_Rhone_Auvergne_Rhone_Alpes.html\n",
      "5 https://www.tripadvisor.fr/Restaurant_Review-g187265-d20287839-Reviews-Agastache_Restaurant-Lyon_Rhone_Auvergne_Rhone_Alpes.html\n",
      "6 https://www.tripadvisor.fr/Restaurant_Review-g187265-d949361-Reviews-Le_Casse_Museau-Lyon_Rhone_Auvergne_Rhone_Alpes.html\n",
      "7 https://www.tripadvisor.fr/Restaurant_Review-g187265-d1605401-Reviews-Le_Vieux_Lyon-Lyon_Rhone_Auvergne_Rhone_Alpes.html\n",
      "8 https://www.tripadvisor.fr/Restaurant_Review-g187265-d15114321-Reviews-L_affreux_Jojo-Lyon_Rhone_Auvergne_Rhone_Alpes.html\n",
      "9 https://www.tripadvisor.fr/Restaurant_Review-g187265-d15087146-Reviews-La_Table_d_Ambre-Lyon_Rhone_Auvergne_Rhone_Alpes.html\n",
      "10 https://www.tripadvisor.fr/Restaurant_Review-g187265-d14913909-Reviews-BLO_Restaurant-Lyon_Rhone_Auvergne_Rhone_Alpes.html\n",
      "11 https://www.tripadvisor.fr/Restaurant_Review-g187265-d20088872-Reviews-Carmelo-Lyon_Rhone_Auvergne_Rhone_Alpes.html\n",
      "12 https://www.tripadvisor.fr/Restaurant_Review-g187265-d1014592-Reviews-Wasabi-Lyon_Rhone_Auvergne_Rhone_Alpes.html\n",
      "13 https://www.tripadvisor.fr/Restaurant_Review-g187265-d2281210-Reviews-Bouchon_Les_Lyonnais-Lyon_Rhone_Auvergne_Rhone_Alpes.html\n",
      "14 https://www.tripadvisor.fr/Restaurant_Review-g187265-d5539701-Reviews-L_Institut_Restaurant-Lyon_Rhone_Auvergne_Rhone_Alpes.html\n",
      "15 https://www.tripadvisor.fr/Restaurant_Review-g187265-d17541665-Reviews-La_Source-Lyon_Rhone_Auvergne_Rhone_Alpes.html\n",
      "16 https://www.tripadvisor.fr/Restaurant_Review-g187265-d4059959-Reviews-Mama_Restaurant_Lyon-Lyon_Rhone_Auvergne_Rhone_Alpes.html\n",
      "17 https://www.tripadvisor.fr/Restaurant_Review-g187265-d19658212-Reviews-Chez_Micheline-Lyon_Rhone_Auvergne_Rhone_Alpes.html\n",
      "18 https://www.tripadvisor.fr/Restaurant_Review-g187265-d15210556-Reviews-Culina_Hortus-Lyon_Rhone_Auvergne_Rhone_Alpes.html\n",
      "19 https://www.tripadvisor.fr/Restaurant_Review-g187265-d695217-Reviews-Brasserie_Georges-Lyon_Rhone_Auvergne_Rhone_Alpes.html\n",
      "Creating a new session...\n",
      "{'Connection': 'keep-alive', 'Content-Length': '734', 'accept-ch': 'Sec-CH-UA,Sec-CH-UA-Mobile,Sec-CH-UA-Platform,Sec-CH-UA-Arch,Sec-CH-UA-Full-Version-List,Sec-CH-UA-Model,Sec-CH-Device-Memory', 'x-envoy-upstream-service-time': '5', 'server': 'envoy', 'x-datadome': 'protected', 'access-control-allow-credentials': 'true', 'access-control-expose-headers': 'x-dd-b, x-set-cookie', 'content-type': 'text/html;charset=utf-8', 'access-control-allow-origin': '*', 'x-datadome-cid': 'AHrlqAAAAAMA66UlEwOKEVsATYV5uw==', 'x-dd-b': '1', 'set-cookie': 'datadome=pF~piwDW_Np676KOIjZiteA93Im8SGlzJz7BGiuMMa14ABNUMCND9WaafVxh_MBZl1xzla8yiXGSseOQ_tiTmPn4_s5F8VONf_AgbNm~iq3Z5cA73yERhPs3ZQHEPMvS; Max-Age=31104000; Domain=.tripadvisor.fr; Path=/; Secure; SameSite=Lax', 'pragma': 'no-cache', 'charset': 'utf-8', 'cache-control': 'max-age=0, private, no-cache, no-store, must-revalidate', 'x-request-id': 'c596f208-320f-4599-9563-4132b9a1c0cb', 'Accept-Ranges': 'bytes', 'Date': 'Thu, 09 Jan 2025 22:22:10 GMT', 'Via': '1.1 varnish', 'X-Served-By': 'cache-par-lfpg1960031-PAR', 'X-Cache': 'MISS', 'X-Cache-Hits': '0', 'X-Timer': 'S1736461330.052190,VS0,VE92', 'Vary': 'Accept-Encoding'}\n",
      "403 Forbidden\n",
      "<html lang=\"fr\"><head><title>tripadvisor.fr</title><style>#cmsg{animation: A 1.5s;}@keyframes A{0%{opacity:0;}99%{opacity:0;}100%{opacity:1;}}</style></head><body style=\"margin:0\"><p id=\"cmsg\">Please enable JS and disable any ad blocker</p><script data-cfasync=\"false\">var dd={'rt':'c','cid':'AHrlqAAAAAMA66UlEwOKEVsATYV5uw==','hsh':'2F05D671381DB06BEE4CC52C7A6FD3','t':'fe','s':46694,'e':'d8ff40e7b8ba8132cbb76edb179c2dfa155ffc839d79fa4f56017db79926a6c0','host':'geo.captcha-delivery.com','cookie':'pF~piwDW_Np676KOIjZiteA93Im8SGlzJz7BGiuMMa14ABNUMCND9WaafVxh_MBZl1xzla8yiXGSseOQ_tiTmPn4_s5F8VONf_AgbNm~iq3Z5cA73yERhPs3ZQHEPMvS'}</script><script data-cfasync=\"false\" src=\"https://ct.captcha-delivery.com/c.js\"></script></body></html>\n"
     ]
    },
    {
     "ename": "KeyboardInterrupt",
     "evalue": "",
     "output_type": "error",
     "traceback": [
      "\u001b[1;31m---------------------------------------------------------------------------\u001b[0m",
      "\u001b[1;31mKeyboardInterrupt\u001b[0m                         Traceback (most recent call last)",
      "Cell \u001b[1;32mIn[16], line 12\u001b[0m\n\u001b[0;32m     10\u001b[0m     \u001b[38;5;28;01mcontinue\u001b[39;00m\n\u001b[0;32m     11\u001b[0m mod \u001b[38;5;241m=\u001b[39m tf\u001b[38;5;241m.\u001b[39mrestaurant_info_extractor()\n\u001b[1;32m---> 12\u001b[0m \u001b[43mmod\u001b[49m\u001b[38;5;241;43m.\u001b[39;49m\u001b[43mscrape_restaurant\u001b[49m\u001b[43m(\u001b[49m\u001b[43murl\u001b[49m\u001b[43m)\u001b[49m\n\u001b[0;32m     13\u001b[0m df_avis, df_details, df_location, df_reviews \u001b[38;5;241m=\u001b[39m mod\u001b[38;5;241m.\u001b[39mto_dataframe()\n\u001b[0;32m     15\u001b[0m df_avis\u001b[38;5;241m.\u001b[39mto_csv(file_name_avis)\n",
      "File \u001b[1;32mc:\\Users\\gabry\\Documents\\SISE\\nlp_text_mining\\searchengine\\trip_finder.py:436\u001b[0m, in \u001b[0;36mrestaurant_info_extractor.scrape_restaurant\u001b[1;34m(self, url)\u001b[0m\n\u001b[0;32m    435\u001b[0m \u001b[38;5;28;01mdef\u001b[39;00m \u001b[38;5;21mscrape_restaurant\u001b[39m(\u001b[38;5;28mself\u001b[39m, url):\n\u001b[1;32m--> 436\u001b[0m     \u001b[38;5;28;43mself\u001b[39;49m\u001b[38;5;241;43m.\u001b[39;49m\u001b[43mrun\u001b[49m\u001b[43m(\u001b[49m\u001b[43murl\u001b[49m\u001b[43m)\u001b[49m\n\u001b[0;32m    437\u001b[0m     \u001b[38;5;28;01mif\u001b[39;00m \u001b[38;5;129;01mnot\u001b[39;00m \u001b[38;5;28mself\u001b[39m\u001b[38;5;241m.\u001b[39msoup:\n\u001b[0;32m    438\u001b[0m         \u001b[38;5;28mprint\u001b[39m(\u001b[38;5;124mf\u001b[39m\u001b[38;5;124m\"\u001b[39m\u001b[38;5;124mFailed to get restaurant page \u001b[39m\u001b[38;5;132;01m{\u001b[39;00murl\u001b[38;5;132;01m}\u001b[39;00m\u001b[38;5;124m\"\u001b[39m)\n",
      "File \u001b[1;32mc:\\Users\\gabry\\Documents\\SISE\\nlp_text_mining\\searchengine\\trip_finder.py:92\u001b[0m, in \u001b[0;36mSearchEngine.run\u001b[1;34m(self, url)\u001b[0m\n\u001b[0;32m     90\u001b[0m     \u001b[38;5;28mself\u001b[39m\u001b[38;5;241m.\u001b[39msession \u001b[38;5;241m=\u001b[39m \u001b[38;5;28;01mNone\u001b[39;00m\n\u001b[0;32m     91\u001b[0m     \u001b[38;5;28mself\u001b[39m\u001b[38;5;241m.\u001b[39mcookies \u001b[38;5;241m=\u001b[39m np\u001b[38;5;241m.\u001b[39mrandom\u001b[38;5;241m.\u001b[39mchoice(\u001b[38;5;28mself\u001b[39m\u001b[38;5;241m.\u001b[39mcookies_list)\n\u001b[1;32m---> 92\u001b[0m     \u001b[43mtime\u001b[49m\u001b[38;5;241;43m.\u001b[39;49m\u001b[43msleep\u001b[49m\u001b[43m(\u001b[49m\u001b[38;5;241;43m10\u001b[39;49m\u001b[43m)\u001b[49m\n\u001b[0;32m     93\u001b[0m     \u001b[38;5;28;01mreturn\u001b[39;00m \u001b[38;5;28mself\u001b[39m\u001b[38;5;241m.\u001b[39mrun(url)\n\u001b[0;32m     94\u001b[0m \u001b[38;5;28;01melif\u001b[39;00m response\u001b[38;5;241m.\u001b[39mstatus_code \u001b[38;5;241m==\u001b[39m \u001b[38;5;241m503\u001b[39m:\n",
      "\u001b[1;31mKeyboardInterrupt\u001b[0m: "
     ]
    }
   ],
   "source": [
    "import os\n",
    "for i,url in enumerate(df[\"url\"]) :\n",
    "    print(i, url)\n",
    "    df[\"name\"][i]\n",
    "    file_name_avis = \"data/scrapping/\"+df[\"name\"][i]+\"_avis.csv\"\n",
    "    file_name_details = \"data/scrapping/\"+df[\"name\"][i]+\"_details.csv\"\n",
    "    file_name_location = \"data/scrapping/\"+df[\"name\"][i]+\"_location.csv\"\n",
    "    file_name_reviews = \"data/scrapping/\"+df[\"name\"][i]+\"_reviews.csv\"\n",
    "    if os.path.exists(file_name_avis) and os.path.exists(file_name_details) and os.path.exists(file_name_location) and os.path.exists(file_name_reviews):\n",
    "        continue\n",
    "    mod = tf.restaurant_info_extractor()\n",
    "    mod.scrape_restaurant(url)\n",
    "    df_avis, df_details, df_location, df_reviews = mod.to_dataframe()\n",
    "\n",
    "    df_avis.to_csv(file_name_avis)\n",
    "    df_details.to_csv(file_name_details)\n",
    "    df_location.to_csv(file_name_location)\n",
    "    df_reviews.to_csv(file_name_reviews)\n",
    "    "
   ]
  },
  {
   "cell_type": "code",
   "execution_count": 8,
   "metadata": {},
   "outputs": [],
   "source": [
    "df_avis = pd.concat(liste_df_avis)\n",
    "df_details = pd.concat(liste_df_details)\n",
    "df_location = pd.concat(liste_df_location)\n",
    "df_reviews = pd.concat(liste_df_reviews)\n"
   ]
  },
  {
   "cell_type": "code",
   "execution_count": 12,
   "metadata": {},
   "outputs": [],
   "source": [
    " file_name_avis = \"data/scrapping/\"+df[\"name\"][i]+\".csv\""
   ]
  },
  {
   "cell_type": "code",
   "execution_count": 13,
   "metadata": {},
   "outputs": [
    {
     "data": {
      "text/plain": [
       "'data/scrapping/BLO Restaurant.csv'"
      ]
     },
     "execution_count": 13,
     "metadata": {},
     "output_type": "execute_result"
    }
   ],
   "source": [
    "file_name_avis"
   ]
  },
  {
   "cell_type": "code",
   "execution_count": null,
   "metadata": {},
   "outputs": [
    {
     "data": {
      "text/plain": [
       "<Response [403]>"
      ]
     },
     "execution_count": 18,
     "metadata": {},
     "output_type": "execute_result"
    }
   ],
   "source": [
    "import requests\n",
    "\n",
    "\n",
    "url = \"https://www.tripadvisor.fr/Restaurant_Review-g187147-d1010527-Reviews-Le_Cinq-Paris_Ile_de_France.html\"\n",
    "response = requests.get(url)\n",
    "response"
   ]
  },
  {
   "cell_type": "code",
   "execution_count": null,
   "metadata": {},
   "outputs": [],
   "source": []
  }
 ],
 "metadata": {
  "kernelspec": {
   "display_name": "tripadvisor",
   "language": "python",
   "name": "python3"
  },
  "language_info": {
   "codemirror_mode": {
    "name": "ipython",
    "version": 3
   },
   "file_extension": ".py",
   "mimetype": "text/x-python",
   "name": "python",
   "nbconvert_exporter": "python",
   "pygments_lexer": "ipython3",
   "version": "3.13.0"
  }
 },
 "nbformat": 4,
 "nbformat_minor": 2
}
