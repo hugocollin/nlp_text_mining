{
 "cells": [
  {
   "cell_type": "code",
   "execution_count": null,
   "metadata": {},
   "outputs": [],
   "source": [
    "# --- Étape 2 : Charger les données ---\n",
    "from src.pipeline import Pipeline\n",
    "pipe = Pipeline()\n",
    "df_reviews = pipe.get_every_reviews()"
   ]
  },
  {
   "cell_type": "code",
   "execution_count": null,
   "metadata": {},
   "outputs": [
    {
     "name": "stdout",
     "output_type": "stream",
     "text": [
      "   restaurant_id  user_id  review_id  \\\n",
      "0              1        1          1   \n",
      "1              1        2          2   \n",
      "2              1        3          3   \n",
      "3              1        4          4   \n",
      "4              1        5          5   \n",
      "\n",
      "                                               title     user_profile  \\\n",
      "0                                  Très belle soirée           SetC77   \n",
      "1  Vive la bonne cuisine dans une ambiance conviv...   H3293ZGsylviel   \n",
      "2                                          Sans plus  marieno_lleb739   \n",
      "3                                      Bon et joyeux          Vymsbmm   \n",
      "4  Bon restaurant et endroit pour se retrouver en...       Youliic974   \n",
      "\n",
      "  date_review  rating type_visit  num_contributions  \\\n",
      "0  2024-12-16     5.0    friends                 67   \n",
      "1  2024-11-26     5.0    friends                  2   \n",
      "2  2024-11-23     3.0    friends                 96   \n",
      "3  2024-11-14     5.0    friends                225   \n",
      "4  2024-11-01     4.0    friends                 38   \n",
      "\n",
      "                                              review  ... rank prix_min  \\\n",
      "0  Trop bon moment!! \\nAccueil, plats, ambiance t...  ...  149      NaN   \n",
      "1  Toujours aussi goûteux !\\nL'ambiance, la bonne...  ...  149      NaN   \n",
      "2  Les serveurs et serveuses sont sympas. Mais l’...  ...  149      NaN   \n",
      "3  Une excellente soirée dans ce petit restaurant...  ...  149      NaN   \n",
      "4  Un super moment entre amis.\\nLes plats étaient...  ...  149      NaN   \n",
      "\n",
      "   prix_max etoiles_michelin  note_globale qualite_prix_note  cuisine_note  \\\n",
      "0       NaN                0           4.0               4.2           4.2   \n",
      "1       NaN                0           4.0               4.2           4.2   \n",
      "2       NaN                0           4.0               4.2           4.2   \n",
      "3       NaN                0           4.0               4.2           4.2   \n",
      "4       NaN                0           4.0               4.2           4.2   \n",
      "\n",
      "   service_note  ambiance_note               cuisines  \n",
      "0           4.2            4.2  Française, Européenne  \n",
      "1           4.2            4.2  Française, Européenne  \n",
      "2           4.2            4.2  Française, Européenne  \n",
      "3           4.2            4.2  Française, Européenne  \n",
      "4           4.2            4.2  Française, Européenne  \n",
      "\n",
      "[5 rows x 28 columns]\n"
     ]
    }
   ],
   "source": [
    "import pandas as pd\n",
    "import numpy as np\n",
    "import re\n",
    "import string\n",
    "from nltk.corpus import stopwords\n",
    "from nltk.tokenize import word_tokenize\n",
    "from nltk.stem import WordNetLemmatizer\n",
    "from sklearn.feature_extraction.text import CountVectorizer, TfidfVectorizer\n",
    "from sklearn.metrics.pairwise import cosine_similarity\n",
    "from sklearn.preprocessing import StandardScaler\n",
    "from sklearn.cluster import KMeans\n",
    "from sklearn.decomposition import PCA\n",
    "import plotly.express as px\n",
    "from textblob import TextBlob\n",
    "\n",
    "# Charger les stopwords français\n",
    "STOP_WORDS_URL = \"https://raw.githubusercontent.com/stopwords-iso/stopwords-fr/master/stopwords-fr.txt\"\n",
    "stop_words = pd.read_csv(STOP_WORDS_URL, header=None)[0].tolist()\n",
    "\n",
    "# Initialiser les outils de NLP\n",
    "lemmatizer = WordNetLemmatizer()\n",
    "\n",
    "# --- Étape 1 : Prétraitement du texte ---\n",
    "def clean_text(text):\n",
    "    \"\"\"Nettoie un texte en supprimant les caractères spéciaux, ponctuation, etc.\"\"\"\n",
    "    text = text.lower()\n",
    "    text = re.sub(r'\\d+', '', text)  # Supprimer les chiffres\n",
    "    text = text.translate(str.maketrans('', '', string.punctuation))  # Supprimer la ponctuation\n",
    "    text = re.sub(r'\\s+', ' ', text).strip()  # Supprimer les espaces multiples\n",
    "    text = re.sub(r'\\b\\w\\b', '', text)  # Supprimer les caractères seuls\n",
    "    return text\n",
    "\n",
    "def preprocess(review):\n",
    "    \"\"\"Nettoie, tokenize, et lemmatise un texte tout en supprimant les stopwords.\"\"\"\n",
    "    review = review.lower()\n",
    "    tokens = word_tokenize(review)\n",
    "    tokens = [token for token in tokens if token not in stop_words and len(token) > 2]\n",
    "    tokens = [lemmatizer.lemmatize(token) for token in tokens]\n",
    "    return ' '.join(tokens)\n",
    "\n",
    "# --- Étape 2 : Charger les données ---\n",
    "# pipe = Pipeline()\n",
    "# df_reviews = pipe.get_every_reviews()\n",
    "df_reviews[\"cleaned_review\"] = df_reviews[\"review\"].apply(preprocess)\n",
    "\n",
    "# --- Étape 3 : Analyse des sentiments ---\n",
    "df_reviews[\"sentiment\"] = df_reviews[\"review\"].apply(lambda x: TextBlob(x).sentiment.polarity)\n",
    "df_reviews[\"sentiment_label\"] = df_reviews[\"sentiment\"].apply(lambda x: \"positive\" if x >= 0 else \"negative\")\n",
    "\n",
    "# --- Étape 4 : Clustering des restaurants ---\n",
    "# Charger les données des restaurants\n",
    "restaurants = pipe.get_all_restaurants()\n",
    "df_restaurants = pd.DataFrame([{\n",
    "    \"id_restaurant\": r.id_restaurant,\n",
    "    \"nom\": r.nom,\n",
    "    \"latitude\": r.latitude,\n",
    "    \"longitude\": r.longitude,\n",
    "    \"rank\": r.rank,\n",
    "    \"prix_min\": r.prix_min,\n",
    "    \"prix_max\": r.prix_max,\n",
    "    \"etoiles_michelin\": r.etoiles_michelin,\n",
    "    \"note_globale\": r.note_globale,\n",
    "    \"qualite_prix_note\": r.qualite_prix_note,\n",
    "    \"cuisine_note\": r.cuisine_note,\n",
    "    \"service_note\": r.service_note,\n",
    "    \"ambiance_note\": r.ambiance_note,\n",
    "    \"cuisines\": r.cuisines\n",
    "} for r in restaurants if r.scrapped == 1])\n",
    "\n",
    "# Joindre les avis nettoyés avec les informations des restaurants\n",
    "df = pd.merge(df_reviews, df_restaurants, left_on=\"restaurant_id\", right_on=\"id_restaurant\", how=\"inner\")\n",
    "print(df.head())\n"
   ]
  },
  {
   "cell_type": "code",
   "execution_count": 53,
   "metadata": {},
   "outputs": [
    {
     "data": {
      "text/plain": [
       "0        moment accueil plat ambiance passer moment ami...\n",
       "1        goûteux l'ambiance bonne humeur moment convivi...\n",
       "2        serveurs serveuses sympas onglet tendre terrin...\n",
       "3        excellente soirée petit restaurant écart côté ...\n",
       "4        super moment amis plat délicieux conseille for...\n",
       "                               ...                        \n",
       "20656    petit restaurant quartier service impeccable s...\n",
       "20657    meilleurs coréens jamais tester service agréab...\n",
       "20658    eme visite café ambiance cosy plat délicieux m...\n",
       "20659    amis lyonnais découvrir restaurant coréen d'ab...\n",
       "20660    accueil chaleureux serveur souriant plat jolim...\n",
       "Name: cleaned_review, Length: 20661, dtype: object"
      ]
     },
     "execution_count": 53,
     "metadata": {},
     "output_type": "execute_result"
    }
   ],
   "source": [
    "df[\"cleaned_review\"]"
   ]
  },
  {
   "cell_type": "code",
   "execution_count": 54,
   "metadata": {},
   "outputs": [],
   "source": [
    "# --- Étape 5 : Vectorisation des avis avec TF-IDF ---\n",
    "tfidf_vectorizer = TfidfVectorizer(max_features=10000)\n",
    "X_tfidf = tfidf_vectorizer.fit_transform(df[\"cleaned_review\"])\n",
    "\n",
    "# Ajouter les vecteurs TF-IDF agrégés par restaurant\n",
    "df[\"tfidf_vector\"] = list(X_tfidf.toarray())\n",
    "aggregated_tfidf = (\n",
    "    df.groupby(\"restaurant_id\")[\"tfidf_vector\"]\n",
    "    .apply(lambda x: np.mean(np.vstack(x), axis=0))  # Moyenne des vecteurs TF-IDF\n",
    "    .reset_index()\n",
    ")\n",
    "aggregated_tfidf.columns = [\"id_restaurant\", \"tfidf_vector\"]\n",
    "df_restaurants = df_restaurants.merge(aggregated_tfidf, on=\"id_restaurant\", how=\"left\")\n",
    "\n",
    "# --- Étape 6 : Clustering avec KMeans ---\n",
    "features = [\"prix_min\", \"prix_max\", \"note_globale\", \"qualite_prix_note\", \"cuisine_note\", \"service_note\", \"ambiance_note\"]\n",
    "restaurant_features = pd.concat([df_restaurants[features], pd.DataFrame(aggregated_tfidf[\"tfidf_vector\"].to_list())], axis=1)\n",
    "restaurant_features.columns = restaurant_features.columns.astype(str)\n"
   ]
  },
  {
   "cell_type": "code",
   "execution_count": 55,
   "metadata": {},
   "outputs": [
    {
     "data": {
      "text/plain": [
       "array(['00', '000', '02', ..., 'œuvre', 'œuvrer', 'œuvres'], dtype=object)"
      ]
     },
     "execution_count": 55,
     "metadata": {},
     "output_type": "execute_result"
    }
   ],
   "source": [
    "tfidf_vectorizer.get_feature_names_out()"
   ]
  },
  {
   "cell_type": "code",
   "execution_count": 56,
   "metadata": {},
   "outputs": [
    {
     "name": "stdout",
     "output_type": "stream",
     "text": [
      "Restaurant recommandé pour le mot-clé 'italienne': {'nom': 'Carmelo', 'note_globale': 4.0, 'prix_min': 9.0, 'prix_max': 25.0, 'cuisines': 'Italienne, Toscane, Romana, Latium, Sicilienne, Ligurienne, Italie du Nord, Italie du Centre, Italie du Sud', 'similarity_score': 0.13367823167586754}\n"
     ]
    }
   ],
   "source": [
    "# --- Étape 8 : Recommandation basée sur mot-clé ---\n",
    "def find_restaurant_by_keyword(keyword, vectorizer, restaurant_features):\n",
    "    \"\"\"Trouver le restaurant le plus pertinent en fonction d'un mot-clé.\"\"\"\n",
    "    keyword_vector = vectorizer.transform([keyword])\n",
    "    restaurant_vectors = np.vstack(restaurant_features[\"tfidf_vector\"])\n",
    "    similarities = cosine_similarity(keyword_vector, restaurant_vectors).flatten()\n",
    "    best_match_idx = np.argmax(similarities)\n",
    "    best_match = restaurant_features.iloc[best_match_idx]\n",
    "    return {\n",
    "        \"nom\": best_match[\"nom\"],\n",
    "        \"note_globale\": best_match[\"note_globale\"],\n",
    "        \"prix_min\": best_match[\"prix_min\"],\n",
    "        \"prix_max\": best_match[\"prix_max\"],\n",
    "        \"cuisines\": best_match[\"cuisines\"],\n",
    "        \"similarity_score\": similarities[best_match_idx]\n",
    "    }\n",
    "\n",
    "# Exemple de recherche\n",
    "keyword = \"italienne\"\n",
    "best_match = find_restaurant_by_keyword(keyword, tfidf_vectorizer, df_restaurants)\n",
    "print(f\"Restaurant recommandé pour le mot-clé '{keyword}': {best_match}\")"
   ]
  },
  {
   "cell_type": "code",
   "execution_count": 57,
   "metadata": {},
   "outputs": [
    {
     "data": {
      "application/vnd.plotly.v1+json": {
       "config": {
        "plotlyServerURL": "https://plot.ly"
       },
       "data": [
        {
         "customdata": [
          [
           "Le Bouchon des Filles"
          ],
          [
           "Les Terrasses de Lyon"
          ],
          [
           "Frazarin Bistrot Franco Italien"
          ],
          [
           "Le Grand Réfectoire"
          ],
          [
           "Bikube Lyon - Restaurant"
          ],
          [
           "Le Comptoir Des Cousins"
          ],
          [
           "Agastache Restaurant"
          ],
          [
           "Le Casse Museau"
          ],
          [
           "Le Vieux Lyon"
          ],
          [
           "L'affreux Jojo"
          ],
          [
           "La Table d’Ambre"
          ],
          [
           "BLO Restaurant"
          ],
          [
           "Carmelo"
          ],
          [
           "Wasabi"
          ],
          [
           "Bouchon Les Lyonnais"
          ],
          [
           "L'Institut Restaurant"
          ],
          [
           "La Source"
          ],
          [
           "Mama Restaurant Lyon"
          ],
          [
           "Chez Micheline"
          ],
          [
           "Culina Hortus"
          ],
          [
           "Brasserie Georges"
          ],
          [
           "Empanadas Club"
          ],
          [
           "Le Bouchon Sully"
          ],
          [
           "Burgundy By Matthieu"
          ],
          [
           "La Gache"
          ],
          [
           "La Mere Brazier"
          ],
          [
           "Restaurant Rustique"
          ],
          [
           "Le Coquemar"
          ],
          [
           "Kenbo"
          ],
          [
           "L'arquebuse"
          ],
          [
           "Le Neuvième Art"
          ],
          [
           "Miraflores"
          ],
          [
           "Kopain & Café"
          ]
         ],
         "hovertemplate": "PCA1=%{x}<br>PCA2=%{y}<br>PCA3=%{z}<br>restaurant_name=%{customdata[0]}<br>cluster=%{marker.color}<extra></extra>",
         "legendgroup": "",
         "marker": {
          "color": [
           1,
           2,
           1,
           1,
           1,
           1,
           1,
           1,
           1,
           1,
           1,
           1,
           0,
           1,
           1,
           1,
           1,
           1,
           1,
           1,
           3,
           1,
           1,
           1,
           1,
           1,
           1,
           1,
           1,
           1,
           1,
           4,
           1
          ],
          "coloraxis": "coloraxis",
          "symbol": "circle"
         },
         "mode": "markers",
         "name": "",
         "scene": "scene",
         "showlegend": false,
         "type": "scatter3d",
         "x": [
          12.143211923214675,
          93.10356501426766,
          -22.669909121146407,
          43.5578168997097,
          -28.41206841880658,
          -12.071137949243528,
          -20.374910473545196,
          -14.0103914156248,
          -4.294180536180214,
          -21.02124191892863,
          -7.894930926923547,
          -12.296832556181926,
          19.950086188037425,
          -1.2751624984728844,
          18.315339708597214,
          14.907962924134761,
          -25.153797869365068,
          25.568560196983142,
          -26.86150704583368,
          2.462268158638837,
          49.648868234911596,
          -22.8061845977425,
          -17.651160502875786,
          16.96770522040063,
          -27.642483035843117,
          49.58298681242957,
          -19.81535593946102,
          -27.95483737689715,
          -24.734539089641448,
          -28.333823568386833,
          39.179882853878716,
          8.450832191310731,
          -28.564631485414363
         ],
         "y": [
          27.92829727899314,
          -50.00089731579162,
          -9.31007802185185,
          39.261338232363634,
          -0.08681062348048119,
          -4.464933951090048,
          -16.170029571339732,
          0.9713903859314452,
          21.920969023754576,
          3.6806769964240638,
          -13.712349361871603,
          -1.1431223115416154,
          44.731524008864184,
          -3.0811396574868337,
          31.69974206701987,
          -6.147359561890508,
          -0.5500552562563427,
          40.05070705130469,
          5.328389373610534,
          -27.361659406054873,
          57.333288263928715,
          4.629634525689553,
          5.612679347363182,
          -22.60806962337964,
          0.7747644537914649,
          -21.595403290853486,
          -30.22508253286928,
          2.7056345052930815,
          1.6515196959223306,
          -0.9578419106228413,
          -36.60995815624608,
          -44.473030226121494,
          0.2172655684938632
         ],
         "z": [
          -2.8185541276090373,
          90.69734096854079,
          4.172642042699407,
          -20.656752682149104,
          10.4131385372147,
          -0.7552384415566686,
          -1.784655855065607,
          4.528651405714915,
          7.232205884022963,
          8.677731378019605,
          -2.0482742722984293,
          6.720337556576641,
          -2.766614823436926,
          -5.924030035348299,
          3.0745118117103063,
          -3.866363536446236,
          11.061990978456729,
          -4.336143314041669,
          12.094981584624723,
          -23.415062487995296,
          -12.17457201872602,
          7.5807961134599475,
          10.166854698345915,
          -16.54876749559729,
          11.327866081227056,
          -29.564926699431027,
          -7.500878146020936,
          12.820337194636737,
          8.945907907026942,
          10.803176106854783,
          -37.1779376886211,
          -59.163195544168794,
          10.183496919380255
         ]
        }
       ],
       "layout": {
        "coloraxis": {
         "colorbar": {
          "title": {
           "text": "cluster"
          }
         },
         "colorscale": [
          [
           0,
           "#0d0887"
          ],
          [
           0.1111111111111111,
           "#46039f"
          ],
          [
           0.2222222222222222,
           "#7201a8"
          ],
          [
           0.3333333333333333,
           "#9c179e"
          ],
          [
           0.4444444444444444,
           "#bd3786"
          ],
          [
           0.5555555555555556,
           "#d8576b"
          ],
          [
           0.6666666666666666,
           "#ed7953"
          ],
          [
           0.7777777777777778,
           "#fb9f3a"
          ],
          [
           0.8888888888888888,
           "#fdca26"
          ],
          [
           1,
           "#f0f921"
          ]
         ]
        },
        "legend": {
         "tracegroupgap": 0
        },
        "scene": {
         "domain": {
          "x": [
           0,
           1
          ],
          "y": [
           0,
           1
          ]
         },
         "xaxis": {
          "title": {
           "text": "PCA1"
          }
         },
         "yaxis": {
          "title": {
           "text": "PCA2"
          }
         },
         "zaxis": {
          "title": {
           "text": "PCA3"
          }
         }
        },
        "template": {
         "data": {
          "bar": [
           {
            "error_x": {
             "color": "#2a3f5f"
            },
            "error_y": {
             "color": "#2a3f5f"
            },
            "marker": {
             "line": {
              "color": "#E5ECF6",
              "width": 0.5
             },
             "pattern": {
              "fillmode": "overlay",
              "size": 10,
              "solidity": 0.2
             }
            },
            "type": "bar"
           }
          ],
          "barpolar": [
           {
            "marker": {
             "line": {
              "color": "#E5ECF6",
              "width": 0.5
             },
             "pattern": {
              "fillmode": "overlay",
              "size": 10,
              "solidity": 0.2
             }
            },
            "type": "barpolar"
           }
          ],
          "carpet": [
           {
            "aaxis": {
             "endlinecolor": "#2a3f5f",
             "gridcolor": "white",
             "linecolor": "white",
             "minorgridcolor": "white",
             "startlinecolor": "#2a3f5f"
            },
            "baxis": {
             "endlinecolor": "#2a3f5f",
             "gridcolor": "white",
             "linecolor": "white",
             "minorgridcolor": "white",
             "startlinecolor": "#2a3f5f"
            },
            "type": "carpet"
           }
          ],
          "choropleth": [
           {
            "colorbar": {
             "outlinewidth": 0,
             "ticks": ""
            },
            "type": "choropleth"
           }
          ],
          "contour": [
           {
            "colorbar": {
             "outlinewidth": 0,
             "ticks": ""
            },
            "colorscale": [
             [
              0,
              "#0d0887"
             ],
             [
              0.1111111111111111,
              "#46039f"
             ],
             [
              0.2222222222222222,
              "#7201a8"
             ],
             [
              0.3333333333333333,
              "#9c179e"
             ],
             [
              0.4444444444444444,
              "#bd3786"
             ],
             [
              0.5555555555555556,
              "#d8576b"
             ],
             [
              0.6666666666666666,
              "#ed7953"
             ],
             [
              0.7777777777777778,
              "#fb9f3a"
             ],
             [
              0.8888888888888888,
              "#fdca26"
             ],
             [
              1,
              "#f0f921"
             ]
            ],
            "type": "contour"
           }
          ],
          "contourcarpet": [
           {
            "colorbar": {
             "outlinewidth": 0,
             "ticks": ""
            },
            "type": "contourcarpet"
           }
          ],
          "heatmap": [
           {
            "colorbar": {
             "outlinewidth": 0,
             "ticks": ""
            },
            "colorscale": [
             [
              0,
              "#0d0887"
             ],
             [
              0.1111111111111111,
              "#46039f"
             ],
             [
              0.2222222222222222,
              "#7201a8"
             ],
             [
              0.3333333333333333,
              "#9c179e"
             ],
             [
              0.4444444444444444,
              "#bd3786"
             ],
             [
              0.5555555555555556,
              "#d8576b"
             ],
             [
              0.6666666666666666,
              "#ed7953"
             ],
             [
              0.7777777777777778,
              "#fb9f3a"
             ],
             [
              0.8888888888888888,
              "#fdca26"
             ],
             [
              1,
              "#f0f921"
             ]
            ],
            "type": "heatmap"
           }
          ],
          "heatmapgl": [
           {
            "colorbar": {
             "outlinewidth": 0,
             "ticks": ""
            },
            "colorscale": [
             [
              0,
              "#0d0887"
             ],
             [
              0.1111111111111111,
              "#46039f"
             ],
             [
              0.2222222222222222,
              "#7201a8"
             ],
             [
              0.3333333333333333,
              "#9c179e"
             ],
             [
              0.4444444444444444,
              "#bd3786"
             ],
             [
              0.5555555555555556,
              "#d8576b"
             ],
             [
              0.6666666666666666,
              "#ed7953"
             ],
             [
              0.7777777777777778,
              "#fb9f3a"
             ],
             [
              0.8888888888888888,
              "#fdca26"
             ],
             [
              1,
              "#f0f921"
             ]
            ],
            "type": "heatmapgl"
           }
          ],
          "histogram": [
           {
            "marker": {
             "pattern": {
              "fillmode": "overlay",
              "size": 10,
              "solidity": 0.2
             }
            },
            "type": "histogram"
           }
          ],
          "histogram2d": [
           {
            "colorbar": {
             "outlinewidth": 0,
             "ticks": ""
            },
            "colorscale": [
             [
              0,
              "#0d0887"
             ],
             [
              0.1111111111111111,
              "#46039f"
             ],
             [
              0.2222222222222222,
              "#7201a8"
             ],
             [
              0.3333333333333333,
              "#9c179e"
             ],
             [
              0.4444444444444444,
              "#bd3786"
             ],
             [
              0.5555555555555556,
              "#d8576b"
             ],
             [
              0.6666666666666666,
              "#ed7953"
             ],
             [
              0.7777777777777778,
              "#fb9f3a"
             ],
             [
              0.8888888888888888,
              "#fdca26"
             ],
             [
              1,
              "#f0f921"
             ]
            ],
            "type": "histogram2d"
           }
          ],
          "histogram2dcontour": [
           {
            "colorbar": {
             "outlinewidth": 0,
             "ticks": ""
            },
            "colorscale": [
             [
              0,
              "#0d0887"
             ],
             [
              0.1111111111111111,
              "#46039f"
             ],
             [
              0.2222222222222222,
              "#7201a8"
             ],
             [
              0.3333333333333333,
              "#9c179e"
             ],
             [
              0.4444444444444444,
              "#bd3786"
             ],
             [
              0.5555555555555556,
              "#d8576b"
             ],
             [
              0.6666666666666666,
              "#ed7953"
             ],
             [
              0.7777777777777778,
              "#fb9f3a"
             ],
             [
              0.8888888888888888,
              "#fdca26"
             ],
             [
              1,
              "#f0f921"
             ]
            ],
            "type": "histogram2dcontour"
           }
          ],
          "mesh3d": [
           {
            "colorbar": {
             "outlinewidth": 0,
             "ticks": ""
            },
            "type": "mesh3d"
           }
          ],
          "parcoords": [
           {
            "line": {
             "colorbar": {
              "outlinewidth": 0,
              "ticks": ""
             }
            },
            "type": "parcoords"
           }
          ],
          "pie": [
           {
            "automargin": true,
            "type": "pie"
           }
          ],
          "scatter": [
           {
            "fillpattern": {
             "fillmode": "overlay",
             "size": 10,
             "solidity": 0.2
            },
            "type": "scatter"
           }
          ],
          "scatter3d": [
           {
            "line": {
             "colorbar": {
              "outlinewidth": 0,
              "ticks": ""
             }
            },
            "marker": {
             "colorbar": {
              "outlinewidth": 0,
              "ticks": ""
             }
            },
            "type": "scatter3d"
           }
          ],
          "scattercarpet": [
           {
            "marker": {
             "colorbar": {
              "outlinewidth": 0,
              "ticks": ""
             }
            },
            "type": "scattercarpet"
           }
          ],
          "scattergeo": [
           {
            "marker": {
             "colorbar": {
              "outlinewidth": 0,
              "ticks": ""
             }
            },
            "type": "scattergeo"
           }
          ],
          "scattergl": [
           {
            "marker": {
             "colorbar": {
              "outlinewidth": 0,
              "ticks": ""
             }
            },
            "type": "scattergl"
           }
          ],
          "scattermapbox": [
           {
            "marker": {
             "colorbar": {
              "outlinewidth": 0,
              "ticks": ""
             }
            },
            "type": "scattermapbox"
           }
          ],
          "scatterpolar": [
           {
            "marker": {
             "colorbar": {
              "outlinewidth": 0,
              "ticks": ""
             }
            },
            "type": "scatterpolar"
           }
          ],
          "scatterpolargl": [
           {
            "marker": {
             "colorbar": {
              "outlinewidth": 0,
              "ticks": ""
             }
            },
            "type": "scatterpolargl"
           }
          ],
          "scatterternary": [
           {
            "marker": {
             "colorbar": {
              "outlinewidth": 0,
              "ticks": ""
             }
            },
            "type": "scatterternary"
           }
          ],
          "surface": [
           {
            "colorbar": {
             "outlinewidth": 0,
             "ticks": ""
            },
            "colorscale": [
             [
              0,
              "#0d0887"
             ],
             [
              0.1111111111111111,
              "#46039f"
             ],
             [
              0.2222222222222222,
              "#7201a8"
             ],
             [
              0.3333333333333333,
              "#9c179e"
             ],
             [
              0.4444444444444444,
              "#bd3786"
             ],
             [
              0.5555555555555556,
              "#d8576b"
             ],
             [
              0.6666666666666666,
              "#ed7953"
             ],
             [
              0.7777777777777778,
              "#fb9f3a"
             ],
             [
              0.8888888888888888,
              "#fdca26"
             ],
             [
              1,
              "#f0f921"
             ]
            ],
            "type": "surface"
           }
          ],
          "table": [
           {
            "cells": {
             "fill": {
              "color": "#EBF0F8"
             },
             "line": {
              "color": "white"
             }
            },
            "header": {
             "fill": {
              "color": "#C8D4E3"
             },
             "line": {
              "color": "white"
             }
            },
            "type": "table"
           }
          ]
         },
         "layout": {
          "annotationdefaults": {
           "arrowcolor": "#2a3f5f",
           "arrowhead": 0,
           "arrowwidth": 1
          },
          "autotypenumbers": "strict",
          "coloraxis": {
           "colorbar": {
            "outlinewidth": 0,
            "ticks": ""
           }
          },
          "colorscale": {
           "diverging": [
            [
             0,
             "#8e0152"
            ],
            [
             0.1,
             "#c51b7d"
            ],
            [
             0.2,
             "#de77ae"
            ],
            [
             0.3,
             "#f1b6da"
            ],
            [
             0.4,
             "#fde0ef"
            ],
            [
             0.5,
             "#f7f7f7"
            ],
            [
             0.6,
             "#e6f5d0"
            ],
            [
             0.7,
             "#b8e186"
            ],
            [
             0.8,
             "#7fbc41"
            ],
            [
             0.9,
             "#4d9221"
            ],
            [
             1,
             "#276419"
            ]
           ],
           "sequential": [
            [
             0,
             "#0d0887"
            ],
            [
             0.1111111111111111,
             "#46039f"
            ],
            [
             0.2222222222222222,
             "#7201a8"
            ],
            [
             0.3333333333333333,
             "#9c179e"
            ],
            [
             0.4444444444444444,
             "#bd3786"
            ],
            [
             0.5555555555555556,
             "#d8576b"
            ],
            [
             0.6666666666666666,
             "#ed7953"
            ],
            [
             0.7777777777777778,
             "#fb9f3a"
            ],
            [
             0.8888888888888888,
             "#fdca26"
            ],
            [
             1,
             "#f0f921"
            ]
           ],
           "sequentialminus": [
            [
             0,
             "#0d0887"
            ],
            [
             0.1111111111111111,
             "#46039f"
            ],
            [
             0.2222222222222222,
             "#7201a8"
            ],
            [
             0.3333333333333333,
             "#9c179e"
            ],
            [
             0.4444444444444444,
             "#bd3786"
            ],
            [
             0.5555555555555556,
             "#d8576b"
            ],
            [
             0.6666666666666666,
             "#ed7953"
            ],
            [
             0.7777777777777778,
             "#fb9f3a"
            ],
            [
             0.8888888888888888,
             "#fdca26"
            ],
            [
             1,
             "#f0f921"
            ]
           ]
          },
          "colorway": [
           "#636efa",
           "#EF553B",
           "#00cc96",
           "#ab63fa",
           "#FFA15A",
           "#19d3f3",
           "#FF6692",
           "#B6E880",
           "#FF97FF",
           "#FECB52"
          ],
          "font": {
           "color": "#2a3f5f"
          },
          "geo": {
           "bgcolor": "white",
           "lakecolor": "white",
           "landcolor": "#E5ECF6",
           "showlakes": true,
           "showland": true,
           "subunitcolor": "white"
          },
          "hoverlabel": {
           "align": "left"
          },
          "hovermode": "closest",
          "mapbox": {
           "style": "light"
          },
          "paper_bgcolor": "white",
          "plot_bgcolor": "#E5ECF6",
          "polar": {
           "angularaxis": {
            "gridcolor": "white",
            "linecolor": "white",
            "ticks": ""
           },
           "bgcolor": "#E5ECF6",
           "radialaxis": {
            "gridcolor": "white",
            "linecolor": "white",
            "ticks": ""
           }
          },
          "scene": {
           "xaxis": {
            "backgroundcolor": "#E5ECF6",
            "gridcolor": "white",
            "gridwidth": 2,
            "linecolor": "white",
            "showbackground": true,
            "ticks": "",
            "zerolinecolor": "white"
           },
           "yaxis": {
            "backgroundcolor": "#E5ECF6",
            "gridcolor": "white",
            "gridwidth": 2,
            "linecolor": "white",
            "showbackground": true,
            "ticks": "",
            "zerolinecolor": "white"
           },
           "zaxis": {
            "backgroundcolor": "#E5ECF6",
            "gridcolor": "white",
            "gridwidth": 2,
            "linecolor": "white",
            "showbackground": true,
            "ticks": "",
            "zerolinecolor": "white"
           }
          },
          "shapedefaults": {
           "line": {
            "color": "#2a3f5f"
           }
          },
          "ternary": {
           "aaxis": {
            "gridcolor": "white",
            "linecolor": "white",
            "ticks": ""
           },
           "baxis": {
            "gridcolor": "white",
            "linecolor": "white",
            "ticks": ""
           },
           "bgcolor": "#E5ECF6",
           "caxis": {
            "gridcolor": "white",
            "linecolor": "white",
            "ticks": ""
           }
          },
          "title": {
           "x": 0.05
          },
          "xaxis": {
           "automargin": true,
           "gridcolor": "white",
           "linecolor": "white",
           "ticks": "",
           "title": {
            "standoff": 15
           },
           "zerolinecolor": "white",
           "zerolinewidth": 2
          },
          "yaxis": {
           "automargin": true,
           "gridcolor": "white",
           "linecolor": "white",
           "ticks": "",
           "title": {
            "standoff": 15
           },
           "zerolinecolor": "white",
           "zerolinewidth": 2
          }
         }
        },
        "title": {
         "text": "Clustering des restaurants"
        }
       }
      }
     },
     "metadata": {},
     "output_type": "display_data"
    }
   ],
   "source": [
    "# recode in str the columns\n",
    "restaurant_features.columns = restaurant_features.columns.astype(str)\n",
    "scaler = StandardScaler()\n",
    "features_scaled = scaler.fit_transform(restaurant_features)\n",
    "\n",
    "# Réduction de dimensions\n",
    "pca = PCA(n_components=3)\n",
    "# remove nan values\n",
    "features_scaled = np.nan_to_num(features_scaled)\n",
    "features_3d = pca.fit_transform(features_scaled)\n",
    "\n",
    "# Appliquer KMeans\n",
    "kmeans = KMeans(n_clusters=5, random_state=42)\n",
    "df_restaurants[\"cluster\"] = kmeans.fit_predict(features_scaled)\n",
    "\n",
    "# --- Étape 7 : Visualisation des clusters ---\n",
    "visual_df = pd.DataFrame(features_3d, columns=[\"PCA1\", \"PCA2\", \"PCA3\"])\n",
    "visual_df[\"cluster\"] = df_restaurants[\"cluster\"]\n",
    "visual_df[\"restaurant_name\"] = df_restaurants[\"nom\"]\n",
    "\n",
    "fig = px.scatter_3d(\n",
    "    visual_df, x=\"PCA1\", y=\"PCA2\", z=\"PCA3\", color=\"cluster\",\n",
    "    hover_data=[\"restaurant_name\"], title=\"Clustering des restaurants\"\n",
    ")\n",
    "fig.show()\n",
    "\n",
    "\n"
   ]
  },
  {
   "cell_type": "code",
   "execution_count": null,
   "metadata": {},
   "outputs": [],
   "source": []
  },
  {
   "cell_type": "code",
   "execution_count": 59,
   "metadata": {},
   "outputs": [
    {
     "name": "stdout",
     "output_type": "stream",
     "text": [
      "Restaurant recommandé pour le mot-clé 'grillades': {'nom': 'Mama Restaurant Lyon', 'note_globale': 4.0, 'prix_min': 7.0, 'prix_max': 47.0, 'cuisines': 'Française, Bars-restaurants', 'similarity_score': 0.0024091894144973895}\n"
     ]
    }
   ],
   "source": [
    "keyword = \"grillades\"\n",
    "best_match = find_restaurant_by_keyword(keyword, tfidf_vectorizer, df_restaurants)\n",
    "print(f\"Restaurant recommandé pour le mot-clé '{keyword}': {best_match}\")"
   ]
  }
 ],
 "metadata": {
  "kernelspec": {
   "display_name": "tripai",
   "language": "python",
   "name": "python3"
  },
  "language_info": {
   "codemirror_mode": {
    "name": "ipython",
    "version": 3
   },
   "file_extension": ".py",
   "mimetype": "text/x-python",
   "name": "python",
   "nbconvert_exporter": "python",
   "pygments_lexer": "ipython3",
   "version": "3.11.11"
  }
 },
 "nbformat": 4,
 "nbformat_minor": 2
}
