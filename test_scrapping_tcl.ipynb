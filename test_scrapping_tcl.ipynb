{
 "cells": [
  {
   "cell_type": "code",
   "execution_count": 17,
   "metadata": {},
   "outputs": [
    {
     "name": "stdout",
     "output_type": "stream",
     "text": [
      "https://www.tcl.fr/itineraires?date=now&pmr=0&from=4.8019631%3B45.6428848&to=4.9151265%3B45.7225931\n"
     ]
    }
   ],
   "source": [
    "import urllib.parse\n",
    "import geopy\n",
    "from geopy.geocoders import Nominatim\n",
    "from searchengine.trip_finder import SearchEngine\n",
    "\n",
    "def get_coordinates(address):\n",
    "    geolocator = Nominatim(user_agent=\"streamlit_app\", timeout=10)\n",
    "    location = geolocator.geocode(f\"{address}, Rhône, France\")\n",
    "    if location:\n",
    "        return location.latitude, location.longitude\n",
    "\n",
    "departure_address = \"323 Chemin des Ferratières Charly\"\n",
    "arrival_address = \"5 Av. Pierre Mendès France, 69500 Bron\"\n",
    "    \n",
    "dep_lat, dep_lon = get_coordinates(departure_address)\n",
    "arr_lat, arr_lon = get_coordinates(arrival_address)\n",
    "            \n",
    "if dep_lat and dep_lon and arr_lat and arr_lon:\n",
    "    from_coord = f\"{dep_lon};{dep_lat}\"\n",
    "    to_coord = f\"{arr_lon};{arr_lat}\"\n",
    "    encoded_from = urllib.parse.quote(from_coord)\n",
    "    encoded_to = urllib.parse.quote(to_coord)\n",
    "    \n",
    "    tcl_url = f\"https://www.tcl.fr/itineraires?date=now&pmr=0&from={encoded_from}&to={encoded_to}\"\n",
    "    print(tcl_url)"
   ]
  }
 ],
 "metadata": {
  "kernelspec": {
   "display_name": "python",
   "language": "python",
   "name": "python3"
  },
  "language_info": {
   "codemirror_mode": {
    "name": "ipython",
    "version": 3
   },
   "file_extension": ".py",
   "mimetype": "text/x-python",
   "name": "python",
   "nbconvert_exporter": "python",
   "pygments_lexer": "ipython3",
   "version": "3.13.0"
  }
 },
 "nbformat": 4,
 "nbformat_minor": 2
}
