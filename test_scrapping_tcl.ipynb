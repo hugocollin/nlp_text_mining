{
 "cells": [
  {
   "cell_type": "code",
   "execution_count": 11,
   "metadata": {},
   "outputs": [],
   "source": [
    "from geopy.geocoders import Nominatim\n",
    "\n",
    "# Fonction pour obtenir les coordonnées d'une adresse\n",
    "def get_coordinates(address):\n",
    "    geolocator = Nominatim(user_agent=\"sise_o_resto\", timeout=10)\n",
    "    current_address = address\n",
    "    while True:\n",
    "        location = geolocator.geocode(f\"{current_address}, Rhône, France\")\n",
    "        if location:\n",
    "            return location.latitude, location.longitude\n",
    "        if ',' in current_address:\n",
    "            before_comma, after_comma = current_address.split(',', 1)\n",
    "            before_words = before_comma.strip().split(' ')\n",
    "            if len(before_words) > 1:\n",
    "                # Supprimer le dernier mot avant la virgule\n",
    "                before_words = before_words[:-1]\n",
    "                new_before = ' '.join(before_words)\n",
    "                current_address = f\"{new_before}, {after_comma.strip()}\"\n",
    "            else:\n",
    "                # Si un seul mot avant la virgule, le supprimer complètement\n",
    "                current_address = after_comma.strip()\n",
    "        else:\n",
    "            break\n",
    "    return None, None"
   ]
  },
  {
   "cell_type": "code",
   "execution_count": 12,
   "metadata": {},
   "outputs": [
    {
     "data": {
      "text/plain": [
       "(45.7686963, 4.8293587)"
      ]
     },
     "execution_count": 12,
     "metadata": {},
     "output_type": "execute_result"
    }
   ],
   "source": [
    "get_coordinates(\"20 Rue Sergent-Blandan Parking Sathonay, 69001 Lyon France\")"
   ]
  },
  {
   "cell_type": "code",
   "execution_count": 87,
   "metadata": {},
   "outputs": [
    {
     "name": "stdout",
     "output_type": "stream",
     "text": [
      "https://www.tcl.fr/itineraires?date=now&pmr=0&from=4.83559115%3B45.76019985&to=4.9151265%3B45.7225931\n"
     ]
    }
   ],
   "source": [
    "import urllib.parse\n",
    "from geopy.geocoders import Nominatim\n",
    "\n",
    "def get_coordinates(address):\n",
    "    geolocator = Nominatim(user_agent=\"streamlit_app\", timeout=10)\n",
    "    location = geolocator.geocode(f\"{address}, Rhône, France\")\n",
    "    if location:\n",
    "        return location.latitude, location.longitude\n",
    "\n",
    "departure_address = \"Rue de la république\"\n",
    "arrival_address = \"5 Av. Pierre Mendès France, 69500 Bron\"\n",
    "    \n",
    "dep_lat, dep_lon = get_coordinates(departure_address)\n",
    "arr_lat, arr_lon = get_coordinates(arrival_address)\n",
    "            \n",
    "if dep_lat and dep_lon and arr_lat and arr_lon:\n",
    "    from_coord = f\"{dep_lon};{dep_lat}\"\n",
    "    to_coord = f\"{arr_lon};{arr_lat}\"\n",
    "    encoded_from = urllib.parse.quote(from_coord)\n",
    "    encoded_to = urllib.parse.quote(to_coord)\n",
    "    \n",
    "    tcl_url = f\"https://www.tcl.fr/itineraires?date=now&pmr=0&from={encoded_from}&to={encoded_to}\"\n",
    "    print(tcl_url)"
   ]
  },
  {
   "cell_type": "code",
   "execution_count": 89,
   "metadata": {},
   "outputs": [
    {
     "name": "stdout",
     "output_type": "stream",
     "text": [
      "Durée du trajet : 38 min\n"
     ]
    }
   ],
   "source": [
    "import requests\n",
    "\n",
    "# URL de l'API\n",
    "tcl_api_url = f\"https://carte.tcl.fr/api/itinerary?datetime=now&from={encoded_from}&to={encoded_to}&params=departure,metro,funiculaire,tramway,bus,shuttle,bss,bike,car&walking=1.12&cycling=4.44\"\n",
    "\n",
    "# Headers pour simuler un navigateur\n",
    "headers = {\n",
    "    \"Accept\": \"application/json, text/plain, */*\",\n",
    "    \"Accept-Encoding\": \"gzip, deflate, br, zstd\",\n",
    "    \"Accept-Language\": \"fr-FR,fr;q=0.9,en-US;q=0.8,en;q=0.7\",\n",
    "    \"Referer\": f\"https://carte.tcl.fr/route-calculation?date=now&from={encoded_from}&to={encoded_to}&lang=fr\",\n",
    "    \"Sec-Ch-Ua\": '\"Google Chrome\";v=\"131\", \"Chromium\";v=\"131\", \"Not_A Brand\";v=\"24\"',\n",
    "    \"Sec-Ch-Ua-Mobile\": \"?0\",\n",
    "    \"Sec-Ch-Ua-Platform\": '\"Windows\"',\n",
    "    \"Sec-Fetch-Dest\": \"empty\",\n",
    "    \"Sec-Fetch-Mode\": \"cors\",\n",
    "    \"Sec-Fetch-Site\": \"same-origin\",\n",
    "    \"User-Agent\": \"Mozilla/5.0 (Windows NT 10.0; Win64; x64) AppleWebKit/537.36 (KHTML, like Gecko) Chrome/131.0.0.0 Safari/537.36\",\n",
    "    \"DNT\": \"1\",  # Do Not Track\n",
    "}\n",
    "\n",
    "# Effectuer la requête GET à l'API\n",
    "response = requests.get(tcl_api_url, headers=headers)\n",
    "\n",
    "# Vérifier si la requête a réussi\n",
    "if response.status_code == 200:\n",
    "    # Convertir la réponse en JSON\n",
    "    data = response.json()\n",
    "    \n",
    "    # Extraire la durée depuis la première entrée des trajets\n",
    "    if \"journeys\" in data and len(data[\"journeys\"]) > 0:\n",
    "        duration = data[\"journeys\"][0][\"duration\"]\n",
    "        # Conversion de la durée en minutes et si plus de 60 minutes, en heures\n",
    "        duration = duration // 60\n",
    "        if duration > 60:\n",
    "            hours = duration // 60\n",
    "            minutes = duration % 60\n",
    "            duration = f\"{hours}h{minutes}\"\n",
    "        else:\n",
    "            duration = f\"{duration} min\"\n",
    "        print(f\"Durée du trajet : {duration}\")"
   ]
  }
 ],
 "metadata": {
  "kernelspec": {
   "display_name": "python",
   "language": "python",
   "name": "python3"
  },
  "language_info": {
   "codemirror_mode": {
    "name": "ipython",
    "version": 3
   },
   "file_extension": ".py",
   "mimetype": "text/x-python",
   "name": "python",
   "nbconvert_exporter": "python",
   "pygments_lexer": "ipython3",
   "version": "3.13.0"
  }
 },
 "nbformat": 4,
 "nbformat_minor": 2
}
