{
 "cells": [
  {
   "cell_type": "markdown",
   "metadata": {},
   "source": [
    "# Chargement des données"
   ]
  },
  {
   "cell_type": "code",
   "execution_count": 2,
   "metadata": {},
   "outputs": [],
   "source": [
    "import pandas as pd\n",
    "\n",
    "avis_restaurants = pd.read_csv('D:/M2 SISE/Text Mining ou NLP/Projet/nlp_text_mining/Data/avis_restaurants_cleaned.csv') "
   ]
  },
  {
   "cell_type": "markdown",
   "metadata": {},
   "source": [
    "# Analyse de Sentiment"
   ]
  },
  {
   "cell_type": "code",
   "execution_count": 3,
   "metadata": {},
   "outputs": [],
   "source": [
    "avis_restaurants['sentiment_rating'] = avis_restaurants['rating'].apply(\n",
    "    lambda x: 'Positif' if x > 3 else ('Négatif' if x < 3 else 'Neutre')\n",
    ")"
   ]
  },
  {
   "cell_type": "code",
   "execution_count": 4,
   "metadata": {},
   "outputs": [],
   "source": [
    "import pandas as pd\n",
    "import numpy as np\n",
    "import re\n",
    "from tensorflow.keras.models import Sequential\n",
    "from tensorflow.keras.layers import Embedding, LSTM, Dense, Dropout\n",
    "from tensorflow.keras.preprocessing.text import Tokenizer\n",
    "from tensorflow.keras.preprocessing.sequence import pad_sequences\n",
    "from sklearn.model_selection import train_test_split\n",
    "from sklearn.metrics import accuracy_score\n",
    "\n",
    "# Convertir les ratings en 3 classes : Négatif (0), Positif (1), Neutre (2)\n",
    "def sentiment_class(rating):\n",
    "    if rating == 3:\n",
    "        return 2  # Neutre\n",
    "    elif rating >= 4:\n",
    "        return 1  # Positif\n",
    "    else:\n",
    "        return 0  # Négatif\n",
    "\n",
    "# Appliquer la fonction de conversion\n",
    "avis_restaurants['sentiment'] = avis_restaurants['rating'].apply(sentiment_class)\n",
    "\n",
    "# Tokenisation des avis\n",
    "tokenizer = Tokenizer(num_words=10000)  # Limite de vocabulaire à 10,000 mots\n",
    "tokenizer.fit_on_texts(avis_restaurants['review_cleaned'])\n",
    "X = tokenizer.texts_to_sequences(avis_restaurants['review_cleaned'])\n",
    "\n",
    "# Padding des séquences pour avoir des longueurs égales\n",
    "X_pad = pad_sequences(X, padding='post', maxlen=200)  # Limite de 200 mots par avis\n",
    "\n",
    "# Cibles (sentiment)\n",
    "y = avis_restaurants['sentiment']"
   ]
  },
  {
   "cell_type": "code",
   "execution_count": 7,
   "metadata": {},
   "outputs": [
    {
     "name": "stderr",
     "output_type": "stream",
     "text": [
      "e:\\Application\\Anaconda\\envs\\Nlp_projet\\Lib\\site-packages\\keras\\src\\layers\\core\\embedding.py:90: UserWarning: Argument `input_length` is deprecated. Just remove it.\n",
      "  warnings.warn(\n"
     ]
    },
    {
     "name": "stdout",
     "output_type": "stream",
     "text": [
      "Epoch 1/5\n",
      "\u001b[1m215/215\u001b[0m \u001b[32m━━━━━━━━━━━━━━━━━━━━\u001b[0m\u001b[37m\u001b[0m \u001b[1m153s\u001b[0m 697ms/step - accuracy: 0.8099 - loss: 0.6355 - val_accuracy: 0.8170 - val_loss: 0.6016\n",
      "Epoch 2/5\n",
      "\u001b[1m215/215\u001b[0m \u001b[32m━━━━━━━━━━━━━━━━━━━━\u001b[0m\u001b[37m\u001b[0m \u001b[1m72s\u001b[0m 333ms/step - accuracy: 0.8241 - loss: 0.5872 - val_accuracy: 0.8170 - val_loss: 0.6029\n",
      "Epoch 3/5\n",
      "\u001b[1m215/215\u001b[0m \u001b[32m━━━━━━━━━━━━━━━━━━━━\u001b[0m\u001b[37m\u001b[0m \u001b[1m74s\u001b[0m 342ms/step - accuracy: 0.8183 - loss: 0.5999 - val_accuracy: 0.8170 - val_loss: 0.6085\n",
      "Epoch 4/5\n",
      "\u001b[1m215/215\u001b[0m \u001b[32m━━━━━━━━━━━━━━━━━━━━\u001b[0m\u001b[37m\u001b[0m \u001b[1m73s\u001b[0m 341ms/step - accuracy: 0.8173 - loss: 0.6040 - val_accuracy: 0.8170 - val_loss: 0.6011\n",
      "Epoch 5/5\n",
      "\u001b[1m215/215\u001b[0m \u001b[32m━━━━━━━━━━━━━━━━━━━━\u001b[0m\u001b[37m\u001b[0m \u001b[1m76s\u001b[0m 355ms/step - accuracy: 0.8211 - loss: 0.5932 - val_accuracy: 0.8170 - val_loss: 0.6065\n",
      "\u001b[1m108/108\u001b[0m \u001b[32m━━━━━━━━━━━━━━━━━━━━\u001b[0m\u001b[37m\u001b[0m \u001b[1m8s\u001b[0m 68ms/step\n",
      "Précision du modèle LSTM : 81.70%\n"
     ]
    }
   ],
   "source": [
    "# Séparation en jeu d'entraînement et test\n",
    "X_train, X_test, y_train, y_test = train_test_split(X_pad, y, test_size=0.2, random_state=42)\n",
    "\n",
    "# Création du modèle LSTM pour 3 classes\n",
    "model = Sequential()\n",
    "model.add(Embedding(input_dim=10000, output_dim=128, input_length=200))  # Couche d'embedding\n",
    "model.add(LSTM(128, dropout=0.2, recurrent_dropout=0.2))  # Couche LSTM\n",
    "model.add(Dense(3, activation='softmax'))  # 3 classes, activation softmax pour la classification multi-classes\n",
    "\n",
    "# Compilation du modèle\n",
    "model.compile(loss='sparse_categorical_crossentropy', optimizer='adam', metrics=['accuracy'])\n",
    "\n",
    "# Entraînement du modèle\n",
    "model.fit(X_train, y_train, epochs=5, batch_size=64, validation_data=(X_test, y_test), verbose=1)\n",
    "\n",
    "# Évaluation du modèle\n",
    "y_pred = model.predict(X_test)\n",
    "y_pred = np.argmax(y_pred, axis=1)  # La classe avec la probabilité la plus élevée\n",
    "\n",
    "# Calcul de la précision\n",
    "accuracy = accuracy_score(y_test, y_pred)  \n",
    "print(f\"Précision du modèle LSTM : {accuracy * 100:.2f}%\")"
   ]
  },
  {
   "cell_type": "code",
   "execution_count": 5,
   "metadata": {},
   "outputs": [],
   "source": [
    "# mettre avis_restaurants[['rating', 'review_cleaned' ,'sentiment', 'sentiment_rating']].tail(40) dans un dataframe\n",
    "\n",
    "# Sélectionner les 40 dernières lignes des colonnes spécifiées\n",
    "df_tail = avis_restaurants[['rating', 'review_cleaned', 'sentiment', 'sentiment_rating']].tail(40)\n",
    "\n",
    "# Afficher le dataframe résultant\n",
    "#df_tail\n"
   ]
  },
  {
   "cell_type": "markdown",
   "metadata": {},
   "source": [
    "# Identification des thèmes avec Word Embeddings"
   ]
  },
  {
   "cell_type": "markdown",
   "metadata": {},
   "source": [
    "Utiliser un modèle pré-entraîné"
   ]
  },
  {
   "cell_type": "code",
   "execution_count": null,
   "metadata": {},
   "outputs": [
    {
     "name": "stdout",
     "output_type": "stream",
     "text": [
      "[('personnel', 0.8075436949729919), ('opressant', 0.6958764791488647), ('discret', 0.6729637980461121), ('insistant', 0.6647900342941284), ('axel', 0.6626164317131042), ('loupés', 0.653927206993103), ('courtois', 0.6538043022155762), ('souriant', 0.6497505307197571), ('fort', 0.635911226272583), ('dhumour', 0.6285367608070374)]\n"
     ]
    }
   ],
   "source": [
    "#from gensim.models import Word2Vec\n",
    "\n",
    "# Tokenisation des avis\n",
    "#tokens = [avis.split() for avis in avis_restaurants['review_cleaned']]\n",
    "\n",
    "# Entraîner un modèle Word2Vec\n",
    "#model = Word2Vec(sentences=tokens, vector_size=100, window=5, min_count=2, workers=4)\n",
    "\n",
    "# Exemple : mots similaires à \"service\"\n",
    "#print(model.wv.most_similar('service'))\n"
   ]
  },
  {
   "cell_type": "markdown",
   "metadata": {},
   "source": [
    "Clusterisation pour regrouper les thèmes"
   ]
  },
  {
   "cell_type": "code",
   "execution_count": null,
   "metadata": {},
   "outputs": [],
   "source": [
    "#from sklearn.cluster import KMeans\n",
    "#import numpy as np\n",
    "\n",
    "# Extraire les vecteurs de mots\n",
    "#word_vectors = np.array([model.wv[word] for word in model.wv.index_to_key])\n",
    "\n",
    "# Clusterisation en 5 thèmes\n",
    "#kmeans = KMeans(n_clusters=5, random_state=42)\n",
    "#kmeans.fit(word_vectors)\n",
    "\n",
    "# Associer chaque mot à un cluster\n",
    "#word_clusters = {word: kmeans.labels_[i] for i, word in enumerate(model.wv.index_to_key)}\n",
    "\n",
    "# Afficher les mots par cluster\n",
    "#for cluster in range(5):\n",
    "#    print(f\"Thème {cluster + 1}:\")\n",
    "#    print([word for word, label in word_clusters.items() if label == cluster])\n",
    "#    print(\"\\n\")\n"
   ]
  },
  {
   "cell_type": "markdown",
   "metadata": {},
   "source": [
    "# Recommandations"
   ]
  },
  {
   "cell_type": "markdown",
   "metadata": {},
   "source": [
    "Identifie les points positifs et négatifs des avis pour générer des recommandations :\n",
    "\n",
    "Regroupe les mots les plus fréquents dans les avis positifs/négatifs."
   ]
  },
  {
   "cell_type": "code",
   "execution_count": null,
   "metadata": {},
   "outputs": [
    {
     "name": "stdout",
     "output_type": "stream",
     "text": [
      "Points Positifs : ['abord', 'abordable', 'abordables', 'absolument', 'accent', 'accepté', 'accessible', 'accessibles', 'acceuil', 'accompagnait', 'accompagnant', 'accompagne', 'accompagnement', 'accompagnements', 'accompagner', 'accompagné', 'accompagnée', 'accompagnées', 'accompagnés', 'accord', 'accueil', 'accueillant', 'accueillante', 'accueillants', 'accueille', 'accueilli', 'accueillir', 'accueillis', 'accès', 'adapté', 'adaptée', 'adaptés', 'addition', 'admirer', 'ado', 'adorable', 'adorables', 'adore', 'adoré', 'adresse', 'adresses', 'adrien', 'adultes', 'advisor', 'adéquation', 'affaire', 'affluence', 'affreux', 'afin', 'agastache', 'agneau', 'agreable', 'agrumes', 'agréable', 'agréablement', 'agréables', 'ailleurs', 'aimable', 'aimables', 'aime', 'aiment', 'aimer', 'aimerait', 'aimez', 'aimons', 'aimé', 'ainsi', 'air', 'ajouter', 'alcool', 'aliment', 'allant', 'aller', 'allez', 'allezy', 'alliant', 'allie', 'allons', 'allé', 'alléchante', 'allée', 'allées', 'allés', 'alors', 'alpes', 'alternative', 'amabilité', 'amateur', 'ambiance', 'amené', 'ami', 'amical', 'amie', 'amies', 'amis', 'amour', 'amoureux', 'amplement', 'amusant', 'amuse', 'amuses', 'améliorer', 'aménagé', 'ancien', 'ancienne', 'anciennes', 'anciens', 'and', 'andouillette', 'andouillettes', 'anglais', 'angus', 'animation', 'animé', 'animée', 'anniversaire', 'anniversaires', 'annonce', 'annoncé', 'année', 'années', 'antoine', 'août', 'apaisant', 'apparemment', 'applaudissements', 'appliqué', 'apporte', 'apporter', 'apporté', 'apprend', 'apprendre', 'apprentis', 'apprentissage', 'appris', 'appréciable', 'apprécie', 'apprécier', 'apprécions', 'apprécié', 'appréciée', 'appréciés', 'appétit', 'apres', 'après', 'apéritif', 'apéritifs', 'apéro', 'apéros', 'architecture', 'argent', 'argentin', 'argentine', 'armel', 'arrivant', 'arrive', 'arrivent', 'arriver', 'arrivez', 'arrivé', 'arrivée', 'arrivés', 'arrière', 'arrondissement', 'arrosé', 'arrêt', 'arrêter', 'arrêté', 'arrêtés', 'art', 'asiatique', 'aspect', 'asperges', 'assaisonnement', 'assaisonnements', 'assaisonné', 'assaisonnée', 'assaisonnés', 'assez', 'assiette', 'assiettes', 'assis', 'association', 'associés', 'assortiment', 'assure', 'assurent', 'assuré', 'assurée', 'assurément', 'atmosphère', 'attablés', 'attend', 'attendant', 'attendez', 'attendions', 'attendre', 'attendu', 'attente', 'attentes', 'attentif', 'attentifs', 'attention', 'attentionné', 'attentionnée', 'attentionnés', 'attractif', 'attrape', 'atypique', 'aucun', 'aucune', 'aujourdhui', 'auparavant', 'auprès', 'aussi', 'autant', 'authenticité', 'authentique', 'authentiques', 'autour', 'autre', 'autrement', 'autres', 'avance', 'avant', 'avenant', 'avenants', 'avis', 'avoir', 'avon', 'avouer', 'avril', 'baba', 'baby', 'babyfoot', 'baie', 'balade', 'ballet', 'banquette', 'bar', 'barbarie', 'barman', 'barre', 'base', 'basilic', 'basilique', 'bavette', 'bcp', 'beau', 'beaucoup', 'beaujolais', 'beauté', 'bel', 'belle', 'bellecour', 'bemol', 'benjamin', 'bento', 'besoin', 'betteraves', 'beurre', 'bien', 'biens', 'bientot', 'bientôt', 'bienveillance', 'bienveillant', 'bienveillante', 'bienvenu', 'bienvenue', 'biere', 'big', 'bijou', 'bio', 'biscuit', 'bistro', 'bistronomie', 'bistronomique', 'bistrot', 'bizarre', 'bière', 'bières', 'blanc', 'blanche', 'blanches', 'bleu', 'blo', 'blonde', 'bocuse', 'boeuf', 'bof', 'boire', 'bois', 'boiseries', 'boisson', 'boissons', 'bol', 'bon', 'bondé', 'bonheur', 'bonjour', 'bonne', 'bonnes', 'bons', 'bonus', 'bord', 'bouche', 'boucher', 'boucherie', 'bouches', 'bouchon', 'bouchons', 'bouchée', 'boudin', 'bouffe', 'bougie', 'bougies', 'bouillon', 'boule', 'boulot', 'bourgogne', 'bourse', 'bout', 'bouteille', 'bouteilles', 'boutique', 'bouées', 'branché', 'branchée', 'brasserie', 'brassée', 'brassées', 'bravo', 'bref', 'brest', 'brigade', 'brin', 'brioche', 'brioché', 'brochet', 'brochette', 'brouhaha', 'brouilly', 'bruit', 'brunch', 'bruncher', 'brune', 'bruyant', 'bruyante', 'brûlée', 'budget', 'buffet', 'burrata', 'bâtiment', 'bébé', 'bémol', 'bémols', 'bénéficie', 'bœuf', 'cabillaud', 'cachet', 'cadeau', 'cadre', 'café', 'cafés', 'cake', 'california', 'calme', 'canapés', 'canard', 'cantine', 'canut', 'canuts', 'capacité', 'capitale', 'car', 'caractère', 'caramel', 'carmelo', 'carnivore', 'carnot', 'carottes', 'carpaccio', 'carreaux', 'carte', 'casse', 'cathédrale', 'catégorie', 'cause', 'cave', 'caviar', 'ceci', 'cela', 'celle', 'celleci', 'celles', 'celui', 'celuici', 'centaines', 'centre', 'cependant', 'cerise', 'certain', 'certaine', 'certainement', 'certaines', 'certains', 'certes', 'cervelle', 'cest', 'cet', 'cetait', 'cette', 'ceux', 'ceviche', 'chacun', 'chacune', 'chaise', 'chaleur', 'chaleureuse', 'chaleureusement', 'chaleureux', 'chambre', 'chambres', 'champagne', 'champignons', 'chance', 'change', 'changement', 'changent', 'changer', 'changez', 'changé', 'chanson', 'chantilly', 'chapeau', 'chaque', 'charcuterie', 'charge', 'chargé', 'chargée', 'chariot', 'charmant', 'charmante', 'charmants', 'charme', 'chartreuse', 'chaud', 'chaude', 'chaudement', 'chaudes', 'chauds', 'chaîne', 'cheesecake', 'chef', 'chemin', 'cher', 'cherchant', 'cherche', 'chercher', 'cherchez', 'cherchions', 'chers', 'chevalier', 'chez', 'chic', 'chichi', 'chien', 'chocolat', 'choisi', 'choisie', 'choisir', 'choisis', 'choisissez', 'choisit', 'choix', 'chorizo', 'chose', 'choses', 'chou', 'choucroute', 'choucroutes', 'chouette', 'châteaux', 'chère', 'chères', 'chéri', 'cinq', 'citation', 'citron', 'clair', 'claire', 'clairement', 'classe', 'classique', 'classiques', 'classé', 'client', 'clientèle', 'clin', 'cochon', 'cocktail', 'coco', 'cocotte', 'code', 'coeur', 'coin', 'collection', 'colline', 'collègue', 'collègues', 'coloré', 'colorée', 'comblés', 'comité', 'commande', 'commander', 'commandes', 'commandé', 'comme', 'commence', 'commencer', 'commencé', 'comment', 'commentaire', 'commentaires', 'commercial', 'commun', 'commune', 'compagne', 'compagnie', 'compagnon', 'complet', 'complets', 'compliment', 'complète', 'complètement', 'comporte', 'composition', 'composé', 'composée', 'comprenant', 'comprend', 'comprendre', 'comprends', 'compris', 'compte', 'compter', 'comptez', 'comptoir', 'compétent', 'compétents', 'concept', 'concernant', 'concerne', 'concert', 'conclusion', 'concocté', 'condiment', 'condition', 'condrieu', 'confiance', 'confinement', 'confirmation', 'confirme', 'confirmer', 'confit', 'conforme', 'confort', 'confortable', 'confortables', 'conjoint', 'connais', 'connaissais', 'connaissait', 'connaissance', 'connaissant', 'connaissent', 'connaissions', 'connait', 'connaît', 'connaître', 'connu', 'connue', 'connus', 'conquis', 'conquise', 'conseil', 'conseille', 'conseiller', 'conseillons', 'conseillé', 'conseillée', 'conseillés', 'conseils', 'conserver', 'conservé', 'consommation', 'consommer', 'constater', 'conséquence', 'contact', 'contemporain', 'contemporaine', 'content', 'contenu', 'continu', 'continuation', 'continuer', 'continuez', 'contraintes', 'contraire', 'contrairement', 'contre', 'contribué', 'convenable', 'convenables', 'conversation', 'convient', 'convive', 'convives', 'convivial', 'conviviale', 'convivialité', 'cooky', 'cool', 'copain', 'copieuse', 'copieusement', 'copieuses', 'copieux', 'copine', 'copines', 'coquille', 'coquillettes', 'cordial', 'correct', 'correcte', 'correctement', 'correctes', 'corrects', 'correspond', 'corse', 'cosy', 'cote', 'coté', 'couac', 'couleur', 'couleurs', 'coulis', 'coup', 'coupe', 'couper', 'couple', 'cour', 'courgette', 'couronner', 'cours', 'court', 'courte', 'courtois', 'courtoisie', 'cousin', 'couteau', 'couvert', 'couverts', 'covid', 'coût', 'craquer', 'crevettes', 'critique', 'croirait', 'croire', 'crois', 'croquant', 'croustillant', 'croustillante', 'croustille', 'croute', 'croûte', 'cru', 'crumble', 'crus', 'crustacés', 'crème', 'créatif', 'créatifs', 'créative', 'créativité', 'crée', 'crémeux', 'cuisine', 'cuisiner', 'cuisinier', 'cuisiniers', 'cuisiné', 'cuisinée', 'cuisinées', 'cuisinés', 'cuisson', 'cuissons', 'cuit', 'cuite', 'cuites', 'cuits', 'culina', 'culinaire', 'culinaires', 'culture', 'curieux', 'curiosité', 'cèpes', 'céleri', 'célèbre', 'célébrer', 'cétait', 'côte', 'côtes', 'côté', 'cœur', 'dabord', 'daccueil', 'daccès', 'daffaire', 'daffaires', 'dagneau', 'dailleurs', 'daller', 'dambiance', 'dambre', 'dame', 'damis', 'danniversaire', 'danniversaires', 'dannée', 'dantan', 'dapplication', 'dassiettes', 'date', 'dattente', 'dattention', 'dauphinois', 'dautant', 'dautre', 'dautres', 'davantage', 'david', 'davis', 'davoir', 'davy', 'deau', 'deco', 'decor', 'decoration', 'decouverte', 'decouvrir', 'dehors', 'dejeuner', 'delicieux', 'delà', 'demande', 'demander', 'demandes', 'demandé', 'demeure', 'demi', 'den', 'dentrée', 'dentrées', 'depuis', 'dernier', 'derniers', 'dernière', 'dernières', 'derrière', 'design', 'dessayer', 'dessert', 'dessous', 'dessus', 'destination', 'deuros', 'deux', 'deuxième', 'devais', 'devait', 'devant', 'devanture', 'devenir', 'devenu', 'devez', 'devient', 'devraient', 'devrait', 'dexcellent', 'dexcellente', 'dexcellentes', 'dexcellents', 'dexception', 'dexceptionnel', 'dhabitude', 'dhistoire', 'dhumour', 'dhôtel', 'dieu', 'difficile', 'difficiles', 'différence', 'différent', 'différente', 'différentes', 'différents', 'digestif', 'digestifs', 'digne', 'dignes', 'dimanche', 'dimension', 'diner', 'dingue', 'dintimité', 'diné', 'dirais', 'dire', 'direct', 'directement', 'directeur', 'direction', 'direz', 'dis', 'disant', 'discret', 'discrets', 'discrète', 'discrétion', 'discussion', 'discuter', 'dispo', 'disponibilité', 'disponible', 'disponibles', 'disposition', 'dit', 'ditalie', 'diver', 'diverses', 'diversité', 'divin', 'divine', 'divinement', 'divins', 'dizaine', 'doeil', 'doi', 'doit', 'doivent', 'dolive', 'domaine', 'dominant', 'dommage', 'donc', 'donnant', 'donne', 'donnent', 'donner', 'donné', 'dont', 'doriginalité', 'dorigine', 'double', 'douce', 'douceur', 'doute', 'doux', 'doù', 'dressage', 'dressées', 'dressés', 'droit', 'droite', 'drôle', 'drôles', 'dun', 'dune', 'duo', 'dur', 'durant', 'dure', 'dynamique', 'dynamiques', 'dès', 'début', 'décalé', 'décalée', 'décembre', 'déception', 'décevant', 'décidé', 'déco', 'décontracté', 'décontractée', 'décor', 'décoration', 'décorations', 'décors', 'décoré', 'décorée', 'décorées', 'découvert', 'découverte', 'découvertes', 'découvre', 'découvrir', 'décrire', 'défaut', 'défilé', 'définitivement', 'dégustation', 'déguste', 'déguster', 'dégusté', 'dégustés', 'déjeuner', 'déjeuners', 'déjeuné', 'déjà', 'délai', 'délicat', 'délicate', 'délicatement', 'délicatesse', 'délicats', 'délice', 'délices', 'délicieuse', 'délicieusement', 'délicieuses', 'délicieux', 'départ', 'dépaysant', 'dépaysement', 'déplacement', 'dépoque', 'déroulé', 'dés', 'désagréable', 'désert', 'désirer', 'désormais', 'détablissement', 'détail', 'détails', 'détendu', 'détendue', 'détente', 'détour', 'dété', 'déçu', 'déçue', 'déçus', 'dêtre', 'dîner', 'dîné', 'dôme', 'dœil', 'eau', 'effectivement', 'effectué', 'effet', 'efficace', 'efficaces', 'efficacité', 'effort', 'elles', 'emblématique', 'eme', 'emmené', 'empanadas', 'empenadas', 'emplacement', 'employés', 'emporter', 'enchantement', 'enchanteur', 'enchanté', 'enchantés', 'encore', 'end', 'endroit', 'endroits', 'enfance', 'enfant', 'enfants', 'enfin', 'enseigne', 'ensemble', 'ensuite', 'entendu', 'enthousiasme', 'entier', 'entièrement', 'entrant', 'entre', 'entree', 'entrer', 'entré', 'entrée', 'entréeplatdessert', 'entrées', 'envers', 'envie', 'environ', 'environnement', 'equipe', 'ere', 'erreur', 'erreurs', 'escapade', 'escargot', 'espace', 'espacées', 'esprit', 'espérant', 'essayer', 'essayez', 'essayé', 'etablissement', 'etaient', 'etait', 'etant', 'etc', 'ete', 'etre', 'eur', 'euro', 'exactement', 'excellemment', 'excellence', 'excellent', 'excellente', 'excellentes', 'excellents', 'exception', 'exceptionnel', 'exceptionnelle', 'exceptionnelles', 'exceptionnels', 'excessif', 'excessifs', 'excès', 'exemplaire', 'exemple', 'existe', 'exotiques', 'experience', 'explication', 'explique', 'expliquent', 'expliquer', 'expliqué', 'explosion', 'express', 'expérience', 'exquis', 'exquise', 'exquises', 'extra', 'extraordinaire', 'extraordinaires', 'extrêmement', 'extérieur', 'extérieure', 'exécuté', 'exécutée', 'exécutés', 'fabuleuse', 'fabuleux', 'face', 'facile', 'facilement', 'facture', 'fade', 'faible', 'faille', 'faim', 'faire', 'fais', 'faisait', 'faisant', 'fait', 'faite', 'faites', 'faits', 'fallait', 'fameuse', 'fameux', 'familial', 'familiale', 'famille', 'familles', 'fan', 'fantastique', 'farandole', 'fasse', 'faudra', 'faudrait', 'fausse', 'fausses', 'faut', 'faute', 'fautes', 'fauteuil', 'faux', 'façade', 'façon', 'femme', 'femmes', 'fera', 'fermé', 'fermés', 'festif', 'festive', 'feu', 'feuilles', 'feuilleté', 'feutré', 'feutrée', 'fidèle', 'fier', 'figues', 'fil', 'file', 'filet', 'fille', 'film', 'fils', 'fin', 'final', 'finale', 'finalement', 'financier', 'fine', 'finement', 'finesse', 'fini', 'finir', 'fleurs', 'florentine', 'flottante', 'fluide', 'foie', 'foies', 'fois', 'folklore', 'foncez', 'fonction', 'fonctionne', 'fond', 'fondant', 'fondante', 'font', 'foot', 'force', 'forcement', 'forcément', 'forfait', 'formation', 'forme', 'formidable', 'formule', 'formules', 'fort', 'forte', 'fortement', 'fou', 'foule', 'fourchette', 'fourni', 'fournie', 'fourviere', 'fourvière', 'fraiche', 'fraicheur', 'frais', 'fraise', 'framboise', 'france', 'franchement', 'franco', 'francoitalien', 'francoitalienne', 'français', 'française', 'frazarin', 'fraîche', 'fraîches', 'fraîcheur', 'frite', 'frites', 'froid', 'froide', 'froides', 'froids', 'fromage', 'fromages', 'fruit', 'frère', 'fréquenter', 'fréquenté', 'fumé', 'fun', 'futur', 'futurs', 'félicitations', 'féliciter', 'féminin', 'février', 'fête', 'fêter', 'fêtes', 'fêté', 'fêtés', 'gage', 'gamba', 'gamme', 'garanti', 'garantie', 'gardant', 'garde', 'garder', 'gardé', 'gare', 'garer', 'garni', 'garnie', 'garnies', 'garnis', 'garniture', 'garçon', 'garçons', 'gaspacho', 'gastro', 'gastronomie', 'gastronomique', 'gastronomiques', 'gateau', 'gen', 'genre', 'gentil', 'gentille', 'gentillesse', 'gentils', 'gentiment', 'george', 'geste', 'gestes', 'gestion', 'gigantesque', 'glace', 'glacé', 'globalement', 'gluten', 'gnocchi', 'gourmand', 'gourmande', 'gourmandes', 'gourmandise', 'gourmet', 'gout', 'gouter', 'gouteuse', 'gouteux', 'goût', 'goûter', 'goûteuse', 'goûteuses', 'goûteux', 'goûts', 'goûtu', 'goûté', 'grace', 'grand', 'grande', 'grandement', 'grandes', 'grandeur', 'grandiose', 'gras', 'gratin', 'gratinée', 'grave', 'gribiche', 'grillé', 'gros', 'grosse', 'groupe', 'groupes', 'grâce', 'guichard', 'guide', 'guider', 'guindé', 'guise', 'gustatif', 'gustative', 'gustativement', 'gustatives', 'gâche', 'gâcher', 'gâteau', 'géant', 'génial', 'géniale', 'géniaux', 'général', 'générale', 'généralement', 'généreuse', 'généreusement', 'généreuses', 'généreux', 'générosité', 'gérant', 'gérants', 'gérer', 'gérée', 'gênant', 'habitant', 'habitude', 'habituellement', 'habitué', 'habituée', 'habitués', 'hall', 'halte', 'hareng', 'harengs', 'harmonie', 'hasard', 'haut', 'haute', 'hauteur', 'havre', 'herbes', 'heure', 'heures', 'heureusement', 'heureux', 'hic', 'hier', 'histoire', 'historique', 'homard', 'homme', 'hommes', 'honneur', 'honnête', 'honnêtement', 'horaire', 'horaires', 'hors', 'hortus', 'hotel', 'humaine', 'humeur', 'humour', 'hyper', 'hâte', 'hésitation', 'hésiter', 'hésitez', 'hôtel', 'hôtes', 'ici', 'idem', 'idyllique', 'idéal', 'idéale', 'idéalement', 'idée', 'imbattable', 'immense', 'immédiatement', 'impatience', 'impeccable', 'impeccables', 'important', 'importante', 'importe', 'impossible', 'imposé', 'imprenable', 'impression', 'impressionnant', 'impressionnante', 'impérativement', 'impériale', 'incomparable', 'inconnus', 'incontournable', 'incontournables', 'incroyable', 'incroyablement', 'incroyables', 'indiqué', 'indispensable', 'ingrédients', 'inoubliable', 'installe', 'installer', 'installé', 'installés', 'instant', 'institut', 'institution', 'internet', 'intime', 'intimiste', 'intimité', 'intéressant', 'intéressante', 'intéressantes', 'intéressants', 'intérieur', 'intérieure', 'intérêt', 'inutile', 'inventif', 'inventifs', 'inventive', 'invite', 'invité', 'invités', 'irréprochable', 'irréprochables', 'italie', 'italien', 'italienne', 'italiennes', 'italiens', 'jacques', 'jadore', 'jai', 'jaime', 'jamais', 'jambon', 'japon', 'japonais', 'japonaise', 'japprécie', 'jarret', 'jaurai', 'jaurais', 'javais', 'javoue', 'jazz', 'jean', 'jen', 'jespère', 'jeu', 'jeudi', 'jeune', 'jeunes', 'jeunesse', 'joie', 'jojo', 'joli', 'jolie', 'jolies', 'joliment', 'jolis', 'joseph', 'joue', 'jouer', 'jour', 'journée', 'jours', 'joué', 'jovial', 'joviale', 'joyeuse', 'joyeux', 'judicieux', 'juillet', 'juin', 'jus', 'jusquau', 'jusquaux', 'jusque', 'jusquà', 'juste', 'justement', 'justes', 'justesse', 'justifie', 'justifié', 'justine', 'jétais', 'kitch', 'laccent', 'lacceuil', 'laccompagnement', 'laccord', 'laccueil', 'laddition', 'ladresse', 'laffluence', 'laffreux', 'lagneau', 'lai', 'lail', 'laime', 'lair', 'laise', 'laisse', 'laisser', 'laissez', 'laissé', 'laissés', 'lait', 'lamabilité', 'lambiance', 'lamuse', 'lan', 'lancien', 'lancienne', 'landouillette', 'langoustine', 'langue', 'lanniversaire', 'lannée', 'lapin', 'lapéritif', 'lapéro', 'laquelle', 'larchitecture', 'lard', 'lardons', 'large', 'largement', 'larrivée', 'lart', 'lassaisonnement', 'lasse', 'lassiette', 'lassociation', 'latine', 'latmosphère', 'lattente', 'lattention', 'lautre', 'lavance', 'lavons', 'leau', 'lecoute', 'lecture', 'lefficacité', 'lemplacement', 'lendemain', 'lendroit', 'lensemble', 'lent', 'lentille', 'lentilles', 'lentrée', 'lenvie', 'lenvironnement', 'lequel', 'lequipe', 'lespace', 'lesprit', 'lessentiel', 'lest', 'leurs', 'lexcellence', 'lexcellent', 'lexcellente', 'lexpérience', 'lextérieur', 'lhabitude', 'lheure', 'lhistoire', 'lhonneur', 'lhotel', 'lhumour', 'lhôtel', 'libère', 'lidée', 'lieu', 'lieux', 'ligne', 'limage', 'limite', 'limité', 'limitée', 'limmense', 'limonaire', 'limoncello', 'limpression', 'lincontournable', 'linstant', 'linstitut', 'lintimité', 'lintérieur', 'lira', 'liste', 'lit', 'litalie', 'litalienne', 'live', 'local', 'locale', 'localisation', 'locaux', 'loccasion', 'loeuf', 'lofficine', 'loffre', 'logique', 'loignon', 'loin', 'lol', 'lomble', 'lomelette', 'lon', 'long', 'longlet', 'longtemps', 'longue', 'lorchestre', 'lordinaire', 'lordre', 'lorganisation', 'lorgue', 'loriginalité', 'lors', 'lorsque', 'lorsquon', 'lotte', 'lounge', 'louper', 'lourd', 'louverture', 'luimême', 'lumineuse', 'lumière', 'lumières', 'lun', 'lundi', 'lune', 'lustre', 'luxe', 'lyon', 'lyonnais', 'lyonnaise', 'làbas', 'lâme', 'lécart', 'lécole', 'lécoute', 'léger', 'légumes', 'légère', 'légèrement', 'légèreté', 'léquipe', 'létablissement', 'létage', 'létoile', 'lété', 'lîle', 'lœil', 'lœuf', 'macaron', 'macaroni', 'madame', 'magie', 'magique', 'magnifique', 'magnifiquement', 'magnifiques', 'magret', 'mai', 'maigre', 'main', 'maintenant', 'maison', 'maisons', 'maitre', 'majestueux', 'majorité', 'maki', 'makis', 'mal', 'malgré', 'malheureusement', 'mama', 'maman', 'mamma', 'manager', 'mange', 'manger', 'mangeurs', 'mangue', 'mangé', 'mangés', 'manière', 'manquait', 'manque', 'manquent', 'manquer', 'mar', 'marcel', 'marcelin', 'marcellin', 'march', 'marche', 'marché', 'mardi', 'mari', 'mariage', 'mariages', 'marie', 'marient', 'mariné', 'marque', 'marseille', 'masque', 'mathieu', 'matin', 'matière', 'mattendais', 'mauvais', 'mauvaise', 'mavait', 'max', 'maxence', 'maximum', 'maître', 'maîtres', 'maîtrise', 'maîtrisé', 'maîtrisée', 'maîtrisées', 'maîtrisés', 'meilleur', 'meilleure', 'meilleures', 'meilleurs', 'membres', 'meme', 'men', 'menthe', 'mention', 'menu', 'mer', 'merci', 'mercredi', 'meringuée', 'merite', 'merveille', 'merveilleuse', 'merveilleusement', 'merveilleux', 'message', 'mesure', 'met', 'mets', 'metsvins', 'mettent', 'mettre', 'meule', 'meurette', 'meurettes', 'miam', 'michelin', 'midi', 'miel', 'mieux', 'mignardises', 'mignon', 'milieu', 'mille', 'min', 'mine', 'mini', 'minimum', 'minute', 'mise', 'mises', 'miso', 'mitigé', 'mobilier', 'mode', 'moderne', 'modernité', 'modération', 'moelle', 'moelleux', 'mof', 'moindre', 'moins', 'mois', 'moitié', 'moment', 'monde', 'monsieur', 'mont', 'monter', 'montre', 'montrer', 'monument', 'morceau', 'morgon', 'morilles', 'mot', 'motivés', 'moules', 'mousse', 'moutarde', 'moyen', 'moyenne', 'multiple', 'multitude', 'mur', 'murs', 'museau', 'musicale', 'musique', 'must', 'musée', 'mythique', 'mère', 'mères', 'mélange', 'mélanges', 'mémoire', 'mémorable', 'mérite', 'méritent', 'mériterait', 'mérité', 'méritée', 'métier', 'métro', 'mêlant', 'mêmes', 'nai', 'naime', 'nappe', 'nappes', 'nature', 'navais', 'navait', 'navions', 'navons', 'nen', 'nenlève', 'nest', 'nhésitez', 'nickel', 'niveau', 'niveaux', 'noir', 'noisette', 'noisettes', 'noix', 'nom', 'nombre', 'nombreuses', 'nombreux', 'noms', 'non', 'nont', 'normal', 'norvégienne', 'notamment', 'note', 'noter', 'noté', 'noubliez', 'noublions', 'nougat', 'nourriture', 'nouveau', 'nouveaux', 'nouvelle', 'nouvelles', 'noël', 'nuit', 'nul', 'numéro', 'néanmoins', 'nécessaire', 'négatif', 'négatifs', 'nétaient', 'nétais', 'nétait', 'nétant', 'nétions', 'nêtes', 'obligatoire', 'oblige', 'obligé', 'obséquieux', 'obtenir', 'occasion', 'occupé', 'occupée', 'odeurs', 'oeuf', 'oeufs', 'offert', 'offerte', 'offrant', 'offre', 'offrir', 'oignons', 'omelette', 'onglet', 'oppressant', 'opté', 'orchestre', 'orchestré', 'ordre', 'organisation', 'organisé', 'orgue', 'original', 'originale', 'originales', 'originalité', 'originaux', 'origines', 'oublie', 'oublier', 'oublié', 'oui', 'outre', 'ouvert', 'ouverte', 'ouverts', 'ouvrier', 'paie', 'pain', 'paisible', 'palais', 'paleron', 'panorama', 'panoramique', 'panozzo', 'panozzos', 'pané', 'papier', 'papilles', 'paradis', 'parait', 'paraît', 'parc', 'parce', 'pareil', 'parent', 'parenthèse', 'parfait', 'parfaite', 'parfaitement', 'parfaites', 'parfois', 'parfums', 'paris', 'parisienne', 'parking', 'parle', 'parlent', 'parler', 'parlons', 'parlé', 'parmentier', 'parmesan', 'parmi', 'part', 'partage', 'partager', 'partagé', 'partant', 'parti', 'particulier', 'particulière', 'particulièrement', 'partie', 'partir', 'partis', 'partout', 'party', 'passage', 'passant', 'passe', 'passer', 'passerez', 'passez', 'passion', 'passionné', 'passionnée', 'passionnés', 'passons', 'passé', 'passée', 'passés', 'patates', 'pate', 'patience', 'patient', 'patienter', 'patrimoine', 'patron', 'patronne', 'paul', 'pause', 'pavé', 'pay', 'paye', 'payer', 'peine', 'pendant', 'pense', 'penser', 'pensez', 'pensé', 'perdu', 'perfection', 'permanence', 'permet', 'permettant', 'permettent', 'permettre', 'permis', 'perrache', 'pers', 'perso', 'personnalisé', 'personnalité', 'personne', 'personnel', 'personnelle', 'personnellement', 'personnes', 'pesant', 'pesto', 'petit', 'petite', 'petits', 'peu', 'peur', 'peut', 'peutêtre', 'peuvent', 'peux', 'philippe', 'photo', 'phrase', 'pichet', 'pied', 'pieds', 'pierre', 'pigeon', 'pince', 'piscine', 'pistache', 'pistaché', 'pittoresque', 'pizza', 'pizzeria', 'pièce', 'pièces', 'piège', 'pièges', 'place', 'placement', 'placé', 'placés', 'plafond', 'plafonds', 'plaire', 'plaisant', 'plaisante', 'plaisir', 'plaisirs', 'plan', 'planche', 'planches', 'plat', 'plate', 'plateau', 'plein', 'pleine', 'pleinement', 'pleines', 'pleins', 'plonge', 'plu', 'pluma', 'plupart', 'plus', 'plusieurs', 'plutôt', 'poché', 'poi', 'poil', 'point', 'pointe', 'poire', 'poisson', 'poissons', 'poivre', 'poli', 'pomme', 'pommes', 'porc', 'porte', 'portion', 'porto', 'porté', 'pose', 'poser', 'positif', 'positifs', 'possibilité', 'possible', 'possède', 'pot', 'potes', 'poulet', 'poulpe', 'pourboire', 'pourquoi', 'pourraient', 'pourrait', 'pourrez', 'pourtant', 'pousse', 'pousser', 'pouvait', 'pouvez', 'pouvoir', 'pouvons', 'poêlé', 'praline', 'praliné', 'pratique', 'premier', 'première', 'premières', 'prenant', 'prend', 'prendre', 'prends', 'prenez', 'prennent', 'presentation', 'presque', 'presquîle', 'pression', 'pressé', 'pressés', 'prestation', 'prestations', 'prestigieux', 'preuve', 'prime', 'principal', 'principale', 'principaux', 'principe', 'pris', 'prise', 'prisé', 'prit', 'privilégié', 'privé', 'prix', 'pro', 'probablement', 'problème', 'prochain', 'prochaine', 'prochainement', 'proche', 'proches', 'produit', 'produits', 'professionnalisme', 'professionnel', 'professionnelle', 'professionnelles', 'professionnels', 'profiter', 'profitez', 'profité', 'promesse', 'promesses', 'promis', 'proportion', 'propos', 'proposant', 'propose', 'proposent', 'proposer', 'proposition', 'proposé', 'proposée', 'proposées', 'proposés', 'propre', 'propres', 'propreté', 'propriétaire', 'propriétaires', 'proximité', 'prudent', 'près', 'précis', 'précise', 'préciser', 'précision', 'précisé', 'précédent', 'précédents', 'préférable', 'préférence', 'préféré', 'préparation', 'préparations', 'prépare', 'préparer', 'préparé', 'préparée', 'préparés', 'présence', 'présent', 'présentation', 'présentations', 'présente', 'présenter', 'présentes', 'présents', 'présenté', 'présentée', 'présentées', 'présentés', 'prétention', 'prétexte', 'prévenant', 'prévenu', 'prévoir', 'prévoyez', 'prévu', 'prêt', 'prête', 'puis', 'puisque', 'puisse', 'pur', 'pure', 'purée', 'pâques', 'pâte', 'pâtes', 'pâtisserie', 'pâté', 'père', 'pépite', 'période', 'pêcheur', 'quagréable', 'qualitatif', 'qualitatifs', 'qualite', 'qualité', 'qualitéprix', 'qualités', 'quand', 'quant', 'quantité', 'quantités', 'quartier', 'quasi', 'quatre', 'quau', 'quel', 'quelle', 'quelles', 'quelque', 'quelques', 'quelquun', 'quen', 'quenelle', 'quenelles', 'quentin', 'quest', 'question', 'queue', 'quil', 'quils', 'quoi', 'quoique', 'quon', 'quotidien', 'quun', 'quune', 'quà', 'raffinement', 'raffiné', 'raffinée', 'raffinées', 'raffinés', 'raie', 'raison', 'raisonnable', 'raisonnables', 'raisons', 'rajoute', 'rajouter', 'rang', 'rapide', 'rapidement', 'rapides', 'rapidité', 'rappelle', 'rappelé', 'rapport', 'rare', 'rarement', 'rares', 'rassasié', 'rassasiés', 'rater', 'ravi', 'ravie', 'ravin', 'ravioles', 'ravir', 'ravis', 'ravissement', 'rdv', 'recette', 'recettes', 'recevoir', 'recherche', 'recherches', 'recherché', 'recherchée', 'recherchées', 'recherchés', 'recommandation', 'recommandations', 'recommande', 'recommander', 'recommandons', 'recommandé', 'recommandée', 'redemande', 'redire', 'redécouvrir', 'refaire', 'refectoire', 'regal', 'regard', 'regarder', 'regret', 'regrette', 'regretter', 'regrettons', 'regretté', 'relais', 'relation', 'relativement', 'relève', 'remarquable', 'remarquables', 'remarque', 'remercie', 'remercier', 'remercions', 'rempli', 'remplie', 'remplies', 'remplis', 'remplit', 'renaissance', 'rencontre', 'rencontrer', 'rencontré', 'rend', 'rendez', 'rendezvous', 'rendons', 'rendre', 'rendu', 'rendus', 'renommée', 'renouveler', 'renouvelée', 'rentre', 'rentrer', 'repartis', 'repas', 'reposant', 'reprises', 'reproche', 'reprocher', 'représente', 'repus', 'reservation', 'reserver', 'respect', 'respecté', 'respectée', 'respire', 'responsable', 'ressemble', 'ressent', 'ressort', 'ressortir', 'restait', 'restant', 'restau', 'restaurant', 'restaurateur', 'restauration', 'restaurer', 'restauré', 'reste', 'restent', 'rester', 'restera', 'resto', 'restos', 'restreint', 'restreinte', 'resté', 'retard', 'retenir', 'retour', 'retourne', 'retourner', 'retournera', 'retournerai', 'retournerais', 'retournerons', 'retourné', 'retournés', 'retrouvailles', 'retrouve', 'retrouver', 'retrouvé', 'revanche', 'revenir', 'revenons', 'revenu', 'revenus', 'reviendra', 'reviendrai', 'reviendrais', 'reviendrons', 'reviens', 'revient', 'revisite', 'revisiter', 'revisité', 'revisitée', 'revisités', 'revoir', 'reçu', 'reçus', 'rhubarbe', 'rhum', 'rhône', 'rich', 'riche', 'richesse', 'rien', 'rigueur', 'rillettes', 'rire', 'risotto', 'risque', 'riz', 'rodée', 'rognons', 'roi', 'roll', 'romantique', 'ronde', 'rose', 'rossini', 'rosé', 'rouge', 'rouget', 'route', 'royal', 'royale', 'rue', 'rythme', 'rythmé', 'règles', 'règne', 'réactif', 'réactive', 'réalisé', 'réalisée', 'réalisés', 'réception', 'réduite', 'réel', 'réelle', 'réellement', 'réfectoire', 'référence', 'références', 'régal', 'régale', 'régaler', 'régalé', 'régalée', 'régalées', 'régalés', 'régime', 'région', 'régionaux', 'réglé', 'régulièrement', 'rénovation', 'rénové', 'répondre', 'répondu', 'réponse', 'réputation', 'réputé', 'réputée', 'réservant', 'réservation', 'réservations', 'réserve', 'réserver', 'réservez', 'réservé', 'résultat', 'résumer', 'résumé', 'rétro', 'réuni', 'réunion', 'réunis', 'réussi', 'réussie', 'réussis', 'réussite', 'rêve', 'rêver', 'rôti', 'rôtie', 'sachant', 'sagit', 'saint', 'saintjacques', 'saintjean', 'sais', 'saison', 'sait', 'saké', 'salade', 'saladiers', 'sale', 'saliver', 'salle', 'salles', 'salon', 'saluer', 'salé', 'salée', 'salés', 'samedi', 'sanitaires', 'sans', 'sapeur', 'sashimi', 'satisfaction', 'satisfaire', 'satisfaisant', 'satisfaisante', 'satisfait', 'satisfaite', 'satisfaits', 'sattendre', 'sauce', 'saucisse', 'saucisses', 'saucisson', 'sauf', 'saumon', 'saura', 'savent', 'saveur', 'saveurs', 'savoir', 'savoirfaire', 'savourer', 'savoureuse', 'savoureuses', 'savoureux', 'scène', 'sec', 'second', 'seconde', 'sein', 'sel', 'selon', 'semaine', 'semaines', 'semble', 'semblent', 'sen', 'sensation', 'sent', 'sentiment', 'sentir', 'sentis', 'serrées', 'sert', 'serum', 'servent', 'serveur', 'serveurs', 'serveuse', 'serveuses', 'servi', 'serviable', 'serviables', 'service', 'servie', 'servies', 'serviette', 'servir', 'servis', 'sest', 'seul', 'seule', 'seulement', 'seuls', 'shelter', 'show', 'signaler', 'signature', 'signe', 'signé', 'sil', 'silence', 'sils', 'simple', 'simplement', 'simplicité', 'sincèrement', 'sinon', 'site', 'situation', 'situe', 'situé', 'située', 'six', 'siècle', 'sobre', 'soccupe', 'soeurs', 'soi', 'soigneusement', 'soigné', 'soignée', 'soignés', 'soin', 'soins', 'soir', 'soiree', 'soirs', 'soirée', 'soirées', 'sol', 'soleil', 'sombre', 'somme', 'sommelier', 'sommelière', 'somptueux', 'sonore', 'sorbet', 'sort', 'sortant', 'sorte', 'sortent', 'sortes', 'sorti', 'sortie', 'sortir', 'sortis', 'sou', 'souci', 'soucieux', 'soucis', 'souffle', 'soufflé', 'souhait', 'souhaite', 'souhaiter', 'souhaitez', 'souhaitons', 'souligner', 'soupe', 'source', 'souriant', 'souriante', 'souriantes', 'souriants', 'sourire', 'sourires', 'souris', 'soussol', 'souvenir', 'souvent', 'spacieuse', 'spacieux', 'spectacle', 'splendeur', 'splendide', 'spritz', 'spécial', 'spéciale', 'spécialement', 'spécialité', 'spécialités', 'staff', 'standard', 'standing', 'starck', 'steak', 'style', 'stylé', 'stéphane', 'sublime', 'sublimer', 'sublimes', 'sublimé', 'sublimés', 'subtil', 'subtile', 'subtiles', 'subtilité', 'subtils', 'succulent', 'succulente', 'succulentes', 'succèdent', 'succès', 'sucre', 'sucré', 'sucrée', 'sucrés', 'sud', 'suffisamment', 'suffisant', 'suffisante', 'suffisantes', 'suffit', 'suggestion', 'suite', 'suivant', 'suivi', 'suivre', 'sully', 'super', 'superbe', 'superbement', 'superbes', 'supplément', 'supplémentaire', 'suprême', 'supérieure', 'sure', 'surement', 'surplombant', 'surprenant', 'surprenante', 'surprenantes', 'surprenants', 'surprendre', 'surpris', 'surprise', 'surtout', 'sushi', 'sympa', 'sympas', 'sympathie', 'sympathique', 'sympathiques', 'système', 'séduit', 'séduits', 'séjour', 'séjourné', 'sélection', 'sélectionnés', 'séminaire', 'sérieux', 'sérénité', 'sésame', 'sétait', 'sûr', 'sûre', 'sûrement', 'sœurs', 'table', 'tableau', 'tablier', 'tablée', 'tablées', 'taille', 'talent', 'talentueux', 'tamisée', 'tant', 'tante', 'tapa', 'tard', 'tarder', 'tardive', 'tardivement', 'tarif', 'tarifs', 'tartare', 'tartares', 'tarte', 'tataki', 'tatin', 'technique', 'tel', 'telle', 'tellement', 'temp', 'temple', 'température', 'tendance', 'tendre', 'tenter', 'tenté', 'tenu', 'tenue', 'terme', 'terminer', 'terminé', 'terrasse', 'terrasses', 'terre', 'terrible', 'terrine', 'terroir', 'tester', 'testé', 'texture', 'the', 'thon', 'thème', 'thé', 'thés', 'tiens', 'tient', 'timing', 'tip', 'tiramisu', 'tissot', 'tissu', 'titre', 'tiède', 'toilette', 'toits', 'tomate', 'tomates', 'tombe', 'tomber', 'tombé', 'tombés', 'top', 'topissime', 'total', 'totalement', 'touch', 'touche', 'toujours', 'tour', 'touriste', 'touristes', 'touristique', 'touristiques', 'tous', 'tout', 'toute', 'toutefois', 'toutes', 'tradition', 'traditionnel', 'traditionnelle', 'traditionnelles', 'traditionnels', 'train', 'tranche', 'tranquille', 'tranquillement', 'transport', 'transporte', 'travail', 'travailler', 'travaillé', 'travaillée', 'travaillées', 'travaillés', 'travers', 'tres', 'trio', 'trip', 'tripadvisor', 'trois', 'troisième', 'trop', 'trouve', 'trouver', 'trouverez', 'trouvé', 'truffe', 'truffes', 'truffé', 'très', 'trés', 'tuerie', 'type', 'typique', 'typiquement', 'typiques', 'téléphone', 'téléphonique', 'tête', 'tôt', 'ultra', 'unes', 'unique', 'uniquement', 'univers', 'urgence', 'usine', 'utile', 'vacances', 'vacherin', 'vais', 'vaisselle', 'valait', 'valent', 'valentin', 'valeur', 'valide', 'vanille', 'varie', 'varié', 'variée', 'variées', 'variés', 'variété', 'vaste', 'vaut', 'veau', 'vegan', 'veille', 'velouté', 'venait', 'venant', 'vendredi', 'venez', 'venir', 'venons', 'vent', 'ventre', 'venu', 'venue', 'venus', 'verre', 'verres', 'verrière', 'vers', 'version', 'vert', 'verte', 'veulent', 'veut', 'veux', 'via', 'viande', 'viandes', 'victime', 'vide', 'vie', 'vieille', 'vieilles', 'viennent', 'viens', 'vient', 'vieux', 'villa', 'ville', 'vin', 'vingtaine', 'vins', 'vintage', 'viognier', 'visible', 'visiblement', 'visite', 'visiter', 'visites', 'visiteurs', 'visité', 'visuel', 'visuellement', 'vit', 'vite', 'vitraux', 'vitre', 'vitres', 'vitrine', 'vitrée', 'vivant', 'vive', 'vivement', 'vivre', 'voici', 'voila', 'voilà', 'voir', 'voire', 'vois', 'voisin', 'voisins', 'voit', 'voiture', 'voiturier', 'voix', 'vol', 'volaille', 'volontiers', 'volonté', 'volume', 'vont', 'voulais', 'voulez', 'voulions', 'vouloir', 'voulu', 'voutée', 'voyage', 'voyager', 'voyagé', 'voûtes', 'voûtée', 'vrai', 'vraie', 'vraies', 'vraiment', 'vrais', 'vue', 'vues', 'vécu', 'végétal', 'végétarien', 'végétarienne', 'végétariens', 'véranda', 'véritable', 'véritables', 'wasabi', 'week', 'weekend', 'yeux', 'yuzu', 'zen', 'âme', 'ème', 'ère', 'échanger', 'échanges', 'école', 'écoute', 'écrevisses', 'écrin', 'également', 'élaboré', 'élaborée', 'élaborés', 'élevé', 'élevés', 'éloignées', 'élèves', 'élégance', 'élégant', 'élégante', 'émotion', 'énorme', 'énormes', 'énormément', 'épices', 'épicuriens', 'époque', 'épouse', 'époustouflant', 'épuré', 'épurée', 'équilibre', 'équilibré', 'équilibrée', 'équilibrées', 'équilibrés', 'équipe', 'équipes', 'établissement', 'établissements', 'étape', 'étoile', 'étoiles', 'étoilé', 'étoilés', 'étonnant', 'étrangers', 'étudiants', 'évidemment', 'évident', 'éviter', 'événement', 'être', 'île', 'œuf', 'œufs']\n",
      "Points Négatifs : ['absolument', 'acceptable', 'accompagnement', 'accueil', 'accueillis', 'addition', 'adresse', 'afin', 'agréable', 'ailleurs', 'aimable', 'aime', 'aimé', 'ainsi', 'air', 'aller', 'allez', 'allés', 'alors', 'amateur', 'ambiance', 'ami', 'amie', 'amis', 'amuse', 'andouillette', 'anniversaire', 'annonce', 'annoncé', 'années', 'apparemment', 'appelé', 'apporte', 'apporter', 'apprécié', 'après', 'apéritif', 'apéritifs', 'apéro', 'arrivant', 'arrive', 'arrivent', 'arriver', 'arrivons', 'arrivé', 'arrivée', 'arrivés', 'arrogant', 'assaisonnement', 'assez', 'assiette', 'assiettes', 'assis', 'attend', 'attendant', 'attendions', 'attendre', 'attendu', 'attente', 'attentes', 'attention', 'aucun', 'aucune', 'aujourdhui', 'auparavant', 'auprès', 'aussi', 'autant', 'autour', 'autre', 'autres', 'avant', 'avis', 'avoir', 'avon', 'baba', 'banal', 'banale', 'bar', 'barman', 'base', 'beau', 'beaucoup', 'bel', 'belle', 'besoin', 'bien', 'big', 'bière', 'bières', 'blanc', 'boeuf', 'bof', 'boire', 'boisson', 'boissons', 'bon', 'bonjour', 'bonne', 'bonnes', 'bons', 'bouche', 'bouchon', 'bouchons', 'boule', 'bout', 'bouteille', 'bouteilles', 'branché', 'brasserie', 'bref', 'brouhaha', 'bruit', 'brunch', 'bruyant', 'bruyante', 'burrata', 'bébé', 'bœuf', 'cadre', 'café', 'cafés', 'canard', 'cantine', 'car', 'carafe', 'carmelo', 'carrément', 'carte', 'catastrophe', 'catastrophique', 'cause', 'cave', 'ceci', 'cela', 'celle', 'celui', 'celuici', 'cependant', 'cerise', 'certain', 'certainement', 'certains', 'certes', 'cest', 'cet', 'cette', 'ceux', 'chacun', 'chaise', 'chaleur', 'chaleureuse', 'chaleureux', 'champagne', 'champignons', 'chance', 'changement', 'changer', 'changé', 'chaque', 'charcuterie', 'charme', 'chaud', 'chaude', 'chaîne', 'chef', 'chemin', 'cher', 'cherche', 'chercher', 'chers', 'chez', 'chocolat', 'choisi', 'choisir', 'choix', 'chose', 'choses', 'chou', 'choucroute', 'chère', 'citron', 'clairement', 'classe', 'client', 'clientèle', 'cochon', 'cocktail', 'collègue', 'collègues', 'commande', 'commander', 'commandes', 'commandé', 'comme', 'commence', 'commencé', 'comment', 'commentaire', 'commentaires', 'commercial', 'communication', 'complet', 'complètement', 'comportement', 'comprendre', 'comprends', 'compris', 'compte', 'concept', 'concernant', 'connu', 'conseil', 'contact', 'contre', 'convives', 'convivial', 'copieux', 'coquillettes', 'correct', 'correcte', 'correctement', 'corrects', 'coté', 'coup', 'coupe', 'couple', 'courant', 'couverts', 'cru', 'crème', 'cuillère', 'cuisine', 'cuisinier', 'cuisson', 'cuit', 'cuite', 'cuites', 'cuits', 'culinaire', 'cétait', 'côté', 'dabord', 'dailleurs', 'daller', 'danniversaire', 'dattente', 'dautres', 'davoir', 'deau', 'deco', 'dehors', 'demande', 'demander', 'demandons', 'demandé', 'demi', 'depuis', 'dernier', 'dernière', 'derrière', 'dessert', 'dessous', 'dessus', 'deux', 'deuxième', 'devait', 'devant', 'devenu', 'devrait', 'dexceptionnel', 'dhôtel', 'dieu', 'difficile', 'digne', 'dimanche', 'diner', 'dire', 'directement', 'directeur', 'direction', 'disant', 'disponible', 'disponibles', 'dit', 'dizaine', 'doit', 'dommage', 'donc', 'donne', 'donner', 'donné', 'dont', 'doute', 'droit', 'dun', 'dune', 'dur', 'dure', 'dès', 'début', 'décembre', 'déception', 'décevant', 'décevante', 'décidé', 'déco', 'déconseille', 'décor', 'décoration', 'découverte', 'découvrir', 'déguster', 'déjeuner', 'déjà', 'délicieux', 'départ', 'déplorable', 'désagréable', 'désastreux', 'désirer', 'détour', 'déçu', 'déçue', 'déçus', 'dêtre', 'dîner', 'effet', 'efficace', 'elles', 'encore', 'endroit', 'enfant', 'enfants', 'enfin', 'ensuite', 'entendu', 'entre', 'entrée', 'entrées', 'envie', 'erreur', 'erreurs', 'etait', 'etc', 'euro', 'excellent', 'exceptionnel', 'exceptionnelle', 'excuse', 'exemple', 'exorbitant', 'explication', 'explique', 'expérience', 'extrêmement', 'exécrable', 'face', 'facture', 'facturé', 'fade', 'faim', 'faire', 'fais', 'faisait', 'faisant', 'fait', 'faite', 'fallait', 'fallu', 'famille', 'faudra', 'faut', 'faute', 'façon', 'femme', 'file', 'filet', 'fille', 'fils', 'fin', 'final', 'finalement', 'finesse', 'fini', 'finir', 'foie', 'fois', 'fond', 'font', 'formule', 'fort', 'forte', 'fortement', 'frais', 'fraise', 'franchement', 'français', 'frites', 'froid', 'froide', 'froids', 'fromage', 'fruit', 'fuir', 'fuyez', 'février', 'fêter', 'gare', 'gastronomie', 'gastronomique', 'gen', 'genre', 'gentillesse', 'george', 'geste', 'glace', 'glacial', 'glaçons', 'globalement', 'gourmand', 'gout', 'goût', 'goûter', 'grand', 'grande', 'gras', 'grasse', 'gratin', 'gros', 'grosse', 'groupe', 'guide', 'gustatif', 'gâteau', 'habitués', 'haut', 'hautain', 'hauteur', 'heure', 'heures', 'heureusement', 'hier', 'historique', 'honte', 'honteux', 'hormis', 'horrible', 'hors', 'hyper', 'hélas', 'hôtel', 'ici', 'idée', 'immangeable', 'impossible', 'impression', 'inadmissible', 'incroyable', 'indigne', 'indiqué', 'insipide', 'insipides', 'installer', 'installé', 'installés', 'institution', 'interminable', 'internet', 'intérêt', 'italien', 'italienne', 'jacques', 'jai', 'jamais', 'jambon', 'jappelle', 'jaurais', 'javais', 'jen', 'jeune', 'jeunes', 'joie', 'joli', 'jolie', 'joue', 'jour', 'journée', 'jours', 'jus', 'jusquà', 'juste', 'jétais', 'laccueil', 'laddition', 'laise', 'laisse', 'laisser', 'laissé', 'lambiance', 'lamentable', 'lapéritif', 'laquelle', 'largement', 'larrivée', 'lassiette', 'lattente', 'lautre', 'lavance', 'lavons', 'leau', 'lendemain', 'lendroit', 'lensemble', 'lent', 'lentilles', 'lentrée', 'leurs', 'lexpérience', 'lextérieur', 'lheure', 'lhôtel', 'lieu', 'lieux', 'limage', 'limite', 'limité', 'limpression', 'lintérieur', 'lira', 'loin', 'lon', 'long', 'longtemps', 'longue', 'lors', 'lorsque', 'lumières', 'lyon', 'lyonnais', 'lyonnaise', 'léger', 'légumes', 'léquipe', 'létablissement', 'madame', 'magnifique', 'magret', 'main', 'maintenant', 'maison', 'maitre', 'mal', 'malgré', 'malheureusement', 'mama', 'mamma', 'mange', 'manger', 'mangé', 'manière', 'manquait', 'manque', 'mar', 'mari', 'masque', 'matin', 'mauvais', 'mauvaise', 'maître', 'meilleur', 'meilleure', 'meilleurs', 'meme', 'menu', 'mer', 'merci', 'message', 'met', 'mets', 'mettre', 'meurette', 'michelin', 'midi', 'mieux', 'mignardises', 'min', 'minable', 'mini', 'minimum', 'minuscule', 'minute', 'mode', 'moindre', 'moins', 'mois', 'moitié', 'mojito', 'moment', 'monde', 'monsieur', 'montant', 'morceau', 'mot', 'mousse', 'moyen', 'moyenne', 'musique', 'mythique', 'médiocre', 'médiocres', 'mérite', 'métier', 'mêmes', 'nai', 'navait', 'navez', 'navions', 'navons', 'nen', 'nest', 'niveau', 'nom', 'nombre', 'nombreuses', 'non', 'nont', 'normal', 'notamment', 'note', 'nourriture', 'nouveau', 'nuit', 'nul', 'nétaient', 'nétais', 'nétait', 'obligé', 'oeuf', 'offert', 'original', 'oublier', 'oublié', 'oui', 'pain', 'papier', 'parce', 'pareil', 'parfait', 'paris', 'parking', 'parle', 'parler', 'parlons', 'part', 'partager', 'particulier', 'particulièrement', 'partie', 'partir', 'partis', 'partout', 'passage', 'passe', 'passer', 'passez', 'passons', 'passé', 'patienter', 'patron', 'paye', 'payer', 'payé', 'peine', 'pendant', 'pense', 'penser', 'perdu', 'permet', 'permis', 'personne', 'personnel', 'personnes', 'petit', 'petite', 'petits', 'peu', 'peut', 'peutêtre', 'peux', 'photo', 'pied', 'pieds', 'pire', 'pizza', 'pièce', 'piège', 'place', 'placé', 'placés', 'plaisir', 'plat', 'plein', 'plus', 'plusieurs', 'plutôt', 'point', 'poisson', 'pommes', 'porc', 'porte', 'portion', 'positif', 'possible', 'pot', 'poulet', 'pourquoi', 'pourtant', 'poussette', 'pouvait', 'pouvez', 'pouvoir', 'praline', 'pratiquement', 'premier', 'première', 'prend', 'prendre', 'prenez', 'prennent', 'presque', 'prestation', 'principal', 'pris', 'prise', 'prix', 'pro', 'probablement', 'problème', 'proche', 'produits', 'professionnalisme', 'professionnel', 'propose', 'proposer', 'proposition', 'proposé', 'proposés', 'propre', 'près', 'précise', 'préciser', 'préféré', 'présent', 'présentation', 'présenter', 'présentés', 'prêt', 'prête', 'puis', 'puisque', 'purée', 'pâte', 'pâtes', 'qualité', 'qualitéprix', 'quand', 'quant', 'quantité', 'quantités', 'quartier', 'quasi', 'quasiment', 'quatre', 'quel', 'quelconque', 'quelconques', 'quelle', 'quelque', 'quelques', 'quen', 'quenelle', 'quenelles', 'question', 'queue', 'quil', 'quils', 'quoi', 'quon', 'quun', 'quune', 'quà', 'raison', 'rang', 'rapide', 'rapidement', 'rappelle', 'rapport', 'raté', 'ravioles', 'recevoir', 'recommande', 'refus', 'refusé', 'regard', 'remarque', 'remarquer', 'remettre', 'rendre', 'renommée', 'repas', 'respect', 'responsable', 'ressemble', 'restau', 'restaurant', 'restauration', 'reste', 'rester', 'resto', 'retard', 'retour', 'retourner', 'retournerai', 'retournerons', 'retrouve', 'retrouver', 'revanche', 'revenir', 'reviendrai', 'reviendrons', 'revient', 'revoir', 'reçu', 'rhum', 'ridicule', 'rien', 'risotto', 'riz', 'rouge', 'route', 'rue', 'réception', 'réclamer', 'réfectoire', 'répond', 'répondu', 'réponse', 'réputation', 'réservation', 'réservations', 'réserve', 'réserver', 'réservé', 'réservée', 'résultat', 'résumé', 'sachant', 'saint', 'sais', 'saison', 'sait', 'salade', 'sale', 'salle', 'salles', 'salon', 'salée', 'samedi', 'sans', 'sauce', 'saucisson', 'sauf', 'saumon', 'saveur', 'saveurs', 'savoir', 'scandaleux', 'sec', 'seconde', 'selon', 'semaine', 'semaines', 'semblait', 'semble', 'sen', 'sent', 'sentiment', 'sentir', 'sert', 'serum', 'serveur', 'serveurs', 'serveuse', 'serveuses', 'servi', 'service', 'servie', 'servies', 'servir', 'servis', 'sest', 'seul', 'seule', 'seulement', 'shelter', 'signature', 'sil', 'simple', 'simplement', 'sinon', 'site', 'soir', 'soirée', 'somme', 'sommelier', 'sorte', 'sorti', 'sortie', 'sortir', 'sou', 'souhaite', 'soupe', 'souriant', 'sourire', 'souvenir', 'souvent', 'standing', 'steak', 'style', 'succès', 'sucre', 'suffit', 'suite', 'suivi', 'super', 'superbe', 'supplément', 'surement', 'surgelé', 'surpris', 'surprise', 'surtout', 'sympa', 'sympathique', 'sèche', 'séminaire', 'sérieux', 'sûr', 'table', 'tant', 'tard', 'tarif', 'tarifs', 'tartare', 'tarte', 'tel', 'telle', 'tellement', 'temp', 'terme', 'terminer', 'terminé', 'terrasse', 'terre', 'terrible', 'terrine', 'tester', 'thon', 'tiramisu', 'tiède', 'toilette', 'tomate', 'top', 'total', 'totale', 'totalement', 'toujours', 'tour', 'touriste', 'touristes', 'tous', 'tout', 'toute', 'toutefois', 'toutes', 'tranche', 'travail', 'tres', 'triste', 'trois', 'trop', 'trouve', 'trouver', 'trouvé', 'truffe', 'truffes', 'très', 'type', 'téléphone', 'tête', 'tôt', 'unique', 'uniquement', 'usine', 'vais', 'vaut', 'veau', 'veille', 'venir', 'venu', 'venue', 'venus', 'verre', 'verres', 'vers', 'veut', 'viande', 'vide', 'vie', 'viens', 'vient', 'vieux', 'ville', 'vin', 'vins', 'visiblement', 'visite', 'vite', 'vivement', 'voilà', 'voir', 'volaille', 'voulais', 'voulez', 'voulions', 'voulu', 'voyons', 'vrai', 'vraie', 'vraiment', 'vue', 'vérifier', 'véritable', 'zéro', 'ème', 'également', 'élevé', 'élevés', 'établissement', 'établissements', 'étoile', 'étoilé', 'évidemment', 'éviter', 'être']\n",
      "Points neutre : ['absolument', 'accompagnement', 'accompagnements', 'accompagné', 'accompagnée', 'accueil', 'accueillant', 'accueillis', 'adapté', 'addition', 'adresse', 'affaire', 'afin', 'agréable', 'agréables', 'ailleurs', 'aimable', 'aimé', 'ainsi', 'allait', 'aller', 'allez', 'allé', 'allés', 'alors', 'ambiance', 'amie', 'amis', 'amoureux', 'améliorer', 'ancien', 'andouillette', 'anniversaire', 'anniversaires', 'années', 'apporter', 'apprécier', 'apprécié', 'après', 'apéritif', 'apéritifs', 'apéro', 'arrive', 'arrivent', 'arriver', 'arrivé', 'arrivée', 'arrivées', 'arrivés', 'art', 'assez', 'assiette', 'assiettes', 'assis', 'attend', 'attendions', 'attendons', 'attendre', 'attendu', 'attente', 'attentes', 'attentif', 'attention', 'attentionné', 'atypique', 'aucun', 'aucune', 'aujourdhui', 'auprès', 'aussi', 'autant', 'authentique', 'autour', 'autre', 'autres', 'avant', 'avis', 'avoir', 'avon', 'baba', 'baisse', 'banal', 'bar', 'barbarie', 'base', 'basique', 'beau', 'beaucoup', 'bel', 'belle', 'bien', 'bière', 'bières', 'blanc', 'bocuse', 'boeuf', 'bof', 'boire', 'boissons', 'bon', 'bonheur', 'bonjour', 'bonne', 'bonnes', 'bons', 'bouche', 'bouchon', 'bouchons', 'boudin', 'bougies', 'bout', 'bouteille', 'bouteilles', 'branché', 'brasserie', 'bravo', 'bref', 'brochet', 'brouillon', 'bruit', 'brunch', 'bruyant', 'bruyante', 'burrata', 'bémol', 'bœuf', 'cabillaud', 'cadre', 'café', 'caisse', 'calme', 'canard', 'cantine', 'car', 'carafe', 'carmelo', 'carottes', 'carte', 'cause', 'cela', 'celle', 'celui', 'celuici', 'cependant', 'certain', 'certainement', 'certaines', 'certains', 'certes', 'cest', 'cet', 'cette', 'ceux', 'chaise', 'chaleur', 'chaleureuse', 'chaleureux', 'champagne', 'champignons', 'chance', 'changer', 'chaque', 'charcuterie', 'chargé', 'charmant', 'charme', 'chaud', 'chauds', 'chef', 'chemin', 'cher', 'chercher', 'chers', 'chez', 'chocolat', 'choisi', 'choisir', 'choix', 'chose', 'choses', 'chou', 'choucroute', 'chouette', 'chère', 'clairement', 'classe', 'classique', 'classiques', 'client', 'clientèle', 'cochon', 'cocktail', 'coin', 'collègue', 'commande', 'commander', 'commandes', 'commandé', 'comme', 'comment', 'commentaire', 'commentaires', 'complet', 'complètement', 'comprendre', 'compris', 'compte', 'comptoir', 'concept', 'concernant', 'concerne', 'conclusion', 'conjoint', 'connais', 'connu', 'conseil', 'conseille', 'conseillé', 'content', 'contenu', 'contre', 'convenable', 'conversation', 'convives', 'convivial', 'convivialité', 'copieuse', 'copieux', 'correct', 'correcte', 'corrects', 'coté', 'coup', 'coupe', 'couple', 'courent', 'courtois', 'couverts', 'cru', 'crème', 'cuisine', 'cuisson', 'cuit', 'cuite', 'cuites', 'cuits', 'culinaire', 'cétait', 'côte', 'côté', 'dailleurs', 'dattendre', 'dattente', 'dautant', 'dautre', 'dautres', 'davoir', 'deau', 'deco', 'dehors', 'demande', 'demander', 'demandons', 'demandé', 'demi', 'den', 'depuis', 'dernier', 'dernière', 'derrière', 'dessert', 'dessous', 'dessus', 'deux', 'deuxième', 'devant', 'devoir', 'devrait', 'dexceptionnel', 'dextraordinaire', 'dhistoire', 'dhôtel', 'dieu', 'difficile', 'différents', 'digestif', 'digne', 'dimanche', 'diner', 'dire', 'disant', 'discuter', 'disponible', 'dit', 'dizaine', 'doit', 'dommage', 'donc', 'donne', 'donner', 'donné', 'dont', 'doriginalité', 'doute', 'doù', 'droit', 'dun', 'dune', 'dur', 'durant', 'dure', 'dès', 'début', 'déception', 'décevant', 'décevante', 'déco', 'décor', 'décoration', 'découverte', 'découvrir', 'déjeuner', 'déjà', 'délicieuse', 'délicieux', 'départ', 'déplorable', 'désagréable', 'désirer', 'détour', 'déçu', 'déçue', 'déçus', 'dêtre', 'dîner', 'dîné', 'effectivement', 'effet', 'efficace', 'effort', 'elles', 'encore', 'endroit', 'enfant', 'enfants', 'enfin', 'ensemble', 'ensuite', 'entendre', 'entendu', 'entre', 'entrée', 'entrées', 'envie', 'erreur', 'erreurs', 'essayer', 'etait', 'etc', 'etre', 'euro', 'excellent', 'excellente', 'excellents', 'exceptionnel', 'exceptionnelle', 'excessif', 'exemple', 'explication', 'expéditif', 'expérience', 'extraordinaire', 'extrêmement', 'face', 'facile', 'facture', 'fade', 'faim', 'faire', 'faisait', 'fait', 'faite', 'fallait', 'fallu', 'famille', 'faudrait', 'faut', 'faute', 'façon', 'femme', 'file', 'filet', 'fille', 'fin', 'final', 'finalement', 'finesse', 'fini', 'finir', 'florentine', 'flottante', 'foie', 'fois', 'fond', 'fondant', 'font', 'forcément', 'formule', 'fort', 'forte', 'frais', 'franchement', 'frites', 'froid', 'froide', 'froides', 'froids', 'fromage', 'fromages', 'fruit', 'fête', 'fêter', 'gamba', 'gamme', 'gare', 'garniture', 'gastronomie', 'gastronomique', 'gen', 'genre', 'gentil', 'gentiment', 'george', 'geste', 'glace', 'glacé', 'glaçons', 'globalement', 'gluten', 'gourmand', 'gout', 'goût', 'goûteux', 'goûts', 'grand', 'grande', 'grandes', 'grandiose', 'gras', 'gratin', 'grave', 'gros', 'grosse', 'groupe', 'groupes', 'gâche', 'gâché', 'gâteau', 'général', 'habitués', 'haut', 'haute', 'hauteur', 'heure', 'heures', 'heureusement', 'hier', 'histoire', 'historique', 'hors', 'hotel', 'hyper', 'hélas', 'hôtel', 'ici', 'idem', 'idée', 'immense', 'impeccable', 'impersonnel', 'important', 'impossible', 'impression', 'impressionnant', 'incontournable', 'incroyable', 'ingrédients', 'insipide', 'installés', 'institution', 'interminable', 'internet', 'intéressant', 'intérêt', 'italien', 'jacques', 'jai', 'jamais', 'jambon', 'jarret', 'jaurais', 'javais', 'javoue', 'jeune', 'jeunes', 'joli', 'jolie', 'joue', 'jour', 'journée', 'jours', 'juste', 'laccueil', 'laddition', 'lair', 'laisse', 'laisser', 'laissé', 'lambiance', 'landouillette', 'lapéritif', 'lapéro', 'larrivée', 'lassiette', 'lattente', 'lautre', 'lavance', 'leau', 'lendroit', 'lensemble', 'lent', 'lenteur', 'lentilles', 'lentrée', 'leurs', 'lexpérience', 'lextérieur', 'lheure', 'lhôtel', 'lieu', 'lieux', 'limite', 'limpression', 'lintérieur', 'loin', 'lomelette', 'lon', 'long', 'longtemps', 'longue', 'longueur', 'lors', 'lorsque', 'lumière', 'lumières', 'lun', 'lusine', 'lyon', 'lyonnais', 'lyonnaise', 'lécoute', 'légumes', 'légèrement', 'léquipe', 'létablissement', 'magie', 'magique', 'magnifique', 'magnifiques', 'mai', 'main', 'maintenant', 'maison', 'mal', 'malgré', 'malheureusement', 'mama', 'mange', 'manger', 'mangé', 'manquait', 'manque', 'manquent', 'mari', 'mattendais', 'mauvais', 'mauvaise', 'mavait', 'maître', 'meilleur', 'meilleure', 'meilleurs', 'meme', 'mention', 'menu', 'mer', 'merci', 'met', 'mets', 'mettre', 'michelin', 'midi', 'mieux', 'mignardises', 'min', 'mini', 'minimum', 'minute', 'mise', 'mitigé', 'mitigée', 'moderne', 'moelleux', 'moins', 'mois', 'moment', 'monde', 'monsieur', 'morceau', 'mot', 'moyen', 'moyenne', 'moyens', 'musique', 'mythique', 'mère', 'médiocre', 'mérite', 'nai', 'navait', 'navions', 'navons', 'nen', 'nest', 'nettement', 'niveau', 'noir', 'noix', 'nom', 'nombre', 'nombreuses', 'nombreux', 'non', 'nont', 'normal', 'norvégienne', 'notamment', 'note', 'noter', 'nourriture', 'nouveau', 'nul', 'néanmoins', 'négatif', 'nétaient', 'nétait', 'obligé', 'odeur', 'offert', 'offre', 'omelette', 'opté', 'ordinaire', 'original', 'originale', 'originalité', 'oublié', 'oui', 'ouverte', 'paiement', 'pain', 'parce', 'pareil', 'parfait', 'parfaite', 'parfois', 'paris', 'parking', 'parle', 'parler', 'part', 'partager', 'parti', 'particulier', 'particulière', 'particulièrement', 'partie', 'partir', 'partout', 'passage', 'passe', 'passer', 'passé', 'pate', 'patron', 'pauvre', 'paye', 'payer', 'payé', 'peine', 'pendant', 'pense', 'perdu', 'personne', 'personnel', 'personnes', 'petit', 'petite', 'petits', 'peu', 'peut', 'peutêtre', 'peux', 'photo', 'pigeon', 'pizza', 'pièce', 'place', 'placé', 'plaisir', 'plat', 'plateau', 'plein', 'pleine', 'plus', 'plusieurs', 'plutot', 'plutôt', 'point', 'poisson', 'poissons', 'poivre', 'polenta', 'pomme', 'pommes', 'porc', 'porte', 'portion', 'positif', 'positifs', 'possible', 'pot', 'poulet', 'pourquoi', 'pourrait', 'pourtant', 'pouvait', 'pouvoir', 'praline', 'premier', 'première', 'prend', 'prendre', 'presque', 'prestation', 'principal', 'pris', 'prise', 'prix', 'pro', 'problème', 'prochaine', 'produits', 'professionnel', 'profiter', 'propose', 'proposer', 'proposé', 'proposée', 'proposés', 'proximité', 'près', 'préfère', 'préféré', 'préparé', 'présentation', 'présente', 'présentés', 'puis', 'puisque', 'purée', 'pâte', 'pâtes', 'pâté', 'période', 'qualité', 'qualitéprix', 'quand', 'quant', 'quantité', 'quantités', 'quartier', 'quasiment', 'quatre', 'quau', 'quel', 'quelconque', 'quelle', 'quelque', 'quelques', 'quelquun', 'quen', 'quenelle', 'question', 'queue', 'quil', 'quils', 'quoi', 'quon', 'quun', 'quune', 'quà', 'raisonnable', 'rang', 'rapide', 'rapidement', 'rapport', 'recevoir', 'recherche', 'recommande', 'redire', 'refaire', 'regard', 'relativement', 'remarque', 'remarques', 'remplir', 'rend', 'rendezvous', 'rendre', 'rendu', 'renommée', 'repas', 'reprises', 'respect', 'responsable', 'ressemble', 'restaurant', 'restauration', 'reste', 'rester', 'resto', 'restés', 'retour', 'retourner', 'retournerai', 'retournerons', 'retrouve', 'retrouver', 'retrouvé', 'revanche', 'revenir', 'reviendrai', 'reviendrons', 'revient', 'revoir', 'rhum', 'ridicule', 'rien', 'risotto', 'riz', 'rouge', 'rue', 'réception', 'réclamer', 'réfectoire', 'régler', 'rénovation', 'répond', 'répondu', 'réputation', 'réservation', 'réserver', 'réservé', 'résistance', 'résultat', 'résumé', 'réussi', 'sagit', 'saint', 'sais', 'saison', 'sait', 'salade', 'sale', 'salle', 'salles', 'salon', 'salé', 'salée', 'samedi', 'sans', 'sapeur', 'satisfaisant', 'sattend', 'sauce', 'saucisson', 'sauf', 'saumon', 'saveur', 'saveurs', 'savoir', 'savoureux', 'sec', 'sel', 'selon', 'semaine', 'semble', 'semblé', 'sen', 'sent', 'sentiment', 'sert', 'serum', 'serveur', 'serveurs', 'serveuse', 'serveuses', 'servi', 'service', 'servie', 'servies', 'servir', 'servis', 'sest', 'seul', 'seule', 'seulement', 'shelter', 'sil', 'simple', 'simplement', 'sinon', 'site', 'situé', 'soir', 'soirée', 'sol', 'somme', 'sommelier', 'sonore', 'sortant', 'sortie', 'sou', 'souhaite', 'soupe', 'souriant', 'sourire', 'souvenir', 'souvent', 'splendide', 'spéciale', 'spécialités', 'standing', 'style', 'sublime', 'sucré', 'sud', 'suffisamment', 'suite', 'super', 'superbe', 'surpris', 'surprise', 'surtout', 'sushi', 'sympa', 'sympas', 'sympathique', 'sympathiques', 'sèche', 'séjour', 'sérieux', 'sûr', 'sûrement', 'table', 'tablier', 'taille', 'tant', 'tard', 'tarif', 'tarifs', 'tartare', 'tarte', 'tel', 'telle', 'tellement', 'temp', 'température', 'tenu', 'terme', 'terminé', 'terrasse', 'terrasses', 'terre', 'terrible', 'terrine', 'tester', 'testé', 'thon', 'tiède', 'tièdes', 'toilette', 'tomate', 'top', 'totalement', 'touche', 'toujours', 'tour', 'touristes', 'tourner', 'tous', 'tout', 'toute', 'toutefois', 'toutes', 'tradition', 'traditionnelle', 'tranche', 'travail', 'tres', 'trois', 'trop', 'trouve', 'trouver', 'trouvé', 'truffe', 'très', 'trés', 'type', 'typique', 'typiquement', 'téléphone', 'tête', 'unique', 'uniquement', 'usine', 'vais', 'valeur', 'variés', 'vaut', 'veau', 'venir', 'venu', 'venue', 'venus', 'verre', 'verres', 'vers', 'veut', 'viande', 'viandes', 'vide', 'vides', 'vie', 'vienne', 'viens', 'vient', 'vieux', 'villa', 'ville', 'vin', 'vins', 'visiblement', 'visite', 'vite', 'voilà', 'voir', 'voire', 'voisins', 'voit', 'volaille', 'volonté', 'voulais', 'voulions', 'voulu', 'vrai', 'vraie', 'vraiment', 'vue', 'végétarien', 'weekend', 'yeux', 'ème', 'ère', 'école', 'également', 'élevé', 'élevée', 'élevés', 'énorme', 'énormément', 'épouse', 'équipe', 'établissement', 'étoile', 'étoiles', 'étoilé', 'éviter', 'être']\n"
     ]
    }
   ],
   "source": [
    "#from sklearn.feature_extraction.text import CountVectorizer\n",
    "#from nltk.corpus import stopwords\n",
    "\n",
    "\n",
    "# Charger les mots d'arrêt en français\n",
    "#french_stopwords = stopwords.words('french')\n",
    "\n",
    "# Vectorisation des avis en excluant les mots d'arrêt en français\n",
    "#vectorizer = CountVectorizer(stop_words=french_stopwords)\n",
    "#X = vectorizer.fit_transform(avis_restaurants['review_cleaned'])\n",
    "\n",
    "\n",
    "# Extraire les mots les plus fréquents dans les avis positifs, neutre et négatifs\n",
    "#positive_reviews = avis_restaurants[avis_restaurants['sentiment'] == 1]['review_cleaned']\n",
    "#negative_reviews = avis_restaurants[avis_restaurants['sentiment'] == 0]['review_cleaned']\n",
    "#neutre_reviews = avis_restaurants[avis_restaurants['sentiment'] == 2]['review_cleaned']\n",
    "\n",
    "#positive_matrix = vectorizer.transform(positive_reviews)\n",
    "#negative_matrix = vectorizer.transform(negative_reviews)\n",
    "#neutre_matrix = vectorizer.transform(neutre_reviews)\n",
    "\n",
    "#positive_freq = np.asarray(positive_matrix.sum(axis=0)).flatten()\n",
    "#negative_freq = np.asarray(negative_matrix.sum(axis=0)).flatten()\n",
    "#neutre_freq = np.asarray(neutre_matrix.sum(axis=0)).flatten()\n",
    "\n",
    "\n",
    "# Mots fréquents dans les avis positifs\n",
    "#positive_words = [word for word, freq in zip(vectorizer.get_feature_names_out(), positive_freq) if freq > 10]\n",
    "# Mots fréquents dans les avis négatifs\n",
    "#negative_words = [word for word, freq in zip(vectorizer.get_feature_names_out(), negative_freq) if freq > 10]\n",
    "# Mots fréquents dans les avis neutre\n",
    "#neutre_words = [word for word, freq in zip(vectorizer.get_feature_names_out(), neutre_freq) if freq > 10]\n",
    "\n",
    "#print(\"Points Positifs :\", positive_words)\n",
    "#print(\"Points Négatifs :\", negative_words)\n",
    "#print(\"Points neutre :\", neutre_words)\n"
   ]
  },
  {
   "cell_type": "markdown",
   "metadata": {},
   "source": [
    "# Évolution du Sentiment dans le Temps"
   ]
  },
  {
   "cell_type": "code",
   "execution_count": null,
   "metadata": {},
   "outputs": [],
   "source": [
    "#import matplotlib.pyplot as plt\n",
    "\n",
    "# Calculer la répartition des sentiments par mois\n",
    "#sentiments_par_mois = avis_restaurants.groupby(['year', 'month', 'sentiment']).size().unstack().fillna(0)\n",
    "\n",
    "# Visualiser l'évolution\n",
    "#sentiments_par_mois.plot(kind='line', stacked=True, figsize=(12, 6))\n",
    "#plt.title(\"Évolution des sentiments dans le temps\")\n",
    "#plt.xlabel(\"Date (Année, Mois)\")\n",
    "#plt.ylabel(\"Nombre d'avis\")\n",
    "#plt.legend(title=\"Sentiment\")\n",
    "#plt.show()"
   ]
  },
  {
   "cell_type": "markdown",
   "metadata": {},
   "source": [
    "# Résumé Automatique des Avis"
   ]
  },
  {
   "cell_type": "markdown",
   "metadata": {},
   "source": [
    "Pour un restaurant"
   ]
  },
  {
   "cell_type": "code",
   "execution_count": 6,
   "metadata": {},
   "outputs": [
    {
     "name": "stderr",
     "output_type": "stream",
     "text": [
      "e:\\Application\\Anaconda\\envs\\Nlp_projet\\Lib\\site-packages\\tqdm\\auto.py:21: TqdmWarning: IProgress not found. Please update jupyter and ipywidgets. See https://ipywidgets.readthedocs.io/en/stable/user_install.html\n",
      "  from .autonotebook import tqdm as notebook_tqdm\n"
     ]
    },
    {
     "name": "stdout",
     "output_type": "stream",
     "text": [
      "WARNING:tensorflow:From e:\\Application\\Anaconda\\envs\\Nlp_projet\\Lib\\site-packages\\tf_keras\\src\\losses.py:2976: The name tf.losses.sparse_softmax_cross_entropy is deprecated. Please use tf.compat.v1.losses.sparse_softmax_cross_entropy instead.\n",
      "\n",
      "WARNING:tensorflow:From e:\\Application\\Anaconda\\envs\\Nlp_projet\\Lib\\site-packages\\tf_keras\\src\\backend.py:873: The name tf.get_default_graph is deprecated. Please use tf.compat.v1.get_default_graph instead.\n",
      "\n"
     ]
    },
    {
     "name": "stderr",
     "output_type": "stream",
     "text": [
      "All PyTorch model weights were used when initializing TFT5ForConditionalGeneration.\n",
      "\n",
      "All the weights of TFT5ForConditionalGeneration were initialized from the PyTorch model.\n",
      "If your task is similar to the task the model of the checkpoint was trained on, you can already use TFT5ForConditionalGeneration for predictions without further training.\n",
      "Device set to use 0\n"
     ]
    }
   ],
   "source": [
    "from transformers import pipeline\n",
    "\n",
    "# Chargement du pipeline de résumé\n",
    "summarizer = pipeline(\"summarization\", model=\"t5-small\", tokenizer=\"t5-small\")\n",
    "\n",
    "# Fonction pour segmenter les avis en morceaux de taille raisonnable\n",
    "def segmenter_avis(texte, taille_segment=100):\n",
    "    mots = texte.split()\n",
    "    for i in range(0, len(mots), taille_segment):\n",
    "        yield ' '.join(mots[i:i + taille_segment])\n",
    "\n",
    "# Fonction pour résumer automatiquement les avis\n",
    "def resumer_avis_restaurant(avis, taille_segment=100, max_length=15, min_length=5):\n",
    "    segments = list(segmenter_avis(avis, taille_segment))\n",
    "    resumes = []\n",
    "    \n",
    "    for segment in segments:\n",
    "        try:\n",
    "            resume = summarizer(segment, max_length=max_length, min_length=min_length, do_sample=False)[0]['summary_text']\n",
    "            resumes.append(resume)\n",
    "        except Exception as e:\n",
    "            resumes.append(f\"Erreur lors du résumé : {str(e)}\")\n",
    "    \n",
    "    # Combinaison des résumés partiels en un résumé global, limité à 15 mots maximum\n",
    "    resume_global = ' '.join(resumes)\n",
    "    return ' '.join(resume_global.split()[:15])  # Limite à 15 mots"
   ]
  },
  {
   "cell_type": "code",
   "execution_count": 12,
   "metadata": {},
   "outputs": [
    {
     "name": "stdout",
     "output_type": "stream",
     "text": [
      "Résumé des avis pour Le Bouchon des Filles :\n",
      "trop bon moment accueil plat ambiance tout passer bon moment entre amis jai cherché pommes\n"
     ]
    }
   ],
   "source": [
    "# Exemple : Avis pour un seul restaurant\n",
    "nom_restaurant = \"Le Bouchon des Filles\"\n",
    "avis_selec = avis_restaurants[avis_restaurants['restaurant'] == nom_restaurant]['review_cleaned'].str.cat(sep=' ')\n",
    "\n",
    "# Génération du résumé\n",
    "resume_restaurant = resumer_avis_restaurant(avis_selec)\n",
    "\n",
    "# Affichage du résultat limité à 15 mots\n",
    "print(f\"Résumé des avis pour {nom_restaurant} :\\n{resume_restaurant}\")"
   ]
  },
  {
   "cell_type": "markdown",
   "metadata": {},
   "source": [
    "Pour plusieurs restaurants"
   ]
  },
  {
   "cell_type": "code",
   "execution_count": 13,
   "metadata": {},
   "outputs": [
    {
     "name": "stderr",
     "output_type": "stream",
     "text": [
      "All PyTorch model weights were used when initializing TFT5ForConditionalGeneration.\n",
      "\n",
      "All the weights of TFT5ForConditionalGeneration were initialized from the PyTorch model.\n",
      "If your task is similar to the task the model of the checkpoint was trained on, you can already use TFT5ForConditionalGeneration for predictions without further training.\n",
      "Device set to use 0\n"
     ]
    }
   ],
   "source": [
    "from transformers import pipeline\n",
    "import pandas as pd\n",
    "\n",
    "# Chargement du pipeline de résumé\n",
    "summarizer = pipeline(\"summarization\", model=\"t5-small\", tokenizer=\"t5-small\")\n",
    "\n",
    "# Fonction pour segmenter les avis en morceaux de taille raisonnable\n",
    "def segmenter_avis(texte, taille_segment=300):\n",
    "    mots = texte.split()\n",
    "    for i in range(0, len(mots), taille_segment):\n",
    "        yield ' '.join(mots[i:i + taille_segment])\n",
    "\n",
    "# Fonction pour résumer les avis d'un restaurant donné\n",
    "def resumer_avis(avis, taille_segment=300, max_length=10, min_length=5):\n",
    "    segments = list(segmenter_avis(avis, taille_segment))\n",
    "    resumes = []\n",
    "    \n",
    "    for segment in segments:\n",
    "        try:\n",
    "            resume = summarizer(segment, max_length=max_length, min_length=min_length, do_sample=False)[0]['summary_text']\n",
    "            resumes.append(resume)\n",
    "        except Exception as e:\n",
    "            resumes.append(f\"Erreur lors du résumé : {str(e)}\")\n",
    "    \n",
    "    # Combinaison des résumés partiels en un résumé global\n",
    "    resume_global = ' '.join(resumes)\n",
    "    return ' '.join(resume_global.split()[:10])  # Limite à 15 mots\n",
    "\n",
    "# Fonction pour générer les résumés pour chaque restaurant à partir de plusieurs avis\n",
    "def resumer_avis_par_restaurant(dataframe, taille_segment=300):\n",
    "    resultats = []\n",
    "    \n",
    "    for restaurant, avis_groupes in dataframe.groupby(\"restaurant\"):\n",
    "        # Concaténer tous les avis du restaurant en une seule chaîne de texte\n",
    "        texte_avis = ' '.join(avis_groupes['review_cleaned'].tolist())\n",
    "        resume_avis = resumer_avis(texte_avis, taille_segment)\n",
    "        resultats.append({\"restaurant\": restaurant, \"resume_avis\": resume_avis})\n",
    "    \n",
    "    return pd.DataFrame(resultats)\n"
   ]
  },
  {
   "cell_type": "code",
   "execution_count": 14,
   "metadata": {},
   "outputs": [
    {
     "name": "stdout",
     "output_type": "stream",
     "text": [
      "                        restaurant  \\\n",
      "0  Frazarin Bistrot Franco Italien   \n",
      "1            Le Bouchon des Filles   \n",
      "2              Le Grand Réfectoire   \n",
      "3            Les Terrasses de Lyon   \n",
      "\n",
      "                                         resume_avis  \n",
      "0  restaurant de passionnés avec une belle histoi...  \n",
      "1  l'ambiance, plats, le croustillant de bou le c...  \n",
      "2  Lieu historique que j le service est bon, du p...  \n",
      "3  service brouillon à revoir dîner is a very goo...  \n"
     ]
    }
   ],
   "source": [
    "# Génération des résumés\n",
    "resume_df = resumer_avis_par_restaurant(avis_restaurants)\n",
    "\n",
    "# Affichage des résultats\n",
    "print(resume_df)"
   ]
  },
  {
   "cell_type": "markdown",
   "metadata": {},
   "source": [
    "ou"
   ]
  },
  {
   "cell_type": "code",
   "execution_count": null,
   "metadata": {},
   "outputs": [
    {
     "name": "stderr",
     "output_type": "stream",
     "text": [
      "All PyTorch model weights were used when initializing TFT5ForConditionalGeneration.\n",
      "\n",
      "All the weights of TFT5ForConditionalGeneration were initialized from the PyTorch model.\n",
      "If your task is similar to the task the model of the checkpoint was trained on, you can already use TFT5ForConditionalGeneration for predictions without further training.\n",
      "Device set to use 0\n"
     ]
    }
   ],
   "source": [
    "from transformers import pipeline\n",
    "import pandas as pd\n",
    "\n",
    "# Chargement du pipeline de résumé\n",
    "summarizer = pipeline(\"summarization\", model=\"t5-small\", tokenizer=\"t5-small\")\n",
    "\n",
    "# Fonction pour segmenter les avis en morceaux de taille raisonnable\n",
    "def segmenter_avis(texte, taille_segment=300):\n",
    "    mots = texte.split()\n",
    "    for i in range(0, len(mots), taille_segment):\n",
    "        yield ' '.join(mots[i:i + taille_segment])\n",
    "\n",
    "# Fonction pour résumer les avis d'un restaurant donné\n",
    "def resumer_avis(avis, taille_segment=300, max_length=10, min_length=3):\n",
    "    segments = list(segmenter_avis(avis, taille_segment))\n",
    "    resumes = []\n",
    "    \n",
    "    for segment in segments:\n",
    "        try:\n",
    "            resume = summarizer(segment, max_length=max_length, min_length=min_length, do_sample=False)[0]['summary_text']\n",
    "            resumes.append(resume)\n",
    "        except Exception as e:\n",
    "            resumes.append(f\"Erreur lors du résumé : {str(e)}\")\n",
    "    \n",
    "    # Combinaison des résumés partiels en un résumé global\n",
    "    resume_global = ' '.join(resumes)\n",
    "    return ' '.join(resume_global.split()[:10])  # Limite à 10 mots\n",
    "\n",
    "# Fonction pour générer les résumés pour chaque restaurant à partir de plusieurs avis\n",
    "def resumer_avis_par_restaurant(dataframe, taille_segment=300):\n",
    "    resultats = []\n",
    "    \n",
    "    for restaurant, avis_groupes in dataframe.groupby(\"restaurant\"):\n",
    "        # Concaténer tous les avis du restaurant en une seule chaîne de texte\n",
    "        texte_avis = ' '.join(avis_groupes['review_cleaned'].tolist())\n",
    "        resume_avis = resumer_avis(texte_avis, taille_segment)\n",
    "        resultats.append({\"restaurant\": restaurant, \"resume_avis\": resume_avis})\n",
    "    \n",
    "    return pd.DataFrame(resultats)\n"
   ]
  },
  {
   "cell_type": "code",
   "execution_count": null,
   "metadata": {},
   "outputs": [],
   "source": [
    "# Génération des résumés\n",
    "resume_df = resumer_avis_par_restaurant(avis_restaurants)\n",
    "\n",
    "# Affichage des résultats\n",
    "print(resume_df)"
   ]
  },
  {
   "cell_type": "code",
   "execution_count": null,
   "metadata": {},
   "outputs": [],
   "source": [
    "import openpyxl\n",
    "\n",
    "#sauvergarde le resumer des avis par restaurant dans un fichier excel\n",
    "resume_df.to_excel('D:/M2 SISE/Text Mining ou NLP/Projet/nlp_text_mining/Data/resume_avis_restaurants_1.xlsx', index=False)"
   ]
  },
  {
   "cell_type": "markdown",
   "metadata": {},
   "source": [
    "# Comparer les sentiments ou thèmes avec les notes attribuées"
   ]
  },
  {
   "cell_type": "markdown",
   "metadata": {},
   "source": [
    "Ajouter une analyse descriptive des notes par sentiment"
   ]
  },
  {
   "cell_type": "code",
   "execution_count": null,
   "metadata": {},
   "outputs": [],
   "source": [
    "# Calculer la note moyenne par sentiment\n",
    "#sentiment_note_moyenne = avis_restaurants.groupby('sentiment_rating')['rating'].mean()\n",
    "#print(sentiment_note_moyenne)\n",
    "\n",
    "# Visualiser avec un graphique\n",
    "#import matplotlib.pyplot as plt\n",
    "\n",
    "#sentiment_note_moyenne.plot(kind='bar', color=['red', 'blue', 'green'], figsize=(8, 5))\n",
    "#plt.title(\"Note moyenne par type de sentiment\")\n",
    "#plt.ylabel(\"Note moyenne\")\n",
    "#plt.xlabel(\"Sentiment\")\n",
    "#plt.xticks(rotation=0)\n",
    "#plt.show()\n"
   ]
  },
  {
   "cell_type": "markdown",
   "metadata": {},
   "source": [
    "Analyse des thèmes les plus fréquents par note"
   ]
  },
  {
   "cell_type": "code",
   "execution_count": 20,
   "metadata": {},
   "outputs": [
    {
     "name": "stdout",
     "output_type": "stream",
     "text": [
      "Mots fréquents (notes basses) : [('très', 186), ('plat', 179), ('service', 159), ('restaurant', 133), ('plus', 123), ('bien', 103), ('sans', 103), ('tout', 97), ('table', 93), ('avon', 85)]\n",
      "Mots fréquents (notes moyennes) : [('très', 347), ('plat', 289), ('service', 257), ('plus', 190), ('peu', 176), ('avon', 161), ('sans', 147), ('bon', 144), ('bien', 138), ('restaurant', 135)]\n",
      "Mots fréquents (notes hautes) : [('très', 3137), ('plat', 1645), ('service', 1533), ('bon', 1137), ('restaurant', 1059), ('bien', 1040), ('cuisine', 1010), ('avon', 993), ('tout', 903), ('qualité', 849)]\n"
     ]
    }
   ],
   "source": [
    "#from collections import Counter\n",
    "\n",
    "# Fonction pour obtenir les mots fréquents selon la note\n",
    "#def mots_frequents_par_note(data, note_min, note_max):\n",
    "#    avis = data[(data['rating'] >= note_min) & (data['rating'] <= note_max)]['review_cleaned']\n",
    "#    tous_mots = ' '.join(avis).split()\n",
    "#    return Counter(tous_mots).most_common(10)\n",
    "\n",
    "# Exemples pour différentes plages de notes\n",
    "#mots_notes_basses = mots_frequents_par_note(avis_restaurants, 1, 2)\n",
    "#mots_notes_moyennes = mots_frequents_par_note(avis_restaurants, 3, 3)\n",
    "#mots_notes_hautes = mots_frequents_par_note(avis_restaurants, 4, 5)\n",
    "\n",
    "#print(\"Mots fréquents (notes basses) :\", mots_notes_basses)\n",
    "#print(\"Mots fréquents (notes moyennes) :\", mots_notes_moyennes)\n",
    "#print(\"Mots fréquents (notes hautes) :\", mots_notes_hautes)"
   ]
  },
  {
   "cell_type": "markdown",
   "metadata": {},
   "source": [
    "# Analyse intra-restaurant : Comparaison avant/après une date"
   ]
  },
  {
   "cell_type": "markdown",
   "metadata": {},
   "source": [
    "Diviser les données en deux périodes"
   ]
  },
  {
   "cell_type": "code",
   "execution_count": 21,
   "metadata": {},
   "outputs": [],
   "source": [
    "# Assurez-vous que la colonne 'date_review' est bien de type datetime\n",
    "#avis_restaurants['date_review'] = pd.to_datetime(avis_restaurants['date_review'], errors='coerce')\n"
   ]
  },
  {
   "cell_type": "code",
   "execution_count": 22,
   "metadata": {},
   "outputs": [
    {
     "name": "stdout",
     "output_type": "stream",
     "text": [
      "periode\n",
      "Avant    3428\n",
      "Après     697\n",
      "Name: count, dtype: int64\n"
     ]
    }
   ],
   "source": [
    "# Définir une date de seuil\n",
    "#date_seuil = '2024-01-01'\n",
    "\n",
    "# Créer une colonne pour indiquer si l'avis est avant ou après la date\n",
    "#avis_restaurants['periode'] = avis_restaurants['date_review'].apply(\n",
    "#    lambda x: 'Avant' if x < pd.to_datetime(date_seuil) else 'Après'\n",
    "#)\n",
    "\n",
    "# Vérifier la distribution des avis par période\n",
    "#print(avis_restaurants['periode'].value_counts())\n"
   ]
  },
  {
   "cell_type": "markdown",
   "metadata": {},
   "source": [
    "Analyser les sentiments par période"
   ]
  },
  {
   "cell_type": "code",
   "execution_count": null,
   "metadata": {},
   "outputs": [],
   "source": [
    "# Distribution des sentiments par période\n",
    "#sentiments_par_periode = avis_restaurants.groupby(['periode', 'sentiment_rating']).size().unstack().fillna(0)\n",
    "\n",
    "# Visualiser avec un graphique\n",
    "#sentiments_par_periode.plot(kind='bar', stacked=True, figsize=(10, 6))\n",
    "#plt.title(\"Distribution des sentiments avant et après la date seuil\")\n",
    "#plt.xlabel(\"Période\")\n",
    "#plt.ylabel(\"Nombre d'avis\")\n",
    "#plt.xticks(rotation=0)\n",
    "#plt.legend(title=\"Sentiment\")\n",
    "#plt.show()\n"
   ]
  },
  {
   "cell_type": "markdown",
   "metadata": {},
   "source": [
    "Comparer les notes avant et après la date"
   ]
  },
  {
   "cell_type": "code",
   "execution_count": null,
   "metadata": {},
   "outputs": [],
   "source": [
    "# Note moyenne par période\n",
    "#note_moyenne_par_periode = avis_restaurants.groupby('periode')['rating'].mean()\n",
    "#print(note_moyenne_par_periode)\n",
    "\n",
    "# Visualiser\n",
    "#note_moyenne_par_periode.plot(kind='bar', color=['purple', 'orange'], figsize=(8, 5))\n",
    "#plt.title(\"Note moyenne avant et après la date seuil\")\n",
    "#plt.ylabel(\"Note moyenne\")\n",
    "#plt.xlabel(\"Période\")\n",
    "#plt.xticks(rotation=0)\n",
    "#plt.show()"
   ]
  },
  {
   "cell_type": "markdown",
   "metadata": {},
   "source": [
    "# Nuages de mots interactifs."
   ]
  },
  {
   "cell_type": "code",
   "execution_count": 3,
   "metadata": {},
   "outputs": [],
   "source": [
    "#Nuage de mots\n",
    "from wordcloud import WordCloud \n",
    "\n",
    "# Concaténer tous les avis\n",
    "tous_avis = ' '.join(avis_restaurants['review_cleaned'])\n",
    "\n",
    "# Créer un nuage de mots\n",
    "wordcloud = WordCloud(width=800, height=400, background_color ='white').generate(tous_avis)\n",
    "\n",
    "# Afficher le nuage de mots\n",
    "#plt.figure(figsize=(10, 6))\n",
    "#plt.imshow(wordcloud, interpolation='bilinear')\n",
    "#plt.axis('off')\n",
    "#plt.show()\n"
   ]
  }
 ],
 "metadata": {
  "kernelspec": {
   "display_name": "Nlp_projet",
   "language": "python",
   "name": "python3"
  },
  "language_info": {
   "codemirror_mode": {
    "name": "ipython",
    "version": 3
   },
   "file_extension": ".py",
   "mimetype": "text/x-python",
   "name": "python",
   "nbconvert_exporter": "python",
   "pygments_lexer": "ipython3",
   "version": "3.12.8"
  }
 },
 "nbformat": 4,
 "nbformat_minor": 2
}
