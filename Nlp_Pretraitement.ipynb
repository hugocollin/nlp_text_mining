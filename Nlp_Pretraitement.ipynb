{
 "cells": [
  {
   "cell_type": "markdown",
   "metadata": {},
   "source": [
    "# Importation et inspection des données"
   ]
  },
  {
   "cell_type": "code",
   "execution_count": 16,
   "metadata": {},
   "outputs": [
    {
     "name": "stdout",
     "output_type": "stream",
     "text": [
      "              restaurant                                 restaurant_address  \\\n",
      "0  Le Bouchon des Filles  20 Rue Sergent-Blandan Parking Sathonay, 69001...   \n",
      "1  Le Bouchon des Filles  20 Rue Sergent-Blandan Parking Sathonay, 69001...   \n",
      "2  Le Bouchon des Filles  20 Rue Sergent-Blandan Parking Sathonay, 69001...   \n",
      "3  Le Bouchon des Filles  20 Rue Sergent-Blandan Parking Sathonay, 69001...   \n",
      "4  Le Bouchon des Filles  20 Rue Sergent-Blandan Parking Sathonay, 69001...   \n",
      "\n",
      "                                               title     user_profile  \\\n",
      "0                                  Très belle soirée           SetC77   \n",
      "1  Vive la bonne cuisine dans une ambiance conviv...   H3293ZGsylviel   \n",
      "2                                          Sans plus  marieno_lleb739   \n",
      "3                                      Bon et joyeux          Vymsbmm   \n",
      "4  Bon restaurant et endroit pour se retrouver en...       Youliic974   \n",
      "\n",
      "  date_review  rating type_visit  num_contributions  \\\n",
      "0  2024-12-16     5.0    friends                 67   \n",
      "1  2024-11-26     5.0    friends                  2   \n",
      "2  2024-11-23     3.0    friends                 96   \n",
      "3  2024-11-14     5.0    friends                225   \n",
      "4  2024-11-01     4.0    friends                 38   \n",
      "\n",
      "                                              review  \n",
      "0  Trop bon moment!! \\nAccueil, plats, ambiance t...  \n",
      "1  Toujours aussi goûteux !\\nL'ambiance, la bonne...  \n",
      "2  Les serveurs et serveuses sont sympas. Mais l’...  \n",
      "3  Une excellente soirée dans ce petit restaurant...  \n",
      "4  Un super moment entre amis.\\nLes plats étaient...  \n"
     ]
    }
   ],
   "source": [
    "import pandas as pd\n",
    "from db.models import get_restaurants_with_reviews_and_users\n",
    "from sqlalchemy import create_engine\n",
    "from sqlalchemy.orm import sessionmaker\n",
    "\n",
    "# Connexion à la base de données\n",
    "engine = create_engine('sqlite:///restaurant_reviews.db')\n",
    "Session = sessionmaker(bind=engine)\n",
    "session = Session()\n",
    "\n",
    "# Extraction des données\n",
    "avis_restaurants_data = get_restaurants_with_reviews_and_users(session)\n",
    "\n",
    "# Transformation en DataFrame\n",
    "# Chaque avis correspondra à une ligne dans le DataFrame\n",
    "data = []\n",
    "for restaurant in avis_restaurants_data:\n",
    "    for review in restaurant['reviews']:\n",
    "        data.append({\n",
    "            'restaurant': restaurant['restaurant'],\n",
    "            'restaurant_address': restaurant['restaurant_address'],\n",
    "            'title': review['title'],\n",
    "            'user_profile': review['user_profile'],\n",
    "            'date_review': review['date_review'],\n",
    "            'rating': review['rating'],\n",
    "            'type_visit': review['type_visit'],\n",
    "            'num_contributions': review['num_contributions'],\n",
    "            'review': review['review']\n",
    "        })\n",
    "\n",
    "# Création du DataFrame\n",
    "avis_restaurants = pd.DataFrame(data)\n",
    "\n",
    "# Affichage du DataFrame\n",
    "print(avis_restaurants.head())\n"
   ]
  },
  {
   "cell_type": "code",
   "execution_count": 17,
   "metadata": {},
   "outputs": [],
   "source": [
    "#import pandas as pd\n",
    "# Charger les données\n",
    "#avis_restaurants = pd.read_csv('D:/M2 SISE/Text Mining ou NLP/Projet/nlp_text_mining/Data/avis_restaurants.csv', sep=';') \n",
    "\n",
    "# Aperçu des données\n",
    "#print(avis_restaurants.head())"
   ]
  },
  {
   "cell_type": "code",
   "execution_count": 18,
   "metadata": {},
   "outputs": [
    {
     "name": "stdout",
     "output_type": "stream",
     "text": [
      "<class 'pandas.core.frame.DataFrame'>\n",
      "RangeIndex: 3030 entries, 0 to 3029\n",
      "Data columns (total 9 columns):\n",
      " #   Column              Non-Null Count  Dtype  \n",
      "---  ------              --------------  -----  \n",
      " 0   restaurant          3030 non-null   object \n",
      " 1   restaurant_address  3030 non-null   object \n",
      " 2   title               3030 non-null   object \n",
      " 3   user_profile        3030 non-null   object \n",
      " 4   date_review         3030 non-null   object \n",
      " 5   rating              3030 non-null   float64\n",
      " 6   type_visit          3030 non-null   object \n",
      " 7   num_contributions   3030 non-null   int64  \n",
      " 8   review              3030 non-null   object \n",
      "dtypes: float64(1), int64(1), object(7)\n",
      "memory usage: 213.2+ KB\n",
      "None\n"
     ]
    }
   ],
   "source": [
    "print(avis_restaurants.info())"
   ]
  },
  {
   "cell_type": "code",
   "execution_count": 19,
   "metadata": {},
   "outputs": [
    {
     "data": {
      "text/html": [
       "<div>\n",
       "<style scoped>\n",
       "    .dataframe tbody tr th:only-of-type {\n",
       "        vertical-align: middle;\n",
       "    }\n",
       "\n",
       "    .dataframe tbody tr th {\n",
       "        vertical-align: top;\n",
       "    }\n",
       "\n",
       "    .dataframe thead th {\n",
       "        text-align: right;\n",
       "    }\n",
       "</style>\n",
       "<table border=\"1\" class=\"dataframe\">\n",
       "  <thead>\n",
       "    <tr style=\"text-align: right;\">\n",
       "      <th></th>\n",
       "      <th>restaurant</th>\n",
       "      <th>restaurant_address</th>\n",
       "      <th>title</th>\n",
       "      <th>user_profile</th>\n",
       "      <th>date_review</th>\n",
       "      <th>rating</th>\n",
       "      <th>type_visit</th>\n",
       "      <th>num_contributions</th>\n",
       "      <th>review</th>\n",
       "    </tr>\n",
       "  </thead>\n",
       "  <tbody>\n",
       "    <tr>\n",
       "      <th>0</th>\n",
       "      <td>Le Bouchon des Filles</td>\n",
       "      <td>20 Rue Sergent-Blandan Parking Sathonay, 69001...</td>\n",
       "      <td>Très belle soirée</td>\n",
       "      <td>SetC77</td>\n",
       "      <td>2024-12-16</td>\n",
       "      <td>5.0</td>\n",
       "      <td>friends</td>\n",
       "      <td>67</td>\n",
       "      <td>Trop bon moment!! \\nAccueil, plats, ambiance t...</td>\n",
       "    </tr>\n",
       "    <tr>\n",
       "      <th>1</th>\n",
       "      <td>Le Bouchon des Filles</td>\n",
       "      <td>20 Rue Sergent-Blandan Parking Sathonay, 69001...</td>\n",
       "      <td>Vive la bonne cuisine dans une ambiance conviv...</td>\n",
       "      <td>H3293ZGsylviel</td>\n",
       "      <td>2024-11-26</td>\n",
       "      <td>5.0</td>\n",
       "      <td>friends</td>\n",
       "      <td>2</td>\n",
       "      <td>Toujours aussi goûteux !\\nL'ambiance, la bonne...</td>\n",
       "    </tr>\n",
       "    <tr>\n",
       "      <th>2</th>\n",
       "      <td>Le Bouchon des Filles</td>\n",
       "      <td>20 Rue Sergent-Blandan Parking Sathonay, 69001...</td>\n",
       "      <td>Sans plus</td>\n",
       "      <td>marieno_lleb739</td>\n",
       "      <td>2024-11-23</td>\n",
       "      <td>3.0</td>\n",
       "      <td>friends</td>\n",
       "      <td>96</td>\n",
       "      <td>Les serveurs et serveuses sont sympas. Mais l’...</td>\n",
       "    </tr>\n",
       "    <tr>\n",
       "      <th>3</th>\n",
       "      <td>Le Bouchon des Filles</td>\n",
       "      <td>20 Rue Sergent-Blandan Parking Sathonay, 69001...</td>\n",
       "      <td>Bon et joyeux</td>\n",
       "      <td>Vymsbmm</td>\n",
       "      <td>2024-11-14</td>\n",
       "      <td>5.0</td>\n",
       "      <td>friends</td>\n",
       "      <td>225</td>\n",
       "      <td>Une excellente soirée dans ce petit restaurant...</td>\n",
       "    </tr>\n",
       "    <tr>\n",
       "      <th>4</th>\n",
       "      <td>Le Bouchon des Filles</td>\n",
       "      <td>20 Rue Sergent-Blandan Parking Sathonay, 69001...</td>\n",
       "      <td>Bon restaurant et endroit pour se retrouver en...</td>\n",
       "      <td>Youliic974</td>\n",
       "      <td>2024-11-01</td>\n",
       "      <td>4.0</td>\n",
       "      <td>friends</td>\n",
       "      <td>38</td>\n",
       "      <td>Un super moment entre amis.\\nLes plats étaient...</td>\n",
       "    </tr>\n",
       "    <tr>\n",
       "      <th>...</th>\n",
       "      <td>...</td>\n",
       "      <td>...</td>\n",
       "      <td>...</td>\n",
       "      <td>...</td>\n",
       "      <td>...</td>\n",
       "      <td>...</td>\n",
       "      <td>...</td>\n",
       "      <td>...</td>\n",
       "      <td>...</td>\n",
       "    </tr>\n",
       "    <tr>\n",
       "      <th>3025</th>\n",
       "      <td>Le Grand Réfectoire</td>\n",
       "      <td>3 Cour Saint Henri Grand Hôtel Dieu, 69002 Lyo...</td>\n",
       "      <td>Bel endroit avec une nourriture moyenne</td>\n",
       "      <td>lizziem808</td>\n",
       "      <td>2024-12-13</td>\n",
       "      <td>4.0</td>\n",
       "      <td>solo</td>\n",
       "      <td>1</td>\n",
       "      <td>C'est un bel endroit avec un bon service, mais...</td>\n",
       "    </tr>\n",
       "    <tr>\n",
       "      <th>3026</th>\n",
       "      <td>Le Grand Réfectoire</td>\n",
       "      <td>3 Cour Saint Henri Grand Hôtel Dieu, 69002 Lyo...</td>\n",
       "      <td>Doit améliorer le service</td>\n",
       "      <td>tlowry2021</td>\n",
       "      <td>2024-11-02</td>\n",
       "      <td>3.0</td>\n",
       "      <td>couples</td>\n",
       "      <td>5</td>\n",
       "      <td>cet endroit promettait beaucoup d'après les co...</td>\n",
       "    </tr>\n",
       "    <tr>\n",
       "      <th>3027</th>\n",
       "      <td>Le Grand Réfectoire</td>\n",
       "      <td>3 Cour Saint Henri Grand Hôtel Dieu, 69002 Lyo...</td>\n",
       "      <td>Endroit intéressant pour le dîner</td>\n",
       "      <td>777AMR</td>\n",
       "      <td>2024-10-20</td>\n",
       "      <td>4.0</td>\n",
       "      <td>friends</td>\n",
       "      <td>7</td>\n",
       "      <td>Endroit intéressant avec de la bonne nourritur...</td>\n",
       "    </tr>\n",
       "    <tr>\n",
       "      <th>3028</th>\n",
       "      <td>Le Grand Réfectoire</td>\n",
       "      <td>3 Cour Saint Henri Grand Hôtel Dieu, 69002 Lyo...</td>\n",
       "      <td>Pas la nourriture ou le service de qualité pou...</td>\n",
       "      <td>lisamareeh2016</td>\n",
       "      <td>2024-10-19</td>\n",
       "      <td>2.0</td>\n",
       "      <td>family</td>\n",
       "      <td>3</td>\n",
       "      <td>Mes filles et moi avons commandé le steak medi...</td>\n",
       "    </tr>\n",
       "    <tr>\n",
       "      <th>3029</th>\n",
       "      <td>Le Grand Réfectoire</td>\n",
       "      <td>3 Cour Saint Henri Grand Hôtel Dieu, 69002 Lyo...</td>\n",
       "      <td>Pas du tout ce que nous attendions d'un Michelin</td>\n",
       "      <td>frand682</td>\n",
       "      <td>2024-10-09</td>\n",
       "      <td>2.0</td>\n",
       "      <td>couples</td>\n",
       "      <td>101</td>\n",
       "      <td>Tout d'abord le restaurant est très grand, ave...</td>\n",
       "    </tr>\n",
       "  </tbody>\n",
       "</table>\n",
       "<p>3030 rows × 9 columns</p>\n",
       "</div>"
      ],
      "text/plain": [
       "                 restaurant  \\\n",
       "0     Le Bouchon des Filles   \n",
       "1     Le Bouchon des Filles   \n",
       "2     Le Bouchon des Filles   \n",
       "3     Le Bouchon des Filles   \n",
       "4     Le Bouchon des Filles   \n",
       "...                     ...   \n",
       "3025    Le Grand Réfectoire   \n",
       "3026    Le Grand Réfectoire   \n",
       "3027    Le Grand Réfectoire   \n",
       "3028    Le Grand Réfectoire   \n",
       "3029    Le Grand Réfectoire   \n",
       "\n",
       "                                     restaurant_address  \\\n",
       "0     20 Rue Sergent-Blandan Parking Sathonay, 69001...   \n",
       "1     20 Rue Sergent-Blandan Parking Sathonay, 69001...   \n",
       "2     20 Rue Sergent-Blandan Parking Sathonay, 69001...   \n",
       "3     20 Rue Sergent-Blandan Parking Sathonay, 69001...   \n",
       "4     20 Rue Sergent-Blandan Parking Sathonay, 69001...   \n",
       "...                                                 ...   \n",
       "3025  3 Cour Saint Henri Grand Hôtel Dieu, 69002 Lyo...   \n",
       "3026  3 Cour Saint Henri Grand Hôtel Dieu, 69002 Lyo...   \n",
       "3027  3 Cour Saint Henri Grand Hôtel Dieu, 69002 Lyo...   \n",
       "3028  3 Cour Saint Henri Grand Hôtel Dieu, 69002 Lyo...   \n",
       "3029  3 Cour Saint Henri Grand Hôtel Dieu, 69002 Lyo...   \n",
       "\n",
       "                                                  title     user_profile  \\\n",
       "0                                     Très belle soirée           SetC77   \n",
       "1     Vive la bonne cuisine dans une ambiance conviv...   H3293ZGsylviel   \n",
       "2                                             Sans plus  marieno_lleb739   \n",
       "3                                         Bon et joyeux          Vymsbmm   \n",
       "4     Bon restaurant et endroit pour se retrouver en...       Youliic974   \n",
       "...                                                 ...              ...   \n",
       "3025            Bel endroit avec une nourriture moyenne       lizziem808   \n",
       "3026                          Doit améliorer le service       tlowry2021   \n",
       "3027                  Endroit intéressant pour le dîner           777AMR   \n",
       "3028  Pas la nourriture ou le service de qualité pou...   lisamareeh2016   \n",
       "3029   Pas du tout ce que nous attendions d'un Michelin         frand682   \n",
       "\n",
       "     date_review  rating type_visit  num_contributions  \\\n",
       "0     2024-12-16     5.0    friends                 67   \n",
       "1     2024-11-26     5.0    friends                  2   \n",
       "2     2024-11-23     3.0    friends                 96   \n",
       "3     2024-11-14     5.0    friends                225   \n",
       "4     2024-11-01     4.0    friends                 38   \n",
       "...          ...     ...        ...                ...   \n",
       "3025  2024-12-13     4.0       solo                  1   \n",
       "3026  2024-11-02     3.0    couples                  5   \n",
       "3027  2024-10-20     4.0    friends                  7   \n",
       "3028  2024-10-19     2.0     family                  3   \n",
       "3029  2024-10-09     2.0    couples                101   \n",
       "\n",
       "                                                 review  \n",
       "0     Trop bon moment!! \\nAccueil, plats, ambiance t...  \n",
       "1     Toujours aussi goûteux !\\nL'ambiance, la bonne...  \n",
       "2     Les serveurs et serveuses sont sympas. Mais l’...  \n",
       "3     Une excellente soirée dans ce petit restaurant...  \n",
       "4     Un super moment entre amis.\\nLes plats étaient...  \n",
       "...                                                 ...  \n",
       "3025  C'est un bel endroit avec un bon service, mais...  \n",
       "3026  cet endroit promettait beaucoup d'après les co...  \n",
       "3027  Endroit intéressant avec de la bonne nourritur...  \n",
       "3028  Mes filles et moi avons commandé le steak medi...  \n",
       "3029  Tout d'abord le restaurant est très grand, ave...  \n",
       "\n",
       "[3030 rows x 9 columns]"
      ]
     },
     "execution_count": 19,
     "metadata": {},
     "output_type": "execute_result"
    }
   ],
   "source": [
    "avis_restaurants"
   ]
  },
  {
   "cell_type": "code",
   "execution_count": 20,
   "metadata": {},
   "outputs": [
    {
     "name": "stdout",
     "output_type": "stream",
     "text": [
      "4\n"
     ]
    }
   ],
   "source": [
    "#nombre de restaurants\n",
    "print(avis_restaurants['restaurant'].nunique())"
   ]
  },
  {
   "cell_type": "code",
   "execution_count": 7,
   "metadata": {},
   "outputs": [
    {
     "name": "stdout",
     "output_type": "stream",
     "text": [
      "(3030, 9)\n"
     ]
    }
   ],
   "source": [
    "#Nombre de ligne de mon dataframe\n",
    "print(avis_restaurants.shape)"
   ]
  },
  {
   "cell_type": "markdown",
   "metadata": {},
   "source": [
    "# Nettoyage des avis"
   ]
  },
  {
   "cell_type": "markdown",
   "metadata": {},
   "source": [
    "Inclure des étapes pour retirer les caractères inutiles, convertir en minuscules, supprimer les stopwords, etc."
   ]
  },
  {
   "cell_type": "code",
   "execution_count": 8,
   "metadata": {},
   "outputs": [],
   "source": [
    "import re\n",
    "import nltk\n",
    "from nltk.corpus import stopwords\n",
    "from nltk.tokenize import word_tokenize\n",
    "from nltk.stem import WordNetLemmatizer\n",
    "lemmatizer = WordNetLemmatizer()"
   ]
  },
  {
   "cell_type": "code",
   "execution_count": 9,
   "metadata": {},
   "outputs": [],
   "source": [
    "def nettoyer_avis(avis):\n",
    "    # Retirer les caractères spéciaux et convertir en minuscules\n",
    "    avis = avis.lower()\n",
    "    avis = re.sub(r'[^\\w\\s]', '', avis)\n",
    "    \n",
    "    # retirer les chiffres\n",
    "    avis = re.sub(r'[0-9]', '', avis)\n",
    "    \n",
    "    # Tokenisation\n",
    "    tokens = word_tokenize(avis)\n",
    "    \n",
    "    # lematisation\n",
    "    tokens = [lemmatizer.lemmatize(word) for word in tokens]\n",
    "    \n",
    "    # Retirer les stopwords\n",
    "    tokens = [word for word in tokens if word not in stopwords.words('french')]\n",
    "    \n",
    "    # retirer les termes de moins de 3 caractères\n",
    "    tokens = [word for word in tokens if len(word) > 2]\n",
    "    \n",
    "    return ' '.join(tokens)"
   ]
  },
  {
   "cell_type": "code",
   "execution_count": 10,
   "metadata": {},
   "outputs": [
    {
     "ename": "KeyboardInterrupt",
     "evalue": "",
     "output_type": "error",
     "traceback": [
      "\u001b[1;31m---------------------------------------------------------------------------\u001b[0m",
      "\u001b[1;31mKeyboardInterrupt\u001b[0m                         Traceback (most recent call last)",
      "Cell \u001b[1;32mIn[10], line 2\u001b[0m\n\u001b[0;32m      1\u001b[0m \u001b[38;5;66;03m# Appliquer le nettoyage à la colonne 'review'\u001b[39;00m\n\u001b[1;32m----> 2\u001b[0m avis_restaurants[\u001b[38;5;124m'\u001b[39m\u001b[38;5;124mreview_cleaned\u001b[39m\u001b[38;5;124m'\u001b[39m] \u001b[38;5;241m=\u001b[39m avis_restaurants[\u001b[38;5;124m'\u001b[39m\u001b[38;5;124mreview\u001b[39m\u001b[38;5;124m'\u001b[39m]\u001b[38;5;241m.\u001b[39mapply(nettoyer_avis)\n\u001b[0;32m      3\u001b[0m \u001b[38;5;28mprint\u001b[39m(avis_restaurants[[\u001b[38;5;124m'\u001b[39m\u001b[38;5;124mreview\u001b[39m\u001b[38;5;124m'\u001b[39m, \u001b[38;5;124m'\u001b[39m\u001b[38;5;124mreview_cleaned\u001b[39m\u001b[38;5;124m'\u001b[39m]]\u001b[38;5;241m.\u001b[39mhead())\n",
      "File \u001b[1;32me:\\Application\\Anaconda\\envs\\Nlp_projet\\Lib\\site-packages\\pandas\\core\\series.py:4924\u001b[0m, in \u001b[0;36mSeries.apply\u001b[1;34m(self, func, convert_dtype, args, by_row, **kwargs)\u001b[0m\n\u001b[0;32m   4789\u001b[0m \u001b[38;5;28;01mdef\u001b[39;00m \u001b[38;5;21mapply\u001b[39m(\n\u001b[0;32m   4790\u001b[0m     \u001b[38;5;28mself\u001b[39m,\n\u001b[0;32m   4791\u001b[0m     func: AggFuncType,\n\u001b[1;32m   (...)\u001b[0m\n\u001b[0;32m   4796\u001b[0m     \u001b[38;5;241m*\u001b[39m\u001b[38;5;241m*\u001b[39mkwargs,\n\u001b[0;32m   4797\u001b[0m ) \u001b[38;5;241m-\u001b[39m\u001b[38;5;241m>\u001b[39m DataFrame \u001b[38;5;241m|\u001b[39m Series:\n\u001b[0;32m   4798\u001b[0m \u001b[38;5;250m    \u001b[39m\u001b[38;5;124;03m\"\"\"\u001b[39;00m\n\u001b[0;32m   4799\u001b[0m \u001b[38;5;124;03m    Invoke function on values of Series.\u001b[39;00m\n\u001b[0;32m   4800\u001b[0m \n\u001b[1;32m   (...)\u001b[0m\n\u001b[0;32m   4915\u001b[0m \u001b[38;5;124;03m    dtype: float64\u001b[39;00m\n\u001b[0;32m   4916\u001b[0m \u001b[38;5;124;03m    \"\"\"\u001b[39;00m\n\u001b[0;32m   4917\u001b[0m     \u001b[38;5;28;01mreturn\u001b[39;00m SeriesApply(\n\u001b[0;32m   4918\u001b[0m         \u001b[38;5;28mself\u001b[39m,\n\u001b[0;32m   4919\u001b[0m         func,\n\u001b[0;32m   4920\u001b[0m         convert_dtype\u001b[38;5;241m=\u001b[39mconvert_dtype,\n\u001b[0;32m   4921\u001b[0m         by_row\u001b[38;5;241m=\u001b[39mby_row,\n\u001b[0;32m   4922\u001b[0m         args\u001b[38;5;241m=\u001b[39margs,\n\u001b[0;32m   4923\u001b[0m         kwargs\u001b[38;5;241m=\u001b[39mkwargs,\n\u001b[1;32m-> 4924\u001b[0m     )\u001b[38;5;241m.\u001b[39mapply()\n",
      "File \u001b[1;32me:\\Application\\Anaconda\\envs\\Nlp_projet\\Lib\\site-packages\\pandas\\core\\apply.py:1427\u001b[0m, in \u001b[0;36mSeriesApply.apply\u001b[1;34m(self)\u001b[0m\n\u001b[0;32m   1424\u001b[0m     \u001b[38;5;28;01mreturn\u001b[39;00m \u001b[38;5;28mself\u001b[39m\u001b[38;5;241m.\u001b[39mapply_compat()\n\u001b[0;32m   1426\u001b[0m \u001b[38;5;66;03m# self.func is Callable\u001b[39;00m\n\u001b[1;32m-> 1427\u001b[0m \u001b[38;5;28;01mreturn\u001b[39;00m \u001b[38;5;28mself\u001b[39m\u001b[38;5;241m.\u001b[39mapply_standard()\n",
      "File \u001b[1;32me:\\Application\\Anaconda\\envs\\Nlp_projet\\Lib\\site-packages\\pandas\\core\\apply.py:1507\u001b[0m, in \u001b[0;36mSeriesApply.apply_standard\u001b[1;34m(self)\u001b[0m\n\u001b[0;32m   1501\u001b[0m \u001b[38;5;66;03m# row-wise access\u001b[39;00m\n\u001b[0;32m   1502\u001b[0m \u001b[38;5;66;03m# apply doesn't have a `na_action` keyword and for backward compat reasons\u001b[39;00m\n\u001b[0;32m   1503\u001b[0m \u001b[38;5;66;03m# we need to give `na_action=\"ignore\"` for categorical data.\u001b[39;00m\n\u001b[0;32m   1504\u001b[0m \u001b[38;5;66;03m# TODO: remove the `na_action=\"ignore\"` when that default has been changed in\u001b[39;00m\n\u001b[0;32m   1505\u001b[0m \u001b[38;5;66;03m#  Categorical (GH51645).\u001b[39;00m\n\u001b[0;32m   1506\u001b[0m action \u001b[38;5;241m=\u001b[39m \u001b[38;5;124m\"\u001b[39m\u001b[38;5;124mignore\u001b[39m\u001b[38;5;124m\"\u001b[39m \u001b[38;5;28;01mif\u001b[39;00m \u001b[38;5;28misinstance\u001b[39m(obj\u001b[38;5;241m.\u001b[39mdtype, CategoricalDtype) \u001b[38;5;28;01melse\u001b[39;00m \u001b[38;5;28;01mNone\u001b[39;00m\n\u001b[1;32m-> 1507\u001b[0m mapped \u001b[38;5;241m=\u001b[39m obj\u001b[38;5;241m.\u001b[39m_map_values(\n\u001b[0;32m   1508\u001b[0m     mapper\u001b[38;5;241m=\u001b[39mcurried, na_action\u001b[38;5;241m=\u001b[39maction, convert\u001b[38;5;241m=\u001b[39m\u001b[38;5;28mself\u001b[39m\u001b[38;5;241m.\u001b[39mconvert_dtype\n\u001b[0;32m   1509\u001b[0m )\n\u001b[0;32m   1511\u001b[0m \u001b[38;5;28;01mif\u001b[39;00m \u001b[38;5;28mlen\u001b[39m(mapped) \u001b[38;5;129;01mand\u001b[39;00m \u001b[38;5;28misinstance\u001b[39m(mapped[\u001b[38;5;241m0\u001b[39m], ABCSeries):\n\u001b[0;32m   1512\u001b[0m     \u001b[38;5;66;03m# GH#43986 Need to do list(mapped) in order to get treated as nested\u001b[39;00m\n\u001b[0;32m   1513\u001b[0m     \u001b[38;5;66;03m#  See also GH#25959 regarding EA support\u001b[39;00m\n\u001b[0;32m   1514\u001b[0m     \u001b[38;5;28;01mreturn\u001b[39;00m obj\u001b[38;5;241m.\u001b[39m_constructor_expanddim(\u001b[38;5;28mlist\u001b[39m(mapped), index\u001b[38;5;241m=\u001b[39mobj\u001b[38;5;241m.\u001b[39mindex)\n",
      "File \u001b[1;32me:\\Application\\Anaconda\\envs\\Nlp_projet\\Lib\\site-packages\\pandas\\core\\base.py:921\u001b[0m, in \u001b[0;36mIndexOpsMixin._map_values\u001b[1;34m(self, mapper, na_action, convert)\u001b[0m\n\u001b[0;32m    918\u001b[0m \u001b[38;5;28;01mif\u001b[39;00m \u001b[38;5;28misinstance\u001b[39m(arr, ExtensionArray):\n\u001b[0;32m    919\u001b[0m     \u001b[38;5;28;01mreturn\u001b[39;00m arr\u001b[38;5;241m.\u001b[39mmap(mapper, na_action\u001b[38;5;241m=\u001b[39mna_action)\n\u001b[1;32m--> 921\u001b[0m \u001b[38;5;28;01mreturn\u001b[39;00m algorithms\u001b[38;5;241m.\u001b[39mmap_array(arr, mapper, na_action\u001b[38;5;241m=\u001b[39mna_action, convert\u001b[38;5;241m=\u001b[39mconvert)\n",
      "File \u001b[1;32me:\\Application\\Anaconda\\envs\\Nlp_projet\\Lib\\site-packages\\pandas\\core\\algorithms.py:1743\u001b[0m, in \u001b[0;36mmap_array\u001b[1;34m(arr, mapper, na_action, convert)\u001b[0m\n\u001b[0;32m   1741\u001b[0m values \u001b[38;5;241m=\u001b[39m arr\u001b[38;5;241m.\u001b[39mastype(\u001b[38;5;28mobject\u001b[39m, copy\u001b[38;5;241m=\u001b[39m\u001b[38;5;28;01mFalse\u001b[39;00m)\n\u001b[0;32m   1742\u001b[0m \u001b[38;5;28;01mif\u001b[39;00m na_action \u001b[38;5;129;01mis\u001b[39;00m \u001b[38;5;28;01mNone\u001b[39;00m:\n\u001b[1;32m-> 1743\u001b[0m     \u001b[38;5;28;01mreturn\u001b[39;00m lib\u001b[38;5;241m.\u001b[39mmap_infer(values, mapper, convert\u001b[38;5;241m=\u001b[39mconvert)\n\u001b[0;32m   1744\u001b[0m \u001b[38;5;28;01melse\u001b[39;00m:\n\u001b[0;32m   1745\u001b[0m     \u001b[38;5;28;01mreturn\u001b[39;00m lib\u001b[38;5;241m.\u001b[39mmap_infer_mask(\n\u001b[0;32m   1746\u001b[0m         values, mapper, mask\u001b[38;5;241m=\u001b[39misna(values)\u001b[38;5;241m.\u001b[39mview(np\u001b[38;5;241m.\u001b[39muint8), convert\u001b[38;5;241m=\u001b[39mconvert\n\u001b[0;32m   1747\u001b[0m     )\n",
      "File \u001b[1;32mlib.pyx:2972\u001b[0m, in \u001b[0;36mpandas._libs.lib.map_infer\u001b[1;34m()\u001b[0m\n",
      "Cell \u001b[1;32mIn[9], line 16\u001b[0m, in \u001b[0;36mnettoyer_avis\u001b[1;34m(avis)\u001b[0m\n\u001b[0;32m     13\u001b[0m tokens \u001b[38;5;241m=\u001b[39m [lemmatizer\u001b[38;5;241m.\u001b[39mlemmatize(word) \u001b[38;5;28;01mfor\u001b[39;00m word \u001b[38;5;129;01min\u001b[39;00m tokens]\n\u001b[0;32m     15\u001b[0m \u001b[38;5;66;03m# Retirer les stopwords\u001b[39;00m\n\u001b[1;32m---> 16\u001b[0m tokens \u001b[38;5;241m=\u001b[39m [word \u001b[38;5;28;01mfor\u001b[39;00m word \u001b[38;5;129;01min\u001b[39;00m tokens \u001b[38;5;28;01mif\u001b[39;00m word \u001b[38;5;129;01mnot\u001b[39;00m \u001b[38;5;129;01min\u001b[39;00m stopwords\u001b[38;5;241m.\u001b[39mwords(\u001b[38;5;124m'\u001b[39m\u001b[38;5;124mfrench\u001b[39m\u001b[38;5;124m'\u001b[39m)]\n\u001b[0;32m     18\u001b[0m \u001b[38;5;66;03m# retirer les termes de moins de 3 caractères\u001b[39;00m\n\u001b[0;32m     19\u001b[0m tokens \u001b[38;5;241m=\u001b[39m [word \u001b[38;5;28;01mfor\u001b[39;00m word \u001b[38;5;129;01min\u001b[39;00m tokens \u001b[38;5;28;01mif\u001b[39;00m \u001b[38;5;28mlen\u001b[39m(word) \u001b[38;5;241m>\u001b[39m \u001b[38;5;241m2\u001b[39m]\n",
      "File \u001b[1;32me:\\Application\\Anaconda\\envs\\Nlp_projet\\Lib\\site-packages\\nltk\\corpus\\reader\\wordlist.py:21\u001b[0m, in \u001b[0;36mWordListCorpusReader.words\u001b[1;34m(self, fileids, ignore_lines_startswith)\u001b[0m\n\u001b[0;32m     18\u001b[0m \u001b[38;5;28;01mdef\u001b[39;00m \u001b[38;5;21mwords\u001b[39m(\u001b[38;5;28mself\u001b[39m, fileids\u001b[38;5;241m=\u001b[39m\u001b[38;5;28;01mNone\u001b[39;00m, ignore_lines_startswith\u001b[38;5;241m=\u001b[39m\u001b[38;5;124m\"\u001b[39m\u001b[38;5;130;01m\\n\u001b[39;00m\u001b[38;5;124m\"\u001b[39m):\n\u001b[0;32m     19\u001b[0m     \u001b[38;5;28;01mreturn\u001b[39;00m [\n\u001b[0;32m     20\u001b[0m         line\n\u001b[1;32m---> 21\u001b[0m         \u001b[38;5;28;01mfor\u001b[39;00m line \u001b[38;5;129;01min\u001b[39;00m line_tokenize(\u001b[38;5;28mself\u001b[39m\u001b[38;5;241m.\u001b[39mraw(fileids))\n\u001b[0;32m     22\u001b[0m         \u001b[38;5;28;01mif\u001b[39;00m \u001b[38;5;129;01mnot\u001b[39;00m line\u001b[38;5;241m.\u001b[39mstartswith(ignore_lines_startswith)\n\u001b[0;32m     23\u001b[0m     ]\n",
      "File \u001b[1;32me:\\Application\\Anaconda\\envs\\Nlp_projet\\Lib\\site-packages\\nltk\\corpus\\reader\\api.py:218\u001b[0m, in \u001b[0;36mCorpusReader.raw\u001b[1;34m(self, fileids)\u001b[0m\n\u001b[0;32m    216\u001b[0m contents \u001b[38;5;241m=\u001b[39m []\n\u001b[0;32m    217\u001b[0m \u001b[38;5;28;01mfor\u001b[39;00m f \u001b[38;5;129;01min\u001b[39;00m fileids:\n\u001b[1;32m--> 218\u001b[0m     \u001b[38;5;28;01mwith\u001b[39;00m \u001b[38;5;28mself\u001b[39m\u001b[38;5;241m.\u001b[39mopen(f) \u001b[38;5;28;01mas\u001b[39;00m fp:\n\u001b[0;32m    219\u001b[0m         contents\u001b[38;5;241m.\u001b[39mappend(fp\u001b[38;5;241m.\u001b[39mread())\n\u001b[0;32m    220\u001b[0m \u001b[38;5;28;01mreturn\u001b[39;00m concat(contents)\n",
      "File \u001b[1;32me:\\Application\\Anaconda\\envs\\Nlp_projet\\Lib\\site-packages\\nltk\\data.py:1251\u001b[0m, in \u001b[0;36mSeekableUnicodeStreamReader.__exit__\u001b[1;34m(self, type, value, traceback)\u001b[0m\n\u001b[0;32m   1250\u001b[0m \u001b[38;5;28;01mdef\u001b[39;00m \u001b[38;5;21m__exit__\u001b[39m(\u001b[38;5;28mself\u001b[39m, \u001b[38;5;28mtype\u001b[39m, value, traceback):\n\u001b[1;32m-> 1251\u001b[0m     \u001b[38;5;28mself\u001b[39m\u001b[38;5;241m.\u001b[39mclose()\n",
      "File \u001b[1;32me:\\Application\\Anaconda\\envs\\Nlp_projet\\Lib\\site-packages\\nltk\\data.py:1280\u001b[0m, in \u001b[0;36mSeekableUnicodeStreamReader.close\u001b[1;34m(self)\u001b[0m\n\u001b[0;32m   1276\u001b[0m \u001b[38;5;28;01mdef\u001b[39;00m \u001b[38;5;21mclose\u001b[39m(\u001b[38;5;28mself\u001b[39m):\n\u001b[0;32m   1277\u001b[0m \u001b[38;5;250m    \u001b[39m\u001b[38;5;124;03m\"\"\"\u001b[39;00m\n\u001b[0;32m   1278\u001b[0m \u001b[38;5;124;03m    Close the underlying stream.\u001b[39;00m\n\u001b[0;32m   1279\u001b[0m \u001b[38;5;124;03m    \"\"\"\u001b[39;00m\n\u001b[1;32m-> 1280\u001b[0m     \u001b[38;5;28mself\u001b[39m\u001b[38;5;241m.\u001b[39mstream\u001b[38;5;241m.\u001b[39mclose()\n",
      "\u001b[1;31mKeyboardInterrupt\u001b[0m: "
     ]
    }
   ],
   "source": [
    "# Appliquer le nettoyage à la colonne 'review'\n",
    "avis_restaurants['review_cleaned'] = avis_restaurants['review'].apply(nettoyer_avis)\n",
    "print(avis_restaurants[['review', 'review_cleaned']].head())"
   ]
  },
  {
   "cell_type": "markdown",
   "metadata": {},
   "source": [
    "# Création de représentations textuelles"
   ]
  },
  {
   "cell_type": "markdown",
   "metadata": {},
   "source": [
    "Transforme les avis en vecteurs numériques pour les modèles."
   ]
  },
  {
   "cell_type": "markdown",
   "metadata": {},
   "source": [
    "## Bag of Words"
   ]
  },
  {
   "cell_type": "code",
   "execution_count": 201,
   "metadata": {},
   "outputs": [
    {
     "name": "stdout",
     "output_type": "stream",
     "text": [
      "[[0 0 1 ... 0 0 0]\n",
      " [0 0 0 ... 0 0 0]\n",
      " [0 0 0 ... 0 0 0]\n",
      " ...\n",
      " [0 0 0 ... 0 0 0]\n",
      " [0 0 0 ... 0 0 0]\n",
      " [0 0 0 ... 0 0 0]]\n"
     ]
    }
   ],
   "source": [
    "from sklearn.feature_extraction.text import CountVectorizer\n",
    "\n",
    "# Vectorisation BoW\n",
    "vectorizer = CountVectorizer(max_features=500)  # Limiter à 500 mots les plus fréquents\n",
    "X_bow = vectorizer.fit_transform(avis_restaurants['review_cleaned'])\n",
    "print(X_bow.toarray())\n"
   ]
  },
  {
   "cell_type": "markdown",
   "metadata": {},
   "source": [
    "## TF-IDF"
   ]
  },
  {
   "cell_type": "code",
   "execution_count": 202,
   "metadata": {},
   "outputs": [
    {
     "name": "stdout",
     "output_type": "stream",
     "text": [
      "[[0.         0.         0.19454357 ... 0.         0.         0.        ]\n",
      " [0.         0.         0.         ... 0.         0.         0.        ]\n",
      " [0.         0.         0.         ... 0.         0.         0.        ]\n",
      " ...\n",
      " [0.         0.         0.         ... 0.         0.         0.        ]\n",
      " [0.         0.         0.         ... 0.         0.         0.        ]\n",
      " [0.         0.         0.         ... 0.         0.         0.        ]]\n"
     ]
    }
   ],
   "source": [
    "from sklearn.feature_extraction.text import TfidfVectorizer\n",
    "\n",
    "# Vectorisation TF-IDF\n",
    "tfidf_vectorizer = TfidfVectorizer(max_features=500)\n",
    "X_tfidf = tfidf_vectorizer.fit_transform(avis_restaurants['review_cleaned'])\n",
    "print(X_tfidf.toarray())"
   ]
  },
  {
   "cell_type": "markdown",
   "metadata": {},
   "source": [
    "# Préparation pour l'analyse temporelle"
   ]
  },
  {
   "cell_type": "code",
   "execution_count": 203,
   "metadata": {},
   "outputs": [
    {
     "data": {
      "text/plain": [
       "0       2024-12-16\n",
       "1       2024-11-26\n",
       "2       2024-11-23\n",
       "3       2024-11-14\n",
       "4       2024-11-01\n",
       "           ...    \n",
       "3025    2024-12-13\n",
       "3026    2024-11-02\n",
       "3027    2024-10-20\n",
       "3028    2024-10-19\n",
       "3029    2024-10-09\n",
       "Name: date_review, Length: 3030, dtype: object"
      ]
     },
     "execution_count": 203,
     "metadata": {},
     "output_type": "execute_result"
    }
   ],
   "source": [
    "avis_restaurants['date_review']"
   ]
  },
  {
   "cell_type": "code",
   "execution_count": 204,
   "metadata": {},
   "outputs": [
    {
     "name": "stdout",
     "output_type": "stream",
     "text": [
      "  date_review\n",
      "0  2024-12-16\n",
      "1  2024-11-26\n",
      "2  2024-11-23\n",
      "3  2024-11-14\n",
      "4  2024-11-01\n",
      "5  2024-10-12\n",
      "6  2024-09-04\n",
      "7  2024-08-16\n",
      "8  2024-07-24\n",
      "9  2024-06-16\n"
     ]
    }
   ],
   "source": [
    "# Vérification et conversion des types\n",
    "avis_restaurants['date_review'] = avis_restaurants['date_review'].astype(str)\n",
    "\n",
    "# Suppression des espaces et nettoyage des chaînes\n",
    "avis_restaurants['date_review'] = avis_restaurants['date_review'].str.strip()\n",
    "avis_restaurants['date_review'] = avis_restaurants['date_review'].str.replace(r'\\s+', ' ', regex=True)\n",
    "\n",
    "# Vérification des premières lignes pour s'assurer que les dates sont correctement nettoyées\n",
    "print(avis_restaurants[['date_review']].head(10))"
   ]
  },
  {
   "cell_type": "code",
   "execution_count": 205,
   "metadata": {},
   "outputs": [],
   "source": [
    "mois_fr_en = {\n",
    "    'janvier': 'January', 'février': 'February', 'mars': 'March', 'avril': 'April',\n",
    "    'mai': 'May', 'juin': 'June', 'juillet': 'July', 'août': 'August',\n",
    "    'septembre': 'September', 'octobre': 'October', 'novembre': 'November', 'décembre': 'December'\n",
    "}\n",
    "\n",
    "for fr, en in mois_fr_en.items():\n",
    "    avis_restaurants['date_review'] = avis_restaurants['date_review'].str.replace(fr, en, regex=False)\n"
   ]
  },
  {
   "cell_type": "code",
   "execution_count": 206,
   "metadata": {},
   "outputs": [
    {
     "name": "stderr",
     "output_type": "stream",
     "text": [
      "C:\\Users\\karam\\AppData\\Local\\Temp\\ipykernel_14520\\3924299094.py:1: UserWarning: The argument 'infer_datetime_format' is deprecated and will be removed in a future version. A strict version of it is now the default, see https://pandas.pydata.org/pdeps/0004-consistent-to-datetime-parsing.html. You can safely remove this argument.\n",
      "  avis_restaurants['date_review'] = pd.to_datetime(\n"
     ]
    }
   ],
   "source": [
    "avis_restaurants['date_review'] = pd.to_datetime(\n",
    "    avis_restaurants['date_review'], errors='coerce', infer_datetime_format=True\n",
    ")\n",
    "avis_restaurants['date_review'] = avis_restaurants['date_review'].dt.strftime('%d %B %Y')\n"
   ]
  },
  {
   "cell_type": "code",
   "execution_count": 207,
   "metadata": {},
   "outputs": [
    {
     "data": {
      "text/plain": [
       "0       16 December 2024\n",
       "1       26 November 2024\n",
       "2       23 November 2024\n",
       "3       14 November 2024\n",
       "4       01 November 2024\n",
       "              ...       \n",
       "3025    13 December 2024\n",
       "3026    02 November 2024\n",
       "3027     20 October 2024\n",
       "3028     19 October 2024\n",
       "3029     09 October 2024\n",
       "Name: date_review, Length: 3030, dtype: object"
      ]
     },
     "execution_count": 207,
     "metadata": {},
     "output_type": "execute_result"
    }
   ],
   "source": [
    "avis_restaurants['date_review']"
   ]
  },
  {
   "cell_type": "code",
   "execution_count": 208,
   "metadata": {},
   "outputs": [],
   "source": [
    "avis_restaurants['date_review'] = pd.to_datetime(\n",
    "    avis_restaurants['date_review'], errors='coerce', dayfirst=True\n",
    ")"
   ]
  },
  {
   "cell_type": "code",
   "execution_count": 209,
   "metadata": {},
   "outputs": [
    {
     "name": "stdout",
     "output_type": "stream",
     "text": [
      "  date_review  year  month  day\n",
      "0  2024-12-16  2024     12   16\n",
      "1  2024-11-26  2024     11   26\n",
      "2  2024-11-23  2024     11   23\n",
      "3  2024-11-14  2024     11   14\n",
      "4  2024-11-01  2024     11    1\n"
     ]
    }
   ],
   "source": [
    "# Extraire l'année et le mois pour une analyse temporelle\n",
    "avis_restaurants['year'] = avis_restaurants['date_review'].dt.year\n",
    "avis_restaurants['month'] = avis_restaurants['date_review'].dt.month\n",
    "avis_restaurants['day'] = avis_restaurants['date_review'].dt.day\n",
    "\n",
    "print(avis_restaurants[['date_review', 'year', 'month','day' ]].head())"
   ]
  },
  {
   "cell_type": "markdown",
   "metadata": {},
   "source": [
    "# Sauvegarder le dataset nettoyé"
   ]
  },
  {
   "cell_type": "code",
   "execution_count": 210,
   "metadata": {},
   "outputs": [],
   "source": [
    "avis_restaurants.to_csv('D:/M2 SISE/Text Mining ou NLP/Projet/nlp_text_mining/Data/avis_restaurants_cleaned.csv', index=False)"
   ]
  },
  {
   "cell_type": "code",
   "execution_count": 211,
   "metadata": {},
   "outputs": [],
   "source": [
    "avis_restaurants_cleaned = pd.read_csv('D:/M2 SISE/Text Mining ou NLP/Projet/nlp_text_mining/Data/avis_restaurants_cleaned.csv') "
   ]
  },
  {
   "cell_type": "code",
   "execution_count": 212,
   "metadata": {},
   "outputs": [
    {
     "data": {
      "text/html": [
       "<div>\n",
       "<style scoped>\n",
       "    .dataframe tbody tr th:only-of-type {\n",
       "        vertical-align: middle;\n",
       "    }\n",
       "\n",
       "    .dataframe tbody tr th {\n",
       "        vertical-align: top;\n",
       "    }\n",
       "\n",
       "    .dataframe thead th {\n",
       "        text-align: right;\n",
       "    }\n",
       "</style>\n",
       "<table border=\"1\" class=\"dataframe\">\n",
       "  <thead>\n",
       "    <tr style=\"text-align: right;\">\n",
       "      <th></th>\n",
       "      <th>restaurant</th>\n",
       "      <th>restaurant_address</th>\n",
       "      <th>title</th>\n",
       "      <th>user_profile</th>\n",
       "      <th>date_review</th>\n",
       "      <th>rating</th>\n",
       "      <th>type_visit</th>\n",
       "      <th>num_contributions</th>\n",
       "      <th>review</th>\n",
       "      <th>review_cleaned</th>\n",
       "      <th>year</th>\n",
       "      <th>month</th>\n",
       "      <th>day</th>\n",
       "    </tr>\n",
       "  </thead>\n",
       "  <tbody>\n",
       "    <tr>\n",
       "      <th>0</th>\n",
       "      <td>Le Bouchon des Filles</td>\n",
       "      <td>20 Rue Sergent-Blandan Parking Sathonay, 69001...</td>\n",
       "      <td>Très belle soirée</td>\n",
       "      <td>SetC77</td>\n",
       "      <td>2024-12-16</td>\n",
       "      <td>5.0</td>\n",
       "      <td>friends</td>\n",
       "      <td>67</td>\n",
       "      <td>Trop bon moment!! \\nAccueil, plats, ambiance t...</td>\n",
       "      <td>trop bon moment accueil plat ambiance tout pas...</td>\n",
       "      <td>2024</td>\n",
       "      <td>12</td>\n",
       "      <td>16</td>\n",
       "    </tr>\n",
       "    <tr>\n",
       "      <th>1</th>\n",
       "      <td>Le Bouchon des Filles</td>\n",
       "      <td>20 Rue Sergent-Blandan Parking Sathonay, 69001...</td>\n",
       "      <td>Vive la bonne cuisine dans une ambiance conviv...</td>\n",
       "      <td>H3293ZGsylviel</td>\n",
       "      <td>2024-11-26</td>\n",
       "      <td>5.0</td>\n",
       "      <td>friends</td>\n",
       "      <td>2</td>\n",
       "      <td>Toujours aussi goûteux !\\nL'ambiance, la bonne...</td>\n",
       "      <td>toujours aussi goûteux lambiance bonne humeur ...</td>\n",
       "      <td>2024</td>\n",
       "      <td>11</td>\n",
       "      <td>26</td>\n",
       "    </tr>\n",
       "    <tr>\n",
       "      <th>2</th>\n",
       "      <td>Le Bouchon des Filles</td>\n",
       "      <td>20 Rue Sergent-Blandan Parking Sathonay, 69001...</td>\n",
       "      <td>Sans plus</td>\n",
       "      <td>marieno_lleb739</td>\n",
       "      <td>2024-11-23</td>\n",
       "      <td>3.0</td>\n",
       "      <td>friends</td>\n",
       "      <td>96</td>\n",
       "      <td>Les serveurs et serveuses sont sympas. Mais l’...</td>\n",
       "      <td>serveurs serveuses sympas longlet nest tendre ...</td>\n",
       "      <td>2024</td>\n",
       "      <td>11</td>\n",
       "      <td>23</td>\n",
       "    </tr>\n",
       "    <tr>\n",
       "      <th>3</th>\n",
       "      <td>Le Bouchon des Filles</td>\n",
       "      <td>20 Rue Sergent-Blandan Parking Sathonay, 69001...</td>\n",
       "      <td>Bon et joyeux</td>\n",
       "      <td>Vymsbmm</td>\n",
       "      <td>2024-11-14</td>\n",
       "      <td>5.0</td>\n",
       "      <td>friends</td>\n",
       "      <td>225</td>\n",
       "      <td>Une excellente soirée dans ce petit restaurant...</td>\n",
       "      <td>excellente soirée petit restaurant peu lécart ...</td>\n",
       "      <td>2024</td>\n",
       "      <td>11</td>\n",
       "      <td>14</td>\n",
       "    </tr>\n",
       "    <tr>\n",
       "      <th>4</th>\n",
       "      <td>Le Bouchon des Filles</td>\n",
       "      <td>20 Rue Sergent-Blandan Parking Sathonay, 69001...</td>\n",
       "      <td>Bon restaurant et endroit pour se retrouver en...</td>\n",
       "      <td>Youliic974</td>\n",
       "      <td>2024-11-01</td>\n",
       "      <td>4.0</td>\n",
       "      <td>friends</td>\n",
       "      <td>38</td>\n",
       "      <td>Un super moment entre amis.\\nLes plats étaient...</td>\n",
       "      <td>super moment entre amis plat très délicieux co...</td>\n",
       "      <td>2024</td>\n",
       "      <td>11</td>\n",
       "      <td>1</td>\n",
       "    </tr>\n",
       "    <tr>\n",
       "      <th>...</th>\n",
       "      <td>...</td>\n",
       "      <td>...</td>\n",
       "      <td>...</td>\n",
       "      <td>...</td>\n",
       "      <td>...</td>\n",
       "      <td>...</td>\n",
       "      <td>...</td>\n",
       "      <td>...</td>\n",
       "      <td>...</td>\n",
       "      <td>...</td>\n",
       "      <td>...</td>\n",
       "      <td>...</td>\n",
       "      <td>...</td>\n",
       "    </tr>\n",
       "    <tr>\n",
       "      <th>3025</th>\n",
       "      <td>Le Grand Réfectoire</td>\n",
       "      <td>3 Cour Saint Henri Grand Hôtel Dieu, 69002 Lyo...</td>\n",
       "      <td>Bel endroit avec une nourriture moyenne</td>\n",
       "      <td>lizziem808</td>\n",
       "      <td>2024-12-13</td>\n",
       "      <td>4.0</td>\n",
       "      <td>solo</td>\n",
       "      <td>1</td>\n",
       "      <td>C'est un bel endroit avec un bon service, mais...</td>\n",
       "      <td>cest bel endroit bon service nourriture nétait...</td>\n",
       "      <td>2024</td>\n",
       "      <td>12</td>\n",
       "      <td>13</td>\n",
       "    </tr>\n",
       "    <tr>\n",
       "      <th>3026</th>\n",
       "      <td>Le Grand Réfectoire</td>\n",
       "      <td>3 Cour Saint Henri Grand Hôtel Dieu, 69002 Lyo...</td>\n",
       "      <td>Doit améliorer le service</td>\n",
       "      <td>tlowry2021</td>\n",
       "      <td>2024-11-02</td>\n",
       "      <td>3.0</td>\n",
       "      <td>couples</td>\n",
       "      <td>5</td>\n",
       "      <td>cet endroit promettait beaucoup d'après les co...</td>\n",
       "      <td>cet endroit promettait beaucoup daprès comment...</td>\n",
       "      <td>2024</td>\n",
       "      <td>11</td>\n",
       "      <td>2</td>\n",
       "    </tr>\n",
       "    <tr>\n",
       "      <th>3027</th>\n",
       "      <td>Le Grand Réfectoire</td>\n",
       "      <td>3 Cour Saint Henri Grand Hôtel Dieu, 69002 Lyo...</td>\n",
       "      <td>Endroit intéressant pour le dîner</td>\n",
       "      <td>777AMR</td>\n",
       "      <td>2024-10-20</td>\n",
       "      <td>4.0</td>\n",
       "      <td>friends</td>\n",
       "      <td>7</td>\n",
       "      <td>Endroit intéressant avec de la bonne nourritur...</td>\n",
       "      <td>endroit intéressant bonne nourriture service a...</td>\n",
       "      <td>2024</td>\n",
       "      <td>10</td>\n",
       "      <td>20</td>\n",
       "    </tr>\n",
       "    <tr>\n",
       "      <th>3028</th>\n",
       "      <td>Le Grand Réfectoire</td>\n",
       "      <td>3 Cour Saint Henri Grand Hôtel Dieu, 69002 Lyo...</td>\n",
       "      <td>Pas la nourriture ou le service de qualité pou...</td>\n",
       "      <td>lisamareeh2016</td>\n",
       "      <td>2024-10-19</td>\n",
       "      <td>2.0</td>\n",
       "      <td>family</td>\n",
       "      <td>3</td>\n",
       "      <td>Mes filles et moi avons commandé le steak medi...</td>\n",
       "      <td>fille avon commandé steak medium demandé haric...</td>\n",
       "      <td>2024</td>\n",
       "      <td>10</td>\n",
       "      <td>19</td>\n",
       "    </tr>\n",
       "    <tr>\n",
       "      <th>3029</th>\n",
       "      <td>Le Grand Réfectoire</td>\n",
       "      <td>3 Cour Saint Henri Grand Hôtel Dieu, 69002 Lyo...</td>\n",
       "      <td>Pas du tout ce que nous attendions d'un Michelin</td>\n",
       "      <td>frand682</td>\n",
       "      <td>2024-10-09</td>\n",
       "      <td>2.0</td>\n",
       "      <td>couples</td>\n",
       "      <td>101</td>\n",
       "      <td>Tout d'abord le restaurant est très grand, ave...</td>\n",
       "      <td>tout dabord restaurant très grand décor fade t...</td>\n",
       "      <td>2024</td>\n",
       "      <td>10</td>\n",
       "      <td>9</td>\n",
       "    </tr>\n",
       "  </tbody>\n",
       "</table>\n",
       "<p>3030 rows × 13 columns</p>\n",
       "</div>"
      ],
      "text/plain": [
       "                 restaurant  \\\n",
       "0     Le Bouchon des Filles   \n",
       "1     Le Bouchon des Filles   \n",
       "2     Le Bouchon des Filles   \n",
       "3     Le Bouchon des Filles   \n",
       "4     Le Bouchon des Filles   \n",
       "...                     ...   \n",
       "3025    Le Grand Réfectoire   \n",
       "3026    Le Grand Réfectoire   \n",
       "3027    Le Grand Réfectoire   \n",
       "3028    Le Grand Réfectoire   \n",
       "3029    Le Grand Réfectoire   \n",
       "\n",
       "                                     restaurant_address  \\\n",
       "0     20 Rue Sergent-Blandan Parking Sathonay, 69001...   \n",
       "1     20 Rue Sergent-Blandan Parking Sathonay, 69001...   \n",
       "2     20 Rue Sergent-Blandan Parking Sathonay, 69001...   \n",
       "3     20 Rue Sergent-Blandan Parking Sathonay, 69001...   \n",
       "4     20 Rue Sergent-Blandan Parking Sathonay, 69001...   \n",
       "...                                                 ...   \n",
       "3025  3 Cour Saint Henri Grand Hôtel Dieu, 69002 Lyo...   \n",
       "3026  3 Cour Saint Henri Grand Hôtel Dieu, 69002 Lyo...   \n",
       "3027  3 Cour Saint Henri Grand Hôtel Dieu, 69002 Lyo...   \n",
       "3028  3 Cour Saint Henri Grand Hôtel Dieu, 69002 Lyo...   \n",
       "3029  3 Cour Saint Henri Grand Hôtel Dieu, 69002 Lyo...   \n",
       "\n",
       "                                                  title     user_profile  \\\n",
       "0                                     Très belle soirée           SetC77   \n",
       "1     Vive la bonne cuisine dans une ambiance conviv...   H3293ZGsylviel   \n",
       "2                                             Sans plus  marieno_lleb739   \n",
       "3                                         Bon et joyeux          Vymsbmm   \n",
       "4     Bon restaurant et endroit pour se retrouver en...       Youliic974   \n",
       "...                                                 ...              ...   \n",
       "3025            Bel endroit avec une nourriture moyenne       lizziem808   \n",
       "3026                          Doit améliorer le service       tlowry2021   \n",
       "3027                  Endroit intéressant pour le dîner           777AMR   \n",
       "3028  Pas la nourriture ou le service de qualité pou...   lisamareeh2016   \n",
       "3029   Pas du tout ce que nous attendions d'un Michelin         frand682   \n",
       "\n",
       "     date_review  rating type_visit  num_contributions  \\\n",
       "0     2024-12-16     5.0    friends                 67   \n",
       "1     2024-11-26     5.0    friends                  2   \n",
       "2     2024-11-23     3.0    friends                 96   \n",
       "3     2024-11-14     5.0    friends                225   \n",
       "4     2024-11-01     4.0    friends                 38   \n",
       "...          ...     ...        ...                ...   \n",
       "3025  2024-12-13     4.0       solo                  1   \n",
       "3026  2024-11-02     3.0    couples                  5   \n",
       "3027  2024-10-20     4.0    friends                  7   \n",
       "3028  2024-10-19     2.0     family                  3   \n",
       "3029  2024-10-09     2.0    couples                101   \n",
       "\n",
       "                                                 review  \\\n",
       "0     Trop bon moment!! \\nAccueil, plats, ambiance t...   \n",
       "1     Toujours aussi goûteux !\\nL'ambiance, la bonne...   \n",
       "2     Les serveurs et serveuses sont sympas. Mais l’...   \n",
       "3     Une excellente soirée dans ce petit restaurant...   \n",
       "4     Un super moment entre amis.\\nLes plats étaient...   \n",
       "...                                                 ...   \n",
       "3025  C'est un bel endroit avec un bon service, mais...   \n",
       "3026  cet endroit promettait beaucoup d'après les co...   \n",
       "3027  Endroit intéressant avec de la bonne nourritur...   \n",
       "3028  Mes filles et moi avons commandé le steak medi...   \n",
       "3029  Tout d'abord le restaurant est très grand, ave...   \n",
       "\n",
       "                                         review_cleaned  year  month  day  \n",
       "0     trop bon moment accueil plat ambiance tout pas...  2024     12   16  \n",
       "1     toujours aussi goûteux lambiance bonne humeur ...  2024     11   26  \n",
       "2     serveurs serveuses sympas longlet nest tendre ...  2024     11   23  \n",
       "3     excellente soirée petit restaurant peu lécart ...  2024     11   14  \n",
       "4     super moment entre amis plat très délicieux co...  2024     11    1  \n",
       "...                                                 ...   ...    ...  ...  \n",
       "3025  cest bel endroit bon service nourriture nétait...  2024     12   13  \n",
       "3026  cet endroit promettait beaucoup daprès comment...  2024     11    2  \n",
       "3027  endroit intéressant bonne nourriture service a...  2024     10   20  \n",
       "3028  fille avon commandé steak medium demandé haric...  2024     10   19  \n",
       "3029  tout dabord restaurant très grand décor fade t...  2024     10    9  \n",
       "\n",
       "[3030 rows x 13 columns]"
      ]
     },
     "execution_count": 212,
     "metadata": {},
     "output_type": "execute_result"
    }
   ],
   "source": [
    "avis_restaurants_cleaned"
   ]
  }
 ],
 "metadata": {
  "kernelspec": {
   "display_name": "Nlp_projet",
   "language": "python",
   "name": "python3"
  },
  "language_info": {
   "codemirror_mode": {
    "name": "ipython",
    "version": 3
   },
   "file_extension": ".py",
   "mimetype": "text/x-python",
   "name": "python",
   "nbconvert_exporter": "python",
   "pygments_lexer": "ipython3",
   "version": "3.12.8"
  }
 },
 "nbformat": 4,
 "nbformat_minor": 2
}
