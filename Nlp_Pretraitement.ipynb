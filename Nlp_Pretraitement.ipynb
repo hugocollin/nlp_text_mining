{
 "cells": [
  {
   "cell_type": "markdown",
   "metadata": {},
   "source": [
    "# Importation et inspection des données"
   ]
  },
  {
   "cell_type": "code",
   "execution_count": 1,
   "metadata": {},
   "outputs": [
    {
     "name": "stdout",
     "output_type": "stream",
     "text": [
      "              restaurant                                 restaurant_address  \\\n",
      "0  Le Bouchon des Filles  20 Rue Sergent-Blandan Parking Sathonay, 69001...   \n",
      "1  Le Bouchon des Filles  20 Rue Sergent-Blandan Parking Sathonay, 69001...   \n",
      "2  Le Bouchon des Filles  20 Rue Sergent-Blandan Parking Sathonay, 69001...   \n",
      "3  Le Bouchon des Filles  20 Rue Sergent-Blandan Parking Sathonay, 69001...   \n",
      "4  Le Bouchon des Filles  20 Rue Sergent-Blandan Parking Sathonay, 69001...   \n",
      "\n",
      "                                               title     user_profile  \\\n",
      "0                                  Très belle soirée           SetC77   \n",
      "1  Vive la bonne cuisine dans une ambiance conviv...   H3293ZGsylviel   \n",
      "2                                          Sans plus  marieno_lleb739   \n",
      "3                                      Bon et joyeux          Vymsbmm   \n",
      "4  Bon restaurant et endroit pour se retrouver en...       Youliic974   \n",
      "\n",
      "  date_review  rating type_visit  num_contributions  \\\n",
      "0  2024-12-16     5.0    friends                 67   \n",
      "1  2024-11-26     5.0    friends                  2   \n",
      "2  2024-11-23     3.0    friends                 96   \n",
      "3  2024-11-14     5.0    friends                225   \n",
      "4  2024-11-01     4.0    friends                 38   \n",
      "\n",
      "                                              review  \n",
      "0  Trop bon moment!! \\nAccueil, plats, ambiance t...  \n",
      "1  Toujours aussi goûteux !\\nL'ambiance, la bonne...  \n",
      "2  Les serveurs et serveuses sont sympas. Mais l’...  \n",
      "3  Une excellente soirée dans ce petit restaurant...  \n",
      "4  Un super moment entre amis.\\nLes plats étaient...  \n"
     ]
    }
   ],
   "source": [
    "import pandas as pd\n",
    "from db.models import get_restaurants_with_reviews_and_users\n",
    "from sqlalchemy import create_engine\n",
    "from sqlalchemy.orm import sessionmaker\n",
    "\n",
    "# Connexion à la base de données\n",
    "engine = create_engine('sqlite:///restaurant_reviews.db')\n",
    "Session = sessionmaker(bind=engine)\n",
    "session = Session()\n",
    "\n",
    "# Extraction des données\n",
    "avis_restaurants_data = get_restaurants_with_reviews_and_users(session)\n",
    "\n",
    "# Transformation en DataFrame\n",
    "# Chaque avis correspondra à une ligne dans le DataFrame\n",
    "data = []\n",
    "for restaurant in avis_restaurants_data:\n",
    "    for review in restaurant['reviews']:\n",
    "        data.append({\n",
    "            'restaurant': restaurant['restaurant'],\n",
    "            'restaurant_address': restaurant['restaurant_address'],\n",
    "            'title': review['title'],\n",
    "            'user_profile': review['user_profile'],\n",
    "            'date_review': review['date_review'],\n",
    "            'rating': review['rating'],\n",
    "            'type_visit': review['type_visit'],\n",
    "            'num_contributions': review['num_contributions'],\n",
    "            'review': review['review']\n",
    "        })\n",
    "\n",
    "# Création du DataFrame\n",
    "avis_restaurants = pd.DataFrame(data)\n",
    "\n",
    "# Affichage du DataFrame\n",
    "print(avis_restaurants.head())\n"
   ]
  },
  {
   "cell_type": "code",
   "execution_count": 7,
   "metadata": {},
   "outputs": [],
   "source": [
    "#import pandas as pd\n",
    "# Charger les données\n",
    "#avis_restaurants = pd.read_csv('D:/M2 SISE/Text Mining ou NLP/Projet/nlp_text_mining/Data/avis_restaurants.csv', sep=';') \n",
    "\n",
    "# Aperçu des données\n",
    "#print(avis_restaurants.head())"
   ]
  },
  {
   "cell_type": "code",
   "execution_count": 2,
   "metadata": {},
   "outputs": [
    {
     "name": "stdout",
     "output_type": "stream",
     "text": [
      "<class 'pandas.core.frame.DataFrame'>\n",
      "RangeIndex: 17160 entries, 0 to 17159\n",
      "Data columns (total 9 columns):\n",
      " #   Column              Non-Null Count  Dtype  \n",
      "---  ------              --------------  -----  \n",
      " 0   restaurant          17160 non-null  object \n",
      " 1   restaurant_address  17160 non-null  object \n",
      " 2   title               17160 non-null  object \n",
      " 3   user_profile        17160 non-null  object \n",
      " 4   date_review         17160 non-null  object \n",
      " 5   rating              17160 non-null  float64\n",
      " 6   type_visit          17160 non-null  object \n",
      " 7   num_contributions   17160 non-null  int64  \n",
      " 8   review              17160 non-null  object \n",
      "dtypes: float64(1), int64(1), object(7)\n",
      "memory usage: 1.2+ MB\n",
      "None\n"
     ]
    }
   ],
   "source": [
    "print(avis_restaurants.info())"
   ]
  },
  {
   "cell_type": "code",
   "execution_count": 3,
   "metadata": {},
   "outputs": [
    {
     "data": {
      "text/html": [
       "<div>\n",
       "<style scoped>\n",
       "    .dataframe tbody tr th:only-of-type {\n",
       "        vertical-align: middle;\n",
       "    }\n",
       "\n",
       "    .dataframe tbody tr th {\n",
       "        vertical-align: top;\n",
       "    }\n",
       "\n",
       "    .dataframe thead th {\n",
       "        text-align: right;\n",
       "    }\n",
       "</style>\n",
       "<table border=\"1\" class=\"dataframe\">\n",
       "  <thead>\n",
       "    <tr style=\"text-align: right;\">\n",
       "      <th></th>\n",
       "      <th>restaurant</th>\n",
       "      <th>restaurant_address</th>\n",
       "      <th>title</th>\n",
       "      <th>user_profile</th>\n",
       "      <th>date_review</th>\n",
       "      <th>rating</th>\n",
       "      <th>type_visit</th>\n",
       "      <th>num_contributions</th>\n",
       "      <th>review</th>\n",
       "    </tr>\n",
       "  </thead>\n",
       "  <tbody>\n",
       "    <tr>\n",
       "      <th>0</th>\n",
       "      <td>Le Bouchon des Filles</td>\n",
       "      <td>20 Rue Sergent-Blandan Parking Sathonay, 69001...</td>\n",
       "      <td>Très belle soirée</td>\n",
       "      <td>SetC77</td>\n",
       "      <td>2024-12-16</td>\n",
       "      <td>5.0</td>\n",
       "      <td>friends</td>\n",
       "      <td>67</td>\n",
       "      <td>Trop bon moment!! \\nAccueil, plats, ambiance t...</td>\n",
       "    </tr>\n",
       "    <tr>\n",
       "      <th>1</th>\n",
       "      <td>Le Bouchon des Filles</td>\n",
       "      <td>20 Rue Sergent-Blandan Parking Sathonay, 69001...</td>\n",
       "      <td>Vive la bonne cuisine dans une ambiance conviv...</td>\n",
       "      <td>H3293ZGsylviel</td>\n",
       "      <td>2024-11-26</td>\n",
       "      <td>5.0</td>\n",
       "      <td>friends</td>\n",
       "      <td>2</td>\n",
       "      <td>Toujours aussi goûteux !\\nL'ambiance, la bonne...</td>\n",
       "    </tr>\n",
       "    <tr>\n",
       "      <th>2</th>\n",
       "      <td>Le Bouchon des Filles</td>\n",
       "      <td>20 Rue Sergent-Blandan Parking Sathonay, 69001...</td>\n",
       "      <td>Sans plus</td>\n",
       "      <td>marieno_lleb739</td>\n",
       "      <td>2024-11-23</td>\n",
       "      <td>3.0</td>\n",
       "      <td>friends</td>\n",
       "      <td>96</td>\n",
       "      <td>Les serveurs et serveuses sont sympas. Mais l’...</td>\n",
       "    </tr>\n",
       "    <tr>\n",
       "      <th>3</th>\n",
       "      <td>Le Bouchon des Filles</td>\n",
       "      <td>20 Rue Sergent-Blandan Parking Sathonay, 69001...</td>\n",
       "      <td>Bon et joyeux</td>\n",
       "      <td>Vymsbmm</td>\n",
       "      <td>2024-11-14</td>\n",
       "      <td>5.0</td>\n",
       "      <td>friends</td>\n",
       "      <td>225</td>\n",
       "      <td>Une excellente soirée dans ce petit restaurant...</td>\n",
       "    </tr>\n",
       "    <tr>\n",
       "      <th>4</th>\n",
       "      <td>Le Bouchon des Filles</td>\n",
       "      <td>20 Rue Sergent-Blandan Parking Sathonay, 69001...</td>\n",
       "      <td>Bon restaurant et endroit pour se retrouver en...</td>\n",
       "      <td>Youliic974</td>\n",
       "      <td>2024-11-01</td>\n",
       "      <td>4.0</td>\n",
       "      <td>friends</td>\n",
       "      <td>38</td>\n",
       "      <td>Un super moment entre amis.\\nLes plats étaient...</td>\n",
       "    </tr>\n",
       "    <tr>\n",
       "      <th>...</th>\n",
       "      <td>...</td>\n",
       "      <td>...</td>\n",
       "      <td>...</td>\n",
       "      <td>...</td>\n",
       "      <td>...</td>\n",
       "      <td>...</td>\n",
       "      <td>...</td>\n",
       "      <td>...</td>\n",
       "      <td>...</td>\n",
       "    </tr>\n",
       "    <tr>\n",
       "      <th>17155</th>\n",
       "      <td>Le Bouchon Sully</td>\n",
       "      <td>20, rue Sully, 69006 Lyon France</td>\n",
       "      <td>C est variable</td>\n",
       "      <td>Del6901</td>\n",
       "      <td>2015-07-10</td>\n",
       "      <td>3.0</td>\n",
       "      <td>business</td>\n",
       "      <td>16</td>\n",
       "      <td>Ns sommes allés plusieures fois ds ce restaura...</td>\n",
       "    </tr>\n",
       "    <tr>\n",
       "      <th>17156</th>\n",
       "      <td>Le Bouchon Sully</td>\n",
       "      <td>20, rue Sully, 69006 Lyon France</td>\n",
       "      <td>Très moyen</td>\n",
       "      <td>quantis38</td>\n",
       "      <td>2015-06-10</td>\n",
       "      <td>2.0</td>\n",
       "      <td>friends</td>\n",
       "      <td>11</td>\n",
       "      <td>Service très lent et pas réactif du tout. Cuis...</td>\n",
       "    </tr>\n",
       "    <tr>\n",
       "      <th>17157</th>\n",
       "      <td>Le Bouchon Sully</td>\n",
       "      <td>20, rue Sully, 69006 Lyon France</td>\n",
       "      <td>excellent</td>\n",
       "      <td>dlc2009lcd</td>\n",
       "      <td>2015-05-05</td>\n",
       "      <td>5.0</td>\n",
       "      <td>family</td>\n",
       "      <td>1</td>\n",
       "      <td>excellent bouchon lyonnais cuisine de qualite ...</td>\n",
       "    </tr>\n",
       "    <tr>\n",
       "      <th>17158</th>\n",
       "      <td>Le Bouchon Sully</td>\n",
       "      <td>20, rue Sully, 69006 Lyon France</td>\n",
       "      <td>excellent</td>\n",
       "      <td>303gaellep</td>\n",
       "      <td>2015-04-24</td>\n",
       "      <td>5.0</td>\n",
       "      <td>family</td>\n",
       "      <td>2</td>\n",
       "      <td>Très bonne cuisine, service impeccable. Le ser...</td>\n",
       "    </tr>\n",
       "    <tr>\n",
       "      <th>17159</th>\n",
       "      <td>Le Bouchon Sully</td>\n",
       "      <td>20, rue Sully, 69006 Lyon France</td>\n",
       "      <td>Très bon bouchon Lyonnais</td>\n",
       "      <td>MMEFLYBEEF</td>\n",
       "      <td>2015-03-03</td>\n",
       "      <td>4.0</td>\n",
       "      <td>family</td>\n",
       "      <td>34</td>\n",
       "      <td>Je m'y suis rendue à plusieurs reprises et je ...</td>\n",
       "    </tr>\n",
       "  </tbody>\n",
       "</table>\n",
       "<p>17160 rows × 9 columns</p>\n",
       "</div>"
      ],
      "text/plain": [
       "                  restaurant  \\\n",
       "0      Le Bouchon des Filles   \n",
       "1      Le Bouchon des Filles   \n",
       "2      Le Bouchon des Filles   \n",
       "3      Le Bouchon des Filles   \n",
       "4      Le Bouchon des Filles   \n",
       "...                      ...   \n",
       "17155       Le Bouchon Sully   \n",
       "17156       Le Bouchon Sully   \n",
       "17157       Le Bouchon Sully   \n",
       "17158       Le Bouchon Sully   \n",
       "17159       Le Bouchon Sully   \n",
       "\n",
       "                                      restaurant_address  \\\n",
       "0      20 Rue Sergent-Blandan Parking Sathonay, 69001...   \n",
       "1      20 Rue Sergent-Blandan Parking Sathonay, 69001...   \n",
       "2      20 Rue Sergent-Blandan Parking Sathonay, 69001...   \n",
       "3      20 Rue Sergent-Blandan Parking Sathonay, 69001...   \n",
       "4      20 Rue Sergent-Blandan Parking Sathonay, 69001...   \n",
       "...                                                  ...   \n",
       "17155                   20, rue Sully, 69006 Lyon France   \n",
       "17156                   20, rue Sully, 69006 Lyon France   \n",
       "17157                   20, rue Sully, 69006 Lyon France   \n",
       "17158                   20, rue Sully, 69006 Lyon France   \n",
       "17159                   20, rue Sully, 69006 Lyon France   \n",
       "\n",
       "                                                   title     user_profile  \\\n",
       "0                                      Très belle soirée           SetC77   \n",
       "1      Vive la bonne cuisine dans une ambiance conviv...   H3293ZGsylviel   \n",
       "2                                              Sans plus  marieno_lleb739   \n",
       "3                                          Bon et joyeux          Vymsbmm   \n",
       "4      Bon restaurant et endroit pour se retrouver en...       Youliic974   \n",
       "...                                                  ...              ...   \n",
       "17155                                     C est variable          Del6901   \n",
       "17156                                         Très moyen        quantis38   \n",
       "17157                                          excellent       dlc2009lcd   \n",
       "17158                                          excellent       303gaellep   \n",
       "17159                          Très bon bouchon Lyonnais       MMEFLYBEEF   \n",
       "\n",
       "      date_review  rating type_visit  num_contributions  \\\n",
       "0      2024-12-16     5.0    friends                 67   \n",
       "1      2024-11-26     5.0    friends                  2   \n",
       "2      2024-11-23     3.0    friends                 96   \n",
       "3      2024-11-14     5.0    friends                225   \n",
       "4      2024-11-01     4.0    friends                 38   \n",
       "...           ...     ...        ...                ...   \n",
       "17155  2015-07-10     3.0   business                 16   \n",
       "17156  2015-06-10     2.0    friends                 11   \n",
       "17157  2015-05-05     5.0     family                  1   \n",
       "17158  2015-04-24     5.0     family                  2   \n",
       "17159  2015-03-03     4.0     family                 34   \n",
       "\n",
       "                                                  review  \n",
       "0      Trop bon moment!! \\nAccueil, plats, ambiance t...  \n",
       "1      Toujours aussi goûteux !\\nL'ambiance, la bonne...  \n",
       "2      Les serveurs et serveuses sont sympas. Mais l’...  \n",
       "3      Une excellente soirée dans ce petit restaurant...  \n",
       "4      Un super moment entre amis.\\nLes plats étaient...  \n",
       "...                                                  ...  \n",
       "17155  Ns sommes allés plusieures fois ds ce restaura...  \n",
       "17156  Service très lent et pas réactif du tout. Cuis...  \n",
       "17157  excellent bouchon lyonnais cuisine de qualite ...  \n",
       "17158  Très bonne cuisine, service impeccable. Le ser...  \n",
       "17159  Je m'y suis rendue à plusieurs reprises et je ...  \n",
       "\n",
       "[17160 rows x 9 columns]"
      ]
     },
     "execution_count": 3,
     "metadata": {},
     "output_type": "execute_result"
    }
   ],
   "source": [
    "avis_restaurants"
   ]
  },
  {
   "cell_type": "code",
   "execution_count": 5,
   "metadata": {},
   "outputs": [
    {
     "name": "stdout",
     "output_type": "stream",
     "text": [
      "22\n"
     ]
    }
   ],
   "source": [
    "#nombre de restaurants\n",
    "print(avis_restaurants['restaurant'].nunique())"
   ]
  },
  {
   "cell_type": "code",
   "execution_count": 6,
   "metadata": {},
   "outputs": [
    {
     "name": "stdout",
     "output_type": "stream",
     "text": [
      "(17160, 9)\n"
     ]
    }
   ],
   "source": [
    "#Nombre de ligne de mon dataframe\n",
    "print(avis_restaurants.shape)"
   ]
  },
  {
   "cell_type": "markdown",
   "metadata": {},
   "source": [
    "# Nettoyage des avis"
   ]
  },
  {
   "cell_type": "markdown",
   "metadata": {},
   "source": [
    "Inclure des étapes pour retirer les caractères inutiles, convertir en minuscules, supprimer les stopwords, etc."
   ]
  },
  {
   "cell_type": "code",
   "execution_count": 7,
   "metadata": {},
   "outputs": [],
   "source": [
    "import re\n",
    "import nltk\n",
    "from nltk.corpus import stopwords\n",
    "from nltk.tokenize import word_tokenize\n",
    "from nltk.stem import WordNetLemmatizer\n",
    "lemmatizer = WordNetLemmatizer()"
   ]
  },
  {
   "cell_type": "code",
   "execution_count": 8,
   "metadata": {},
   "outputs": [],
   "source": [
    "def nettoyer_avis(avis):\n",
    "    # Retirer les caractères spéciaux et convertir en minuscules\n",
    "    avis = avis.lower()\n",
    "    avis = re.sub(r'[^\\w\\s]', '', avis)\n",
    "    \n",
    "    # retirer les chiffres\n",
    "    avis = re.sub(r'[0-9]', '', avis)\n",
    "    \n",
    "    # Tokenisation\n",
    "    tokens = word_tokenize(avis)\n",
    "    \n",
    "    # lematisation\n",
    "    tokens = [lemmatizer.lemmatize(word) for word in tokens]\n",
    "    \n",
    "    # Retirer les stopwords\n",
    "    tokens = [word for word in tokens if word not in stopwords.words('french')]\n",
    "    \n",
    "    # retirer les termes de moins de 3 caractères\n",
    "    tokens = [word for word in tokens if len(word) > 2]\n",
    "    \n",
    "    return ' '.join(tokens)"
   ]
  },
  {
   "cell_type": "code",
   "execution_count": 9,
   "metadata": {},
   "outputs": [
    {
     "name": "stdout",
     "output_type": "stream",
     "text": [
      "                                              review  \\\n",
      "0  Trop bon moment!! \\nAccueil, plats, ambiance t...   \n",
      "1  Toujours aussi goûteux !\\nL'ambiance, la bonne...   \n",
      "2  Les serveurs et serveuses sont sympas. Mais l’...   \n",
      "3  Une excellente soirée dans ce petit restaurant...   \n",
      "4  Un super moment entre amis.\\nLes plats étaient...   \n",
      "\n",
      "                                      review_cleaned  \n",
      "0  trop bon moment accueil plat ambiance tout pas...  \n",
      "1  toujours aussi goûteux lambiance bonne humeur ...  \n",
      "2  serveurs serveuses sympas longlet nest tendre ...  \n",
      "3  excellente soirée petit restaurant peu lécart ...  \n",
      "4  super moment entre amis plat très délicieux co...  \n"
     ]
    }
   ],
   "source": [
    "# Appliquer le nettoyage à la colonne 'review'\n",
    "avis_restaurants['review_cleaned'] = avis_restaurants['review'].apply(nettoyer_avis)\n",
    "print(avis_restaurants[['review', 'review_cleaned']].head())"
   ]
  },
  {
   "cell_type": "markdown",
   "metadata": {},
   "source": [
    "# Création de représentations textuelles"
   ]
  },
  {
   "cell_type": "markdown",
   "metadata": {},
   "source": [
    "Transforme les avis en vecteurs numériques pour les modèles."
   ]
  },
  {
   "cell_type": "markdown",
   "metadata": {},
   "source": [
    "## Bag of Words"
   ]
  },
  {
   "cell_type": "code",
   "execution_count": 10,
   "metadata": {},
   "outputs": [
    {
     "name": "stdout",
     "output_type": "stream",
     "text": [
      "[[0 0 1 ... 0 0 0]\n",
      " [0 0 0 ... 0 0 0]\n",
      " [0 0 0 ... 0 0 0]\n",
      " ...\n",
      " [0 0 0 ... 0 0 0]\n",
      " [0 0 0 ... 0 0 0]\n",
      " [0 0 1 ... 0 0 0]]\n"
     ]
    }
   ],
   "source": [
    "from sklearn.feature_extraction.text import CountVectorizer\n",
    "\n",
    "# Vectorisation BoW\n",
    "vectorizer = CountVectorizer(max_features=500)  # Limiter à 500 mots les plus fréquents\n",
    "X_bow = vectorizer.fit_transform(avis_restaurants['review_cleaned'])\n",
    "print(X_bow.toarray())\n"
   ]
  },
  {
   "cell_type": "markdown",
   "metadata": {},
   "source": [
    "## TF-IDF"
   ]
  },
  {
   "cell_type": "code",
   "execution_count": 11,
   "metadata": {},
   "outputs": [
    {
     "name": "stdout",
     "output_type": "stream",
     "text": [
      "[[0.         0.         0.1946624  ... 0.         0.         0.        ]\n",
      " [0.         0.         0.         ... 0.         0.         0.        ]\n",
      " [0.         0.         0.         ... 0.         0.         0.        ]\n",
      " ...\n",
      " [0.         0.         0.         ... 0.         0.         0.        ]\n",
      " [0.         0.         0.         ... 0.         0.         0.        ]\n",
      " [0.         0.         0.14710092 ... 0.         0.         0.        ]]\n"
     ]
    }
   ],
   "source": [
    "from sklearn.feature_extraction.text import TfidfVectorizer\n",
    "\n",
    "# Vectorisation TF-IDF\n",
    "tfidf_vectorizer = TfidfVectorizer(max_features=500)\n",
    "X_tfidf = tfidf_vectorizer.fit_transform(avis_restaurants['review_cleaned'])\n",
    "print(X_tfidf.toarray())"
   ]
  },
  {
   "cell_type": "markdown",
   "metadata": {},
   "source": [
    "# Préparation pour l'analyse temporelle"
   ]
  },
  {
   "cell_type": "code",
   "execution_count": 12,
   "metadata": {},
   "outputs": [
    {
     "data": {
      "text/plain": [
       "0        2024-12-16\n",
       "1        2024-11-26\n",
       "2        2024-11-23\n",
       "3        2024-11-14\n",
       "4        2024-11-01\n",
       "            ...    \n",
       "17155    2015-07-10\n",
       "17156    2015-06-10\n",
       "17157    2015-05-05\n",
       "17158    2015-04-24\n",
       "17159    2015-03-03\n",
       "Name: date_review, Length: 17160, dtype: object"
      ]
     },
     "execution_count": 12,
     "metadata": {},
     "output_type": "execute_result"
    }
   ],
   "source": [
    "avis_restaurants['date_review']"
   ]
  },
  {
   "cell_type": "code",
   "execution_count": 13,
   "metadata": {},
   "outputs": [
    {
     "name": "stdout",
     "output_type": "stream",
     "text": [
      "  date_review\n",
      "0  2024-12-16\n",
      "1  2024-11-26\n",
      "2  2024-11-23\n",
      "3  2024-11-14\n",
      "4  2024-11-01\n",
      "5  2024-10-12\n",
      "6  2024-09-04\n",
      "7  2024-08-16\n",
      "8  2024-07-24\n",
      "9  2024-06-16\n"
     ]
    }
   ],
   "source": [
    "# Vérification et conversion des types\n",
    "avis_restaurants['date_review'] = avis_restaurants['date_review'].astype(str)\n",
    "\n",
    "# Suppression des espaces et nettoyage des chaînes\n",
    "avis_restaurants['date_review'] = avis_restaurants['date_review'].str.strip()\n",
    "avis_restaurants['date_review'] = avis_restaurants['date_review'].str.replace(r'\\s+', ' ', regex=True)\n",
    "\n",
    "# Vérification des premières lignes pour s'assurer que les dates sont correctement nettoyées\n",
    "print(avis_restaurants[['date_review']].head(10))"
   ]
  },
  {
   "cell_type": "code",
   "execution_count": 14,
   "metadata": {},
   "outputs": [],
   "source": [
    "mois_fr_en = {\n",
    "    'janvier': 'January', 'février': 'February', 'mars': 'March', 'avril': 'April',\n",
    "    'mai': 'May', 'juin': 'June', 'juillet': 'July', 'août': 'August',\n",
    "    'septembre': 'September', 'octobre': 'October', 'novembre': 'November', 'décembre': 'December'\n",
    "}\n",
    "\n",
    "for fr, en in mois_fr_en.items():\n",
    "    avis_restaurants['date_review'] = avis_restaurants['date_review'].str.replace(fr, en, regex=False)\n"
   ]
  },
  {
   "cell_type": "code",
   "execution_count": 15,
   "metadata": {},
   "outputs": [
    {
     "name": "stderr",
     "output_type": "stream",
     "text": [
      "C:\\Users\\karam\\AppData\\Local\\Temp\\ipykernel_16788\\3924299094.py:1: UserWarning: The argument 'infer_datetime_format' is deprecated and will be removed in a future version. A strict version of it is now the default, see https://pandas.pydata.org/pdeps/0004-consistent-to-datetime-parsing.html. You can safely remove this argument.\n",
      "  avis_restaurants['date_review'] = pd.to_datetime(\n"
     ]
    }
   ],
   "source": [
    "avis_restaurants['date_review'] = pd.to_datetime(\n",
    "    avis_restaurants['date_review'], errors='coerce', infer_datetime_format=True\n",
    ")\n",
    "avis_restaurants['date_review'] = avis_restaurants['date_review'].dt.strftime('%d %B %Y')\n"
   ]
  },
  {
   "cell_type": "code",
   "execution_count": 16,
   "metadata": {},
   "outputs": [
    {
     "data": {
      "text/plain": [
       "0        16 December 2024\n",
       "1        26 November 2024\n",
       "2        23 November 2024\n",
       "3        14 November 2024\n",
       "4        01 November 2024\n",
       "               ...       \n",
       "17155        10 July 2015\n",
       "17156        10 June 2015\n",
       "17157         05 May 2015\n",
       "17158       24 April 2015\n",
       "17159       03 March 2015\n",
       "Name: date_review, Length: 17160, dtype: object"
      ]
     },
     "execution_count": 16,
     "metadata": {},
     "output_type": "execute_result"
    }
   ],
   "source": [
    "avis_restaurants['date_review']"
   ]
  },
  {
   "cell_type": "code",
   "execution_count": 17,
   "metadata": {},
   "outputs": [],
   "source": [
    "avis_restaurants['date_review'] = pd.to_datetime(\n",
    "    avis_restaurants['date_review'], errors='coerce', dayfirst=True\n",
    ")"
   ]
  },
  {
   "cell_type": "code",
   "execution_count": 18,
   "metadata": {},
   "outputs": [
    {
     "name": "stdout",
     "output_type": "stream",
     "text": [
      "  date_review  year  month  day\n",
      "0  2024-12-16  2024     12   16\n",
      "1  2024-11-26  2024     11   26\n",
      "2  2024-11-23  2024     11   23\n",
      "3  2024-11-14  2024     11   14\n",
      "4  2024-11-01  2024     11    1\n"
     ]
    }
   ],
   "source": [
    "# Extraire l'année et le mois pour une analyse temporelle\n",
    "avis_restaurants['year'] = avis_restaurants['date_review'].dt.year\n",
    "avis_restaurants['month'] = avis_restaurants['date_review'].dt.month\n",
    "avis_restaurants['day'] = avis_restaurants['date_review'].dt.day\n",
    "\n",
    "print(avis_restaurants[['date_review', 'year', 'month','day' ]].head())"
   ]
  },
  {
   "cell_type": "markdown",
   "metadata": {},
   "source": [
    "# Sauvegarder le dataset nettoyé"
   ]
  },
  {
   "cell_type": "code",
   "execution_count": 24,
   "metadata": {},
   "outputs": [],
   "source": [
    "avis_restaurants.to_csv('D:/M2 SISE/Text Mining ou NLP/Projet/nlp_text_mining/Data/avis_restaurants_cleaned.csv', index=False)"
   ]
  },
  {
   "cell_type": "code",
   "execution_count": 25,
   "metadata": {},
   "outputs": [],
   "source": [
    "avis_restaurants_cleaned = pd.read_csv('D:/M2 SISE/Text Mining ou NLP/Projet/nlp_text_mining/Data/avis_restaurants_cleaned.csv') "
   ]
  },
  {
   "cell_type": "code",
   "execution_count": 26,
   "metadata": {},
   "outputs": [
    {
     "data": {
      "text/html": [
       "<div>\n",
       "<style scoped>\n",
       "    .dataframe tbody tr th:only-of-type {\n",
       "        vertical-align: middle;\n",
       "    }\n",
       "\n",
       "    .dataframe tbody tr th {\n",
       "        vertical-align: top;\n",
       "    }\n",
       "\n",
       "    .dataframe thead th {\n",
       "        text-align: right;\n",
       "    }\n",
       "</style>\n",
       "<table border=\"1\" class=\"dataframe\">\n",
       "  <thead>\n",
       "    <tr style=\"text-align: right;\">\n",
       "      <th></th>\n",
       "      <th>restaurant</th>\n",
       "      <th>restaurant_address</th>\n",
       "      <th>title</th>\n",
       "      <th>user_profile</th>\n",
       "      <th>date_review</th>\n",
       "      <th>rating</th>\n",
       "      <th>type_visit</th>\n",
       "      <th>num_contributions</th>\n",
       "      <th>review</th>\n",
       "      <th>review_cleaned</th>\n",
       "      <th>year</th>\n",
       "      <th>month</th>\n",
       "      <th>day</th>\n",
       "    </tr>\n",
       "  </thead>\n",
       "  <tbody>\n",
       "    <tr>\n",
       "      <th>0</th>\n",
       "      <td>Le Bouchon des Filles</td>\n",
       "      <td>20 Rue Sergent-Blandan Parking Sathonay, 69001...</td>\n",
       "      <td>Très belle soirée</td>\n",
       "      <td>SetC77</td>\n",
       "      <td>2024-12-16</td>\n",
       "      <td>5.0</td>\n",
       "      <td>friends</td>\n",
       "      <td>67</td>\n",
       "      <td>Trop bon moment!! \\nAccueil, plats, ambiance t...</td>\n",
       "      <td>trop bon moment accueil plat ambiance tout pas...</td>\n",
       "      <td>2024</td>\n",
       "      <td>12</td>\n",
       "      <td>16</td>\n",
       "    </tr>\n",
       "    <tr>\n",
       "      <th>1</th>\n",
       "      <td>Le Bouchon des Filles</td>\n",
       "      <td>20 Rue Sergent-Blandan Parking Sathonay, 69001...</td>\n",
       "      <td>Vive la bonne cuisine dans une ambiance conviv...</td>\n",
       "      <td>H3293ZGsylviel</td>\n",
       "      <td>2024-11-26</td>\n",
       "      <td>5.0</td>\n",
       "      <td>friends</td>\n",
       "      <td>2</td>\n",
       "      <td>Toujours aussi goûteux !\\nL'ambiance, la bonne...</td>\n",
       "      <td>toujours aussi goûteux lambiance bonne humeur ...</td>\n",
       "      <td>2024</td>\n",
       "      <td>11</td>\n",
       "      <td>26</td>\n",
       "    </tr>\n",
       "    <tr>\n",
       "      <th>2</th>\n",
       "      <td>Le Bouchon des Filles</td>\n",
       "      <td>20 Rue Sergent-Blandan Parking Sathonay, 69001...</td>\n",
       "      <td>Sans plus</td>\n",
       "      <td>marieno_lleb739</td>\n",
       "      <td>2024-11-23</td>\n",
       "      <td>3.0</td>\n",
       "      <td>friends</td>\n",
       "      <td>96</td>\n",
       "      <td>Les serveurs et serveuses sont sympas. Mais l’...</td>\n",
       "      <td>serveurs serveuses sympas longlet nest tendre ...</td>\n",
       "      <td>2024</td>\n",
       "      <td>11</td>\n",
       "      <td>23</td>\n",
       "    </tr>\n",
       "    <tr>\n",
       "      <th>3</th>\n",
       "      <td>Le Bouchon des Filles</td>\n",
       "      <td>20 Rue Sergent-Blandan Parking Sathonay, 69001...</td>\n",
       "      <td>Bon et joyeux</td>\n",
       "      <td>Vymsbmm</td>\n",
       "      <td>2024-11-14</td>\n",
       "      <td>5.0</td>\n",
       "      <td>friends</td>\n",
       "      <td>225</td>\n",
       "      <td>Une excellente soirée dans ce petit restaurant...</td>\n",
       "      <td>excellente soirée petit restaurant peu lécart ...</td>\n",
       "      <td>2024</td>\n",
       "      <td>11</td>\n",
       "      <td>14</td>\n",
       "    </tr>\n",
       "    <tr>\n",
       "      <th>4</th>\n",
       "      <td>Le Bouchon des Filles</td>\n",
       "      <td>20 Rue Sergent-Blandan Parking Sathonay, 69001...</td>\n",
       "      <td>Bon restaurant et endroit pour se retrouver en...</td>\n",
       "      <td>Youliic974</td>\n",
       "      <td>2024-11-01</td>\n",
       "      <td>4.0</td>\n",
       "      <td>friends</td>\n",
       "      <td>38</td>\n",
       "      <td>Un super moment entre amis.\\nLes plats étaient...</td>\n",
       "      <td>super moment entre amis plat très délicieux co...</td>\n",
       "      <td>2024</td>\n",
       "      <td>11</td>\n",
       "      <td>1</td>\n",
       "    </tr>\n",
       "    <tr>\n",
       "      <th>...</th>\n",
       "      <td>...</td>\n",
       "      <td>...</td>\n",
       "      <td>...</td>\n",
       "      <td>...</td>\n",
       "      <td>...</td>\n",
       "      <td>...</td>\n",
       "      <td>...</td>\n",
       "      <td>...</td>\n",
       "      <td>...</td>\n",
       "      <td>...</td>\n",
       "      <td>...</td>\n",
       "      <td>...</td>\n",
       "      <td>...</td>\n",
       "    </tr>\n",
       "    <tr>\n",
       "      <th>17155</th>\n",
       "      <td>Le Bouchon Sully</td>\n",
       "      <td>20, rue Sully, 69006 Lyon France</td>\n",
       "      <td>C est variable</td>\n",
       "      <td>Del6901</td>\n",
       "      <td>2015-07-10</td>\n",
       "      <td>3.0</td>\n",
       "      <td>business</td>\n",
       "      <td>16</td>\n",
       "      <td>Ns sommes allés plusieures fois ds ce restaura...</td>\n",
       "      <td>somme allés plusieures fois restaurant bilan a...</td>\n",
       "      <td>2015</td>\n",
       "      <td>7</td>\n",
       "      <td>10</td>\n",
       "    </tr>\n",
       "    <tr>\n",
       "      <th>17156</th>\n",
       "      <td>Le Bouchon Sully</td>\n",
       "      <td>20, rue Sully, 69006 Lyon France</td>\n",
       "      <td>Très moyen</td>\n",
       "      <td>quantis38</td>\n",
       "      <td>2015-06-10</td>\n",
       "      <td>2.0</td>\n",
       "      <td>friends</td>\n",
       "      <td>11</td>\n",
       "      <td>Service très lent et pas réactif du tout. Cuis...</td>\n",
       "      <td>service très lent réactif tout cuisine correct...</td>\n",
       "      <td>2015</td>\n",
       "      <td>6</td>\n",
       "      <td>10</td>\n",
       "    </tr>\n",
       "    <tr>\n",
       "      <th>17157</th>\n",
       "      <td>Le Bouchon Sully</td>\n",
       "      <td>20, rue Sully, 69006 Lyon France</td>\n",
       "      <td>excellent</td>\n",
       "      <td>dlc2009lcd</td>\n",
       "      <td>2015-05-05</td>\n",
       "      <td>5.0</td>\n",
       "      <td>family</td>\n",
       "      <td>1</td>\n",
       "      <td>excellent bouchon lyonnais cuisine de qualite ...</td>\n",
       "      <td>excellent bouchon lyonnais cuisine qualite tre...</td>\n",
       "      <td>2015</td>\n",
       "      <td>5</td>\n",
       "      <td>5</td>\n",
       "    </tr>\n",
       "    <tr>\n",
       "      <th>17158</th>\n",
       "      <td>Le Bouchon Sully</td>\n",
       "      <td>20, rue Sully, 69006 Lyon France</td>\n",
       "      <td>excellent</td>\n",
       "      <td>303gaellep</td>\n",
       "      <td>2015-04-24</td>\n",
       "      <td>5.0</td>\n",
       "      <td>family</td>\n",
       "      <td>2</td>\n",
       "      <td>Très bonne cuisine, service impeccable. Le ser...</td>\n",
       "      <td>très bonne cuisine service impeccable serveur ...</td>\n",
       "      <td>2015</td>\n",
       "      <td>4</td>\n",
       "      <td>24</td>\n",
       "    </tr>\n",
       "    <tr>\n",
       "      <th>17159</th>\n",
       "      <td>Le Bouchon Sully</td>\n",
       "      <td>20, rue Sully, 69006 Lyon France</td>\n",
       "      <td>Très bon bouchon Lyonnais</td>\n",
       "      <td>MMEFLYBEEF</td>\n",
       "      <td>2015-03-03</td>\n",
       "      <td>4.0</td>\n",
       "      <td>family</td>\n",
       "      <td>34</td>\n",
       "      <td>Je m'y suis rendue à plusieurs reprises et je ...</td>\n",
       "      <td>rendue plusieurs reprises nai jamais déçue déc...</td>\n",
       "      <td>2015</td>\n",
       "      <td>3</td>\n",
       "      <td>3</td>\n",
       "    </tr>\n",
       "  </tbody>\n",
       "</table>\n",
       "<p>17160 rows × 13 columns</p>\n",
       "</div>"
      ],
      "text/plain": [
       "                  restaurant  \\\n",
       "0      Le Bouchon des Filles   \n",
       "1      Le Bouchon des Filles   \n",
       "2      Le Bouchon des Filles   \n",
       "3      Le Bouchon des Filles   \n",
       "4      Le Bouchon des Filles   \n",
       "...                      ...   \n",
       "17155       Le Bouchon Sully   \n",
       "17156       Le Bouchon Sully   \n",
       "17157       Le Bouchon Sully   \n",
       "17158       Le Bouchon Sully   \n",
       "17159       Le Bouchon Sully   \n",
       "\n",
       "                                      restaurant_address  \\\n",
       "0      20 Rue Sergent-Blandan Parking Sathonay, 69001...   \n",
       "1      20 Rue Sergent-Blandan Parking Sathonay, 69001...   \n",
       "2      20 Rue Sergent-Blandan Parking Sathonay, 69001...   \n",
       "3      20 Rue Sergent-Blandan Parking Sathonay, 69001...   \n",
       "4      20 Rue Sergent-Blandan Parking Sathonay, 69001...   \n",
       "...                                                  ...   \n",
       "17155                   20, rue Sully, 69006 Lyon France   \n",
       "17156                   20, rue Sully, 69006 Lyon France   \n",
       "17157                   20, rue Sully, 69006 Lyon France   \n",
       "17158                   20, rue Sully, 69006 Lyon France   \n",
       "17159                   20, rue Sully, 69006 Lyon France   \n",
       "\n",
       "                                                   title     user_profile  \\\n",
       "0                                      Très belle soirée           SetC77   \n",
       "1      Vive la bonne cuisine dans une ambiance conviv...   H3293ZGsylviel   \n",
       "2                                              Sans plus  marieno_lleb739   \n",
       "3                                          Bon et joyeux          Vymsbmm   \n",
       "4      Bon restaurant et endroit pour se retrouver en...       Youliic974   \n",
       "...                                                  ...              ...   \n",
       "17155                                     C est variable          Del6901   \n",
       "17156                                         Très moyen        quantis38   \n",
       "17157                                          excellent       dlc2009lcd   \n",
       "17158                                          excellent       303gaellep   \n",
       "17159                          Très bon bouchon Lyonnais       MMEFLYBEEF   \n",
       "\n",
       "      date_review  rating type_visit  num_contributions  \\\n",
       "0      2024-12-16     5.0    friends                 67   \n",
       "1      2024-11-26     5.0    friends                  2   \n",
       "2      2024-11-23     3.0    friends                 96   \n",
       "3      2024-11-14     5.0    friends                225   \n",
       "4      2024-11-01     4.0    friends                 38   \n",
       "...           ...     ...        ...                ...   \n",
       "17155  2015-07-10     3.0   business                 16   \n",
       "17156  2015-06-10     2.0    friends                 11   \n",
       "17157  2015-05-05     5.0     family                  1   \n",
       "17158  2015-04-24     5.0     family                  2   \n",
       "17159  2015-03-03     4.0     family                 34   \n",
       "\n",
       "                                                  review  \\\n",
       "0      Trop bon moment!! \\nAccueil, plats, ambiance t...   \n",
       "1      Toujours aussi goûteux !\\nL'ambiance, la bonne...   \n",
       "2      Les serveurs et serveuses sont sympas. Mais l’...   \n",
       "3      Une excellente soirée dans ce petit restaurant...   \n",
       "4      Un super moment entre amis.\\nLes plats étaient...   \n",
       "...                                                  ...   \n",
       "17155  Ns sommes allés plusieures fois ds ce restaura...   \n",
       "17156  Service très lent et pas réactif du tout. Cuis...   \n",
       "17157  excellent bouchon lyonnais cuisine de qualite ...   \n",
       "17158  Très bonne cuisine, service impeccable. Le ser...   \n",
       "17159  Je m'y suis rendue à plusieurs reprises et je ...   \n",
       "\n",
       "                                          review_cleaned  year  month  day  \n",
       "0      trop bon moment accueil plat ambiance tout pas...  2024     12   16  \n",
       "1      toujours aussi goûteux lambiance bonne humeur ...  2024     11   26  \n",
       "2      serveurs serveuses sympas longlet nest tendre ...  2024     11   23  \n",
       "3      excellente soirée petit restaurant peu lécart ...  2024     11   14  \n",
       "4      super moment entre amis plat très délicieux co...  2024     11    1  \n",
       "...                                                  ...   ...    ...  ...  \n",
       "17155  somme allés plusieures fois restaurant bilan a...  2015      7   10  \n",
       "17156  service très lent réactif tout cuisine correct...  2015      6   10  \n",
       "17157  excellent bouchon lyonnais cuisine qualite tre...  2015      5    5  \n",
       "17158  très bonne cuisine service impeccable serveur ...  2015      4   24  \n",
       "17159  rendue plusieurs reprises nai jamais déçue déc...  2015      3    3  \n",
       "\n",
       "[17160 rows x 13 columns]"
      ]
     },
     "execution_count": 26,
     "metadata": {},
     "output_type": "execute_result"
    }
   ],
   "source": [
    "avis_restaurants_cleaned"
   ]
  }
 ],
 "metadata": {
  "kernelspec": {
   "display_name": "Nlp_projet",
   "language": "python",
   "name": "python3"
  },
  "language_info": {
   "codemirror_mode": {
    "name": "ipython",
    "version": 3
   },
   "file_extension": ".py",
   "mimetype": "text/x-python",
   "name": "python",
   "nbconvert_exporter": "python",
   "pygments_lexer": "ipython3",
   "version": "3.12.8"
  }
 },
 "nbformat": 4,
 "nbformat_minor": 2
}
